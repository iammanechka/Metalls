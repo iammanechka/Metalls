{
 "cells": [
  {
   "cell_type": "markdown",
   "metadata": {
    "toc": true
   },
   "source": [
    "<h1>Содержание<span class=\"tocSkip\"></span></h1>\n",
    "<div class=\"toc\"><ul class=\"toc-item\"><li><span><a href=\"#Подготовка-данных\" data-toc-modified-id=\"Подготовка-данных-1\"><span class=\"toc-item-num\">1&nbsp;&nbsp;</span>Подготовка данных</a></span></li><li><span><a href=\"#Анализ-данных\" data-toc-modified-id=\"Анализ-данных-2\"><span class=\"toc-item-num\">2&nbsp;&nbsp;</span>Анализ данных</a></span></li><li><span><a href=\"#Модель\" data-toc-modified-id=\"Модель-3\"><span class=\"toc-item-num\">3&nbsp;&nbsp;</span>Модель</a></span></li><li><span><a href=\"#Общий-вывод\" data-toc-modified-id=\"Общий-вывод-4\"><span class=\"toc-item-num\">4&nbsp;&nbsp;</span>Общий вывод</a></span></li><li><span><a href=\"#Чек-лист-готовности-проекта\" data-toc-modified-id=\"Чек-лист-готовности-проекта-5\"><span class=\"toc-item-num\">5&nbsp;&nbsp;</span>Чек-лист готовности проекта</a></span></li></ul></div>"
   ]
  },
  {
   "cell_type": "markdown",
   "metadata": {},
   "source": [
    "# Восстановление золота из руды"
   ]
  },
  {
   "cell_type": "markdown",
   "metadata": {},
   "source": [
    "Подготовьте прототип модели машинного обучения для «Цифры». Компания разрабатывает решения для эффективной работы промышленных предприятий.\n",
    "\n",
    "Модель должна предсказать коэффициент восстановления золота из золотосодержащей руды. Используйте данные с параметрами добычи и очистки. \n",
    "\n",
    "Модель поможет оптимизировать производство, чтобы не запускать предприятие с убыточными характеристиками.\n",
    "\n",
    "Вам нужно:\n",
    "\n",
    "1. Подготовить данные;\n",
    "2. Провести исследовательский анализ данных;\n",
    "3. Построить и обучить модель.\n",
    "\n",
    "Чтобы выполнить проект, обращайтесь к библиотекам *pandas*, *matplotlib* и *sklearn.* Вам поможет их документация."
   ]
  },
  {
   "cell_type": "markdown",
   "metadata": {},
   "source": [
    "## Подготовка данных"
   ]
  },
  {
   "cell_type": "code",
   "execution_count": 1,
   "metadata": {},
   "outputs": [],
   "source": [
    "import numpy as np\n",
    "import pandas as pd\n",
    "\n",
    "from sklearn.metrics import mean_absolute_error, make_scorer\n",
    "from sklearn.preprocessing import StandardScaler\n",
    "\n",
    "from sklearn.model_selection import cross_val_score\n",
    "\n",
    "from sklearn.tree import DecisionTreeRegressor\n",
    "from sklearn.ensemble import RandomForestRegressor\n",
    "from sklearn.linear_model import LinearRegression\n",
    "\n",
    "from sklearn.dummy import DummyRegressor\n",
    "\n",
    "import matplotlib.pyplot as plt\n",
    "import seaborn as sns\n",
    "\n",
    "import warnings\n",
    "warnings.simplefilter(action='ignore', category=FutureWarning)\n",
    "\n",
    "RANDOM_STATE = 12345\n",
    "pd.options.mode.chained_assignment = None"
   ]
  },
  {
   "cell_type": "code",
   "execution_count": 2,
   "metadata": {},
   "outputs": [],
   "source": [
    "def study(data): \n",
    "    info = display(data.head(10)), data.info(), display(data.describe())"
   ]
  },
  {
   "cell_type": "code",
   "execution_count": 3,
   "metadata": {},
   "outputs": [],
   "source": [
    "#Загружаем данные\n",
    "\n",
    "data_train = pd.read_csv('/datasets/gold_industry_train.csv')"
   ]
  },
  {
   "cell_type": "code",
   "execution_count": 4,
   "metadata": {},
   "outputs": [],
   "source": [
    "#Загружаем данные\n",
    "\n",
    "data_test = pd.read_csv('/datasets/gold_industry_test.csv')"
   ]
  },
  {
   "cell_type": "code",
   "execution_count": 5,
   "metadata": {},
   "outputs": [],
   "source": [
    "#Загружаем данные\n",
    "\n",
    "data_full = pd.read_csv('/datasets/gold_industry_full.csv')"
   ]
  },
  {
   "cell_type": "code",
   "execution_count": 6,
   "metadata": {},
   "outputs": [
    {
     "data": {
      "text/html": [
       "<div>\n",
       "<style scoped>\n",
       "    .dataframe tbody tr th:only-of-type {\n",
       "        vertical-align: middle;\n",
       "    }\n",
       "\n",
       "    .dataframe tbody tr th {\n",
       "        vertical-align: top;\n",
       "    }\n",
       "\n",
       "    .dataframe thead th {\n",
       "        text-align: right;\n",
       "    }\n",
       "</style>\n",
       "<table border=\"1\" class=\"dataframe\">\n",
       "  <thead>\n",
       "    <tr style=\"text-align: right;\">\n",
       "      <th></th>\n",
       "      <th>date</th>\n",
       "      <th>rougher.input.feed_au</th>\n",
       "      <th>rougher.input.feed_ag</th>\n",
       "      <th>rougher.input.feed_pb</th>\n",
       "      <th>rougher.input.feed_sol</th>\n",
       "      <th>rougher.input.feed_rate</th>\n",
       "      <th>rougher.input.feed_size</th>\n",
       "      <th>rougher.input.floatbank10_sulfate</th>\n",
       "      <th>rougher.input.floatbank10_xanthate</th>\n",
       "      <th>rougher.state.floatbank10_a_air</th>\n",
       "      <th>...</th>\n",
       "      <th>secondary_cleaner.output.tail_sol</th>\n",
       "      <th>final.output.concentrate_au</th>\n",
       "      <th>final.output.concentrate_ag</th>\n",
       "      <th>final.output.concentrate_pb</th>\n",
       "      <th>final.output.concentrate_sol</th>\n",
       "      <th>final.output.recovery</th>\n",
       "      <th>final.output.tail_au</th>\n",
       "      <th>final.output.tail_ag</th>\n",
       "      <th>final.output.tail_pb</th>\n",
       "      <th>final.output.tail_sol</th>\n",
       "    </tr>\n",
       "  </thead>\n",
       "  <tbody>\n",
       "    <tr>\n",
       "      <th>0</th>\n",
       "      <td>2016-01-15 00:00:00</td>\n",
       "      <td>6.486150</td>\n",
       "      <td>6.100378</td>\n",
       "      <td>2.284912</td>\n",
       "      <td>36.808594</td>\n",
       "      <td>523.546326</td>\n",
       "      <td>55.486599</td>\n",
       "      <td>11.986616</td>\n",
       "      <td>6.007990</td>\n",
       "      <td>999.706909</td>\n",
       "      <td>...</td>\n",
       "      <td>8.764648</td>\n",
       "      <td>42.192020</td>\n",
       "      <td>6.055403</td>\n",
       "      <td>9.889648</td>\n",
       "      <td>5.507324</td>\n",
       "      <td>70.541216</td>\n",
       "      <td>2.143149</td>\n",
       "      <td>10.411962</td>\n",
       "      <td>0.895447</td>\n",
       "      <td>16.904297</td>\n",
       "    </tr>\n",
       "    <tr>\n",
       "      <th>1</th>\n",
       "      <td>2016-01-15 01:00:00</td>\n",
       "      <td>6.478583</td>\n",
       "      <td>6.161113</td>\n",
       "      <td>2.266033</td>\n",
       "      <td>35.753385</td>\n",
       "      <td>525.290581</td>\n",
       "      <td>57.278666</td>\n",
       "      <td>11.971193</td>\n",
       "      <td>6.005766</td>\n",
       "      <td>1000.286398</td>\n",
       "      <td>...</td>\n",
       "      <td>9.001494</td>\n",
       "      <td>42.701629</td>\n",
       "      <td>6.029369</td>\n",
       "      <td>9.968944</td>\n",
       "      <td>5.257781</td>\n",
       "      <td>69.266198</td>\n",
       "      <td>2.224930</td>\n",
       "      <td>10.462676</td>\n",
       "      <td>0.927452</td>\n",
       "      <td>16.634514</td>\n",
       "    </tr>\n",
       "    <tr>\n",
       "      <th>2</th>\n",
       "      <td>2016-01-15 02:00:00</td>\n",
       "      <td>6.362222</td>\n",
       "      <td>6.116455</td>\n",
       "      <td>2.159622</td>\n",
       "      <td>35.971630</td>\n",
       "      <td>530.026610</td>\n",
       "      <td>57.510649</td>\n",
       "      <td>11.920603</td>\n",
       "      <td>6.197377</td>\n",
       "      <td>999.719565</td>\n",
       "      <td>...</td>\n",
       "      <td>8.842896</td>\n",
       "      <td>42.657501</td>\n",
       "      <td>6.055926</td>\n",
       "      <td>10.213995</td>\n",
       "      <td>5.383759</td>\n",
       "      <td>68.116445</td>\n",
       "      <td>2.257889</td>\n",
       "      <td>10.507046</td>\n",
       "      <td>0.953716</td>\n",
       "      <td>16.208849</td>\n",
       "    </tr>\n",
       "    <tr>\n",
       "      <th>3</th>\n",
       "      <td>2016-01-15 03:00:00</td>\n",
       "      <td>6.118189</td>\n",
       "      <td>6.043309</td>\n",
       "      <td>2.037807</td>\n",
       "      <td>36.862241</td>\n",
       "      <td>542.590390</td>\n",
       "      <td>57.792734</td>\n",
       "      <td>11.630094</td>\n",
       "      <td>6.203177</td>\n",
       "      <td>999.814770</td>\n",
       "      <td>...</td>\n",
       "      <td>9.122857</td>\n",
       "      <td>42.689819</td>\n",
       "      <td>6.047977</td>\n",
       "      <td>9.977019</td>\n",
       "      <td>4.858634</td>\n",
       "      <td>68.347543</td>\n",
       "      <td>2.146849</td>\n",
       "      <td>10.422762</td>\n",
       "      <td>0.883763</td>\n",
       "      <td>16.532835</td>\n",
       "    </tr>\n",
       "    <tr>\n",
       "      <th>4</th>\n",
       "      <td>2016-01-15 04:00:00</td>\n",
       "      <td>5.663707</td>\n",
       "      <td>6.060915</td>\n",
       "      <td>1.786875</td>\n",
       "      <td>34.347666</td>\n",
       "      <td>540.531893</td>\n",
       "      <td>56.047189</td>\n",
       "      <td>10.957755</td>\n",
       "      <td>6.198826</td>\n",
       "      <td>999.678690</td>\n",
       "      <td>...</td>\n",
       "      <td>8.871028</td>\n",
       "      <td>42.774141</td>\n",
       "      <td>6.148599</td>\n",
       "      <td>10.142511</td>\n",
       "      <td>4.939416</td>\n",
       "      <td>66.927016</td>\n",
       "      <td>2.055292</td>\n",
       "      <td>10.360302</td>\n",
       "      <td>0.792826</td>\n",
       "      <td>16.525686</td>\n",
       "    </tr>\n",
       "    <tr>\n",
       "      <th>5</th>\n",
       "      <td>2016-01-15 05:00:00</td>\n",
       "      <td>5.687168</td>\n",
       "      <td>5.801920</td>\n",
       "      <td>1.879351</td>\n",
       "      <td>35.470082</td>\n",
       "      <td>546.173470</td>\n",
       "      <td>57.469578</td>\n",
       "      <td>11.072517</td>\n",
       "      <td>6.200383</td>\n",
       "      <td>999.934134</td>\n",
       "      <td>...</td>\n",
       "      <td>9.302669</td>\n",
       "      <td>41.633678</td>\n",
       "      <td>6.482968</td>\n",
       "      <td>10.049416</td>\n",
       "      <td>5.480257</td>\n",
       "      <td>69.465816</td>\n",
       "      <td>1.918586</td>\n",
       "      <td>10.182708</td>\n",
       "      <td>0.664118</td>\n",
       "      <td>16.999638</td>\n",
       "    </tr>\n",
       "    <tr>\n",
       "      <th>6</th>\n",
       "      <td>2016-01-15 06:00:00</td>\n",
       "      <td>6.038436</td>\n",
       "      <td>6.056253</td>\n",
       "      <td>2.105501</td>\n",
       "      <td>34.920570</td>\n",
       "      <td>523.376439</td>\n",
       "      <td>56.674647</td>\n",
       "      <td>11.535899</td>\n",
       "      <td>6.204974</td>\n",
       "      <td>999.832373</td>\n",
       "      <td>...</td>\n",
       "      <td>9.103047</td>\n",
       "      <td>41.995316</td>\n",
       "      <td>6.533849</td>\n",
       "      <td>10.058141</td>\n",
       "      <td>4.569100</td>\n",
       "      <td>69.300835</td>\n",
       "      <td>2.058913</td>\n",
       "      <td>10.304598</td>\n",
       "      <td>0.807342</td>\n",
       "      <td>16.723575</td>\n",
       "    </tr>\n",
       "    <tr>\n",
       "      <th>7</th>\n",
       "      <td>2016-01-15 07:00:00</td>\n",
       "      <td>6.433854</td>\n",
       "      <td>5.955053</td>\n",
       "      <td>2.310432</td>\n",
       "      <td>36.091386</td>\n",
       "      <td>549.842749</td>\n",
       "      <td>56.730325</td>\n",
       "      <td>12.557906</td>\n",
       "      <td>6.799275</td>\n",
       "      <td>1000.166602</td>\n",
       "      <td>...</td>\n",
       "      <td>9.369209</td>\n",
       "      <td>42.452727</td>\n",
       "      <td>6.130823</td>\n",
       "      <td>9.935481</td>\n",
       "      <td>4.389813</td>\n",
       "      <td>70.230976</td>\n",
       "      <td>2.143437</td>\n",
       "      <td>10.443288</td>\n",
       "      <td>0.949346</td>\n",
       "      <td>16.689959</td>\n",
       "    </tr>\n",
       "    <tr>\n",
       "      <th>8</th>\n",
       "      <td>2016-01-15 08:00:00</td>\n",
       "      <td>6.526612</td>\n",
       "      <td>5.878084</td>\n",
       "      <td>2.391713</td>\n",
       "      <td>35.753879</td>\n",
       "      <td>560.115242</td>\n",
       "      <td>56.649893</td>\n",
       "      <td>13.166128</td>\n",
       "      <td>6.798659</td>\n",
       "      <td>1000.026864</td>\n",
       "      <td>...</td>\n",
       "      <td>9.437044</td>\n",
       "      <td>43.404078</td>\n",
       "      <td>5.834140</td>\n",
       "      <td>10.071156</td>\n",
       "      <td>4.876389</td>\n",
       "      <td>69.688595</td>\n",
       "      <td>2.209881</td>\n",
       "      <td>10.420140</td>\n",
       "      <td>1.065453</td>\n",
       "      <td>17.201948</td>\n",
       "    </tr>\n",
       "    <tr>\n",
       "      <th>9</th>\n",
       "      <td>2016-01-15 09:00:00</td>\n",
       "      <td>6.747693</td>\n",
       "      <td>5.974832</td>\n",
       "      <td>2.539114</td>\n",
       "      <td>38.553938</td>\n",
       "      <td>566.616045</td>\n",
       "      <td>60.308763</td>\n",
       "      <td>13.996130</td>\n",
       "      <td>6.800263</td>\n",
       "      <td>1000.332327</td>\n",
       "      <td>...</td>\n",
       "      <td>9.582874</td>\n",
       "      <td>43.487291</td>\n",
       "      <td>5.706261</td>\n",
       "      <td>10.242511</td>\n",
       "      <td>5.214161</td>\n",
       "      <td>70.973641</td>\n",
       "      <td>2.200997</td>\n",
       "      <td>10.473539</td>\n",
       "      <td>1.171183</td>\n",
       "      <td>17.717049</td>\n",
       "    </tr>\n",
       "  </tbody>\n",
       "</table>\n",
       "<p>10 rows × 87 columns</p>\n",
       "</div>"
      ],
      "text/plain": [
       "                  date  rougher.input.feed_au  rougher.input.feed_ag  \\\n",
       "0  2016-01-15 00:00:00               6.486150               6.100378   \n",
       "1  2016-01-15 01:00:00               6.478583               6.161113   \n",
       "2  2016-01-15 02:00:00               6.362222               6.116455   \n",
       "3  2016-01-15 03:00:00               6.118189               6.043309   \n",
       "4  2016-01-15 04:00:00               5.663707               6.060915   \n",
       "5  2016-01-15 05:00:00               5.687168               5.801920   \n",
       "6  2016-01-15 06:00:00               6.038436               6.056253   \n",
       "7  2016-01-15 07:00:00               6.433854               5.955053   \n",
       "8  2016-01-15 08:00:00               6.526612               5.878084   \n",
       "9  2016-01-15 09:00:00               6.747693               5.974832   \n",
       "\n",
       "   rougher.input.feed_pb  rougher.input.feed_sol  rougher.input.feed_rate  \\\n",
       "0               2.284912               36.808594               523.546326   \n",
       "1               2.266033               35.753385               525.290581   \n",
       "2               2.159622               35.971630               530.026610   \n",
       "3               2.037807               36.862241               542.590390   \n",
       "4               1.786875               34.347666               540.531893   \n",
       "5               1.879351               35.470082               546.173470   \n",
       "6               2.105501               34.920570               523.376439   \n",
       "7               2.310432               36.091386               549.842749   \n",
       "8               2.391713               35.753879               560.115242   \n",
       "9               2.539114               38.553938               566.616045   \n",
       "\n",
       "   rougher.input.feed_size  rougher.input.floatbank10_sulfate  \\\n",
       "0                55.486599                          11.986616   \n",
       "1                57.278666                          11.971193   \n",
       "2                57.510649                          11.920603   \n",
       "3                57.792734                          11.630094   \n",
       "4                56.047189                          10.957755   \n",
       "5                57.469578                          11.072517   \n",
       "6                56.674647                          11.535899   \n",
       "7                56.730325                          12.557906   \n",
       "8                56.649893                          13.166128   \n",
       "9                60.308763                          13.996130   \n",
       "\n",
       "   rougher.input.floatbank10_xanthate  rougher.state.floatbank10_a_air  ...  \\\n",
       "0                            6.007990                       999.706909  ...   \n",
       "1                            6.005766                      1000.286398  ...   \n",
       "2                            6.197377                       999.719565  ...   \n",
       "3                            6.203177                       999.814770  ...   \n",
       "4                            6.198826                       999.678690  ...   \n",
       "5                            6.200383                       999.934134  ...   \n",
       "6                            6.204974                       999.832373  ...   \n",
       "7                            6.799275                      1000.166602  ...   \n",
       "8                            6.798659                      1000.026864  ...   \n",
       "9                            6.800263                      1000.332327  ...   \n",
       "\n",
       "   secondary_cleaner.output.tail_sol  final.output.concentrate_au  \\\n",
       "0                           8.764648                    42.192020   \n",
       "1                           9.001494                    42.701629   \n",
       "2                           8.842896                    42.657501   \n",
       "3                           9.122857                    42.689819   \n",
       "4                           8.871028                    42.774141   \n",
       "5                           9.302669                    41.633678   \n",
       "6                           9.103047                    41.995316   \n",
       "7                           9.369209                    42.452727   \n",
       "8                           9.437044                    43.404078   \n",
       "9                           9.582874                    43.487291   \n",
       "\n",
       "   final.output.concentrate_ag  final.output.concentrate_pb  \\\n",
       "0                     6.055403                     9.889648   \n",
       "1                     6.029369                     9.968944   \n",
       "2                     6.055926                    10.213995   \n",
       "3                     6.047977                     9.977019   \n",
       "4                     6.148599                    10.142511   \n",
       "5                     6.482968                    10.049416   \n",
       "6                     6.533849                    10.058141   \n",
       "7                     6.130823                     9.935481   \n",
       "8                     5.834140                    10.071156   \n",
       "9                     5.706261                    10.242511   \n",
       "\n",
       "   final.output.concentrate_sol  final.output.recovery  final.output.tail_au  \\\n",
       "0                      5.507324              70.541216              2.143149   \n",
       "1                      5.257781              69.266198              2.224930   \n",
       "2                      5.383759              68.116445              2.257889   \n",
       "3                      4.858634              68.347543              2.146849   \n",
       "4                      4.939416              66.927016              2.055292   \n",
       "5                      5.480257              69.465816              1.918586   \n",
       "6                      4.569100              69.300835              2.058913   \n",
       "7                      4.389813              70.230976              2.143437   \n",
       "8                      4.876389              69.688595              2.209881   \n",
       "9                      5.214161              70.973641              2.200997   \n",
       "\n",
       "   final.output.tail_ag  final.output.tail_pb  final.output.tail_sol  \n",
       "0             10.411962              0.895447              16.904297  \n",
       "1             10.462676              0.927452              16.634514  \n",
       "2             10.507046              0.953716              16.208849  \n",
       "3             10.422762              0.883763              16.532835  \n",
       "4             10.360302              0.792826              16.525686  \n",
       "5             10.182708              0.664118              16.999638  \n",
       "6             10.304598              0.807342              16.723575  \n",
       "7             10.443288              0.949346              16.689959  \n",
       "8             10.420140              1.065453              17.201948  \n",
       "9             10.473539              1.171183              17.717049  \n",
       "\n",
       "[10 rows x 87 columns]"
      ]
     },
     "metadata": {},
     "output_type": "display_data"
    },
    {
     "name": "stdout",
     "output_type": "stream",
     "text": [
      "<class 'pandas.core.frame.DataFrame'>\n",
      "RangeIndex: 14579 entries, 0 to 14578\n",
      "Data columns (total 87 columns):\n",
      " #   Column                                              Non-Null Count  Dtype  \n",
      "---  ------                                              --------------  -----  \n",
      " 0   date                                                14579 non-null  object \n",
      " 1   rougher.input.feed_au                               14579 non-null  float64\n",
      " 2   rougher.input.feed_ag                               14579 non-null  float64\n",
      " 3   rougher.input.feed_pb                               14507 non-null  float64\n",
      " 4   rougher.input.feed_sol                              14502 non-null  float64\n",
      " 5   rougher.input.feed_rate                             14572 non-null  float64\n",
      " 6   rougher.input.feed_size                             14478 non-null  float64\n",
      " 7   rougher.input.floatbank10_sulfate                   14548 non-null  float64\n",
      " 8   rougher.input.floatbank10_xanthate                  14572 non-null  float64\n",
      " 9   rougher.state.floatbank10_a_air                     14579 non-null  float64\n",
      " 10  rougher.state.floatbank10_a_level                   14579 non-null  float64\n",
      " 11  rougher.state.floatbank10_b_air                     14579 non-null  float64\n",
      " 12  rougher.state.floatbank10_b_level                   14579 non-null  float64\n",
      " 13  rougher.state.floatbank10_c_air                     14579 non-null  float64\n",
      " 14  rougher.state.floatbank10_c_level                   14579 non-null  float64\n",
      " 15  rougher.state.floatbank10_d_air                     14579 non-null  float64\n",
      " 16  rougher.state.floatbank10_d_level                   14579 non-null  float64\n",
      " 17  rougher.state.floatbank10_e_air                     14150 non-null  float64\n",
      " 18  rougher.state.floatbank10_e_level                   14579 non-null  float64\n",
      " 19  rougher.state.floatbank10_f_air                     14579 non-null  float64\n",
      " 20  rougher.state.floatbank10_f_level                   14579 non-null  float64\n",
      " 21  rougher.input.floatbank11_sulfate                   14543 non-null  float64\n",
      " 22  rougher.input.floatbank11_xanthate                  14172 non-null  float64\n",
      " 23  rougher.calculation.sulfate_to_au_concentrate       14578 non-null  float64\n",
      " 24  rougher.calculation.floatbank10_sulfate_to_au_feed  14578 non-null  float64\n",
      " 25  rougher.calculation.floatbank11_sulfate_to_au_feed  14578 non-null  float64\n",
      " 26  rougher.calculation.au_pb_ratio                     14579 non-null  float64\n",
      " 27  rougher.output.concentrate_au                       14579 non-null  float64\n",
      " 28  rougher.output.concentrate_ag                       14579 non-null  float64\n",
      " 29  rougher.output.concentrate_pb                       14579 non-null  float64\n",
      " 30  rougher.output.concentrate_sol                      14561 non-null  float64\n",
      " 31  rougher.output.recovery                             14579 non-null  float64\n",
      " 32  rougher.output.tail_au                              14579 non-null  float64\n",
      " 33  rougher.output.tail_ag                              14578 non-null  float64\n",
      " 34  rougher.output.tail_pb                              14579 non-null  float64\n",
      " 35  rougher.output.tail_sol                             14579 non-null  float64\n",
      " 36  primary_cleaner.input.sulfate                       14556 non-null  float64\n",
      " 37  primary_cleaner.input.depressant                    14551 non-null  float64\n",
      " 38  primary_cleaner.input.feed_size                     14579 non-null  float64\n",
      " 39  primary_cleaner.input.xanthate                      14518 non-null  float64\n",
      " 40  primary_cleaner.state.floatbank8_a_air              14576 non-null  float64\n",
      " 41  primary_cleaner.state.floatbank8_a_level            14579 non-null  float64\n",
      " 42  primary_cleaner.state.floatbank8_b_air              14576 non-null  float64\n",
      " 43  primary_cleaner.state.floatbank8_b_level            14579 non-null  float64\n",
      " 44  primary_cleaner.state.floatbank8_c_air              14579 non-null  float64\n",
      " 45  primary_cleaner.state.floatbank8_c_level            14579 non-null  float64\n",
      " 46  primary_cleaner.state.floatbank8_d_air              14578 non-null  float64\n",
      " 47  primary_cleaner.state.floatbank8_d_level            14579 non-null  float64\n",
      " 48  primary_cleaner.output.concentrate_au               14579 non-null  float64\n",
      " 49  primary_cleaner.output.concentrate_ag               14579 non-null  float64\n",
      " 50  primary_cleaner.output.concentrate_pb               14491 non-null  float64\n",
      " 51  primary_cleaner.output.concentrate_sol              14314 non-null  float64\n",
      " 52  primary_cleaner.output.tail_au                      14579 non-null  float64\n",
      " 53  primary_cleaner.output.tail_ag                      14575 non-null  float64\n",
      " 54  primary_cleaner.output.tail_pb                      14573 non-null  float64\n",
      " 55  primary_cleaner.output.tail_sol                     14534 non-null  float64\n",
      " 56  secondary_cleaner.state.floatbank2_a_air            14485 non-null  float64\n",
      " 57  secondary_cleaner.state.floatbank2_a_level          14579 non-null  float64\n",
      " 58  secondary_cleaner.state.floatbank2_b_air            14557 non-null  float64\n",
      " 59  secondary_cleaner.state.floatbank2_b_level          14579 non-null  float64\n",
      " 60  secondary_cleaner.state.floatbank3_a_air            14567 non-null  float64\n",
      " 61  secondary_cleaner.state.floatbank3_a_level          14579 non-null  float64\n",
      " 62  secondary_cleaner.state.floatbank3_b_air            14579 non-null  float64\n",
      " 63  secondary_cleaner.state.floatbank3_b_level          14579 non-null  float64\n",
      " 64  secondary_cleaner.state.floatbank4_a_air            14574 non-null  float64\n",
      " 65  secondary_cleaner.state.floatbank4_a_level          14579 non-null  float64\n",
      " 66  secondary_cleaner.state.floatbank4_b_air            14579 non-null  float64\n",
      " 67  secondary_cleaner.state.floatbank4_b_level          14579 non-null  float64\n",
      " 68  secondary_cleaner.state.floatbank5_a_air            14579 non-null  float64\n",
      " 69  secondary_cleaner.state.floatbank5_a_level          14579 non-null  float64\n",
      " 70  secondary_cleaner.state.floatbank5_b_air            14579 non-null  float64\n",
      " 71  secondary_cleaner.state.floatbank5_b_level          14579 non-null  float64\n",
      " 72  secondary_cleaner.state.floatbank6_a_air            14578 non-null  float64\n",
      " 73  secondary_cleaner.state.floatbank6_a_level          14579 non-null  float64\n",
      " 74  secondary_cleaner.output.tail_au                    14579 non-null  float64\n",
      " 75  secondary_cleaner.output.tail_ag                    14578 non-null  float64\n",
      " 76  secondary_cleaner.output.tail_pb                    14575 non-null  float64\n",
      " 77  secondary_cleaner.output.tail_sol                   13659 non-null  float64\n",
      " 78  final.output.concentrate_au                         14579 non-null  float64\n",
      " 79  final.output.concentrate_ag                         14578 non-null  float64\n",
      " 80  final.output.concentrate_pb                         14578 non-null  float64\n",
      " 81  final.output.concentrate_sol                        14387 non-null  float64\n",
      " 82  final.output.recovery                               14579 non-null  float64\n",
      " 83  final.output.tail_au                                14579 non-null  float64\n",
      " 84  final.output.tail_ag                                14578 non-null  float64\n",
      " 85  final.output.tail_pb                                14504 non-null  float64\n",
      " 86  final.output.tail_sol                               14574 non-null  float64\n",
      "dtypes: float64(86), object(1)\n",
      "memory usage: 9.7+ MB\n"
     ]
    },
    {
     "data": {
      "text/html": [
       "<div>\n",
       "<style scoped>\n",
       "    .dataframe tbody tr th:only-of-type {\n",
       "        vertical-align: middle;\n",
       "    }\n",
       "\n",
       "    .dataframe tbody tr th {\n",
       "        vertical-align: top;\n",
       "    }\n",
       "\n",
       "    .dataframe thead th {\n",
       "        text-align: right;\n",
       "    }\n",
       "</style>\n",
       "<table border=\"1\" class=\"dataframe\">\n",
       "  <thead>\n",
       "    <tr style=\"text-align: right;\">\n",
       "      <th></th>\n",
       "      <th>rougher.input.feed_au</th>\n",
       "      <th>rougher.input.feed_ag</th>\n",
       "      <th>rougher.input.feed_pb</th>\n",
       "      <th>rougher.input.feed_sol</th>\n",
       "      <th>rougher.input.feed_rate</th>\n",
       "      <th>rougher.input.feed_size</th>\n",
       "      <th>rougher.input.floatbank10_sulfate</th>\n",
       "      <th>rougher.input.floatbank10_xanthate</th>\n",
       "      <th>rougher.state.floatbank10_a_air</th>\n",
       "      <th>rougher.state.floatbank10_a_level</th>\n",
       "      <th>...</th>\n",
       "      <th>secondary_cleaner.output.tail_sol</th>\n",
       "      <th>final.output.concentrate_au</th>\n",
       "      <th>final.output.concentrate_ag</th>\n",
       "      <th>final.output.concentrate_pb</th>\n",
       "      <th>final.output.concentrate_sol</th>\n",
       "      <th>final.output.recovery</th>\n",
       "      <th>final.output.tail_au</th>\n",
       "      <th>final.output.tail_ag</th>\n",
       "      <th>final.output.tail_pb</th>\n",
       "      <th>final.output.tail_sol</th>\n",
       "    </tr>\n",
       "  </thead>\n",
       "  <tbody>\n",
       "    <tr>\n",
       "      <th>count</th>\n",
       "      <td>14579.000000</td>\n",
       "      <td>14579.000000</td>\n",
       "      <td>14507.000000</td>\n",
       "      <td>14502.000000</td>\n",
       "      <td>14572.000000</td>\n",
       "      <td>14478.000000</td>\n",
       "      <td>14548.000000</td>\n",
       "      <td>14572.000000</td>\n",
       "      <td>14579.000000</td>\n",
       "      <td>14579.000000</td>\n",
       "      <td>...</td>\n",
       "      <td>13659.000000</td>\n",
       "      <td>14579.000000</td>\n",
       "      <td>14578.000000</td>\n",
       "      <td>14578.000000</td>\n",
       "      <td>14387.000000</td>\n",
       "      <td>14579.000000</td>\n",
       "      <td>14579.000000</td>\n",
       "      <td>14578.000000</td>\n",
       "      <td>14504.000000</td>\n",
       "      <td>14574.000000</td>\n",
       "    </tr>\n",
       "    <tr>\n",
       "      <th>mean</th>\n",
       "      <td>8.352941</td>\n",
       "      <td>8.877460</td>\n",
       "      <td>3.604221</td>\n",
       "      <td>36.561420</td>\n",
       "      <td>474.332784</td>\n",
       "      <td>58.922712</td>\n",
       "      <td>12.427399</td>\n",
       "      <td>5.994854</td>\n",
       "      <td>1104.208278</td>\n",
       "      <td>-379.367166</td>\n",
       "      <td>...</td>\n",
       "      <td>7.111347</td>\n",
       "      <td>43.979499</td>\n",
       "      <td>5.192145</td>\n",
       "      <td>9.923809</td>\n",
       "      <td>9.566676</td>\n",
       "      <td>66.759066</td>\n",
       "      <td>3.087939</td>\n",
       "      <td>9.731972</td>\n",
       "      <td>2.719985</td>\n",
       "      <td>10.612745</td>\n",
       "    </tr>\n",
       "    <tr>\n",
       "      <th>std</th>\n",
       "      <td>1.934376</td>\n",
       "      <td>1.922536</td>\n",
       "      <td>1.056063</td>\n",
       "      <td>5.209823</td>\n",
       "      <td>108.503552</td>\n",
       "      <td>22.407410</td>\n",
       "      <td>3.428939</td>\n",
       "      <td>1.152873</td>\n",
       "      <td>162.235606</td>\n",
       "      <td>94.652311</td>\n",
       "      <td>...</td>\n",
       "      <td>3.909951</td>\n",
       "      <td>5.471437</td>\n",
       "      <td>1.388014</td>\n",
       "      <td>1.706976</td>\n",
       "      <td>2.805654</td>\n",
       "      <td>10.619709</td>\n",
       "      <td>0.915187</td>\n",
       "      <td>2.358143</td>\n",
       "      <td>0.958929</td>\n",
       "      <td>2.871075</td>\n",
       "    </tr>\n",
       "    <tr>\n",
       "      <th>min</th>\n",
       "      <td>0.010000</td>\n",
       "      <td>0.010000</td>\n",
       "      <td>0.010000</td>\n",
       "      <td>0.010000</td>\n",
       "      <td>0.002986</td>\n",
       "      <td>0.049194</td>\n",
       "      <td>0.001083</td>\n",
       "      <td>0.000568</td>\n",
       "      <td>-0.042069</td>\n",
       "      <td>-657.949759</td>\n",
       "      <td>...</td>\n",
       "      <td>0.000000</td>\n",
       "      <td>0.000000</td>\n",
       "      <td>0.000000</td>\n",
       "      <td>0.000000</td>\n",
       "      <td>0.000000</td>\n",
       "      <td>0.000000</td>\n",
       "      <td>0.000000</td>\n",
       "      <td>0.000000</td>\n",
       "      <td>0.000000</td>\n",
       "      <td>0.000000</td>\n",
       "    </tr>\n",
       "    <tr>\n",
       "      <th>25%</th>\n",
       "      <td>6.932996</td>\n",
       "      <td>7.341922</td>\n",
       "      <td>2.880490</td>\n",
       "      <td>34.093951</td>\n",
       "      <td>411.048483</td>\n",
       "      <td>47.278490</td>\n",
       "      <td>10.002832</td>\n",
       "      <td>5.304167</td>\n",
       "      <td>999.644856</td>\n",
       "      <td>-499.861797</td>\n",
       "      <td>...</td>\n",
       "      <td>3.784897</td>\n",
       "      <td>43.345906</td>\n",
       "      <td>4.283347</td>\n",
       "      <td>9.103183</td>\n",
       "      <td>7.860030</td>\n",
       "      <td>63.114596</td>\n",
       "      <td>2.505287</td>\n",
       "      <td>8.088928</td>\n",
       "      <td>2.036512</td>\n",
       "      <td>9.013412</td>\n",
       "    </tr>\n",
       "    <tr>\n",
       "      <th>50%</th>\n",
       "      <td>8.225284</td>\n",
       "      <td>8.715859</td>\n",
       "      <td>3.532399</td>\n",
       "      <td>37.097511</td>\n",
       "      <td>498.187968</td>\n",
       "      <td>54.361187</td>\n",
       "      <td>12.003320</td>\n",
       "      <td>6.003053</td>\n",
       "      <td>1000.982624</td>\n",
       "      <td>-300.314199</td>\n",
       "      <td>...</td>\n",
       "      <td>7.629968</td>\n",
       "      <td>44.975014</td>\n",
       "      <td>5.118647</td>\n",
       "      <td>10.046455</td>\n",
       "      <td>9.301970</td>\n",
       "      <td>67.962788</td>\n",
       "      <td>3.029238</td>\n",
       "      <td>9.818512</td>\n",
       "      <td>2.774847</td>\n",
       "      <td>10.670515</td>\n",
       "    </tr>\n",
       "    <tr>\n",
       "      <th>75%</th>\n",
       "      <td>9.832210</td>\n",
       "      <td>10.255843</td>\n",
       "      <td>4.257282</td>\n",
       "      <td>39.899799</td>\n",
       "      <td>549.586552</td>\n",
       "      <td>64.464926</td>\n",
       "      <td>14.929903</td>\n",
       "      <td>6.796632</td>\n",
       "      <td>1292.663971</td>\n",
       "      <td>-299.989315</td>\n",
       "      <td>...</td>\n",
       "      <td>10.367050</td>\n",
       "      <td>46.275153</td>\n",
       "      <td>5.925380</td>\n",
       "      <td>10.981203</td>\n",
       "      <td>11.001573</td>\n",
       "      <td>72.598187</td>\n",
       "      <td>3.614098</td>\n",
       "      <td>11.169187</td>\n",
       "      <td>3.353845</td>\n",
       "      <td>12.130827</td>\n",
       "    </tr>\n",
       "    <tr>\n",
       "      <th>max</th>\n",
       "      <td>13.731330</td>\n",
       "      <td>14.596026</td>\n",
       "      <td>7.052325</td>\n",
       "      <td>53.475325</td>\n",
       "      <td>717.508837</td>\n",
       "      <td>484.967466</td>\n",
       "      <td>36.118275</td>\n",
       "      <td>9.703448</td>\n",
       "      <td>1512.299531</td>\n",
       "      <td>-273.776101</td>\n",
       "      <td>...</td>\n",
       "      <td>26.000772</td>\n",
       "      <td>52.756638</td>\n",
       "      <td>16.001945</td>\n",
       "      <td>16.705297</td>\n",
       "      <td>19.423912</td>\n",
       "      <td>100.000000</td>\n",
       "      <td>8.245022</td>\n",
       "      <td>19.552149</td>\n",
       "      <td>5.804178</td>\n",
       "      <td>22.317730</td>\n",
       "    </tr>\n",
       "  </tbody>\n",
       "</table>\n",
       "<p>8 rows × 86 columns</p>\n",
       "</div>"
      ],
      "text/plain": [
       "       rougher.input.feed_au  rougher.input.feed_ag  rougher.input.feed_pb  \\\n",
       "count           14579.000000           14579.000000           14507.000000   \n",
       "mean                8.352941               8.877460               3.604221   \n",
       "std                 1.934376               1.922536               1.056063   \n",
       "min                 0.010000               0.010000               0.010000   \n",
       "25%                 6.932996               7.341922               2.880490   \n",
       "50%                 8.225284               8.715859               3.532399   \n",
       "75%                 9.832210              10.255843               4.257282   \n",
       "max                13.731330              14.596026               7.052325   \n",
       "\n",
       "       rougher.input.feed_sol  rougher.input.feed_rate  \\\n",
       "count            14502.000000             14572.000000   \n",
       "mean                36.561420               474.332784   \n",
       "std                  5.209823               108.503552   \n",
       "min                  0.010000                 0.002986   \n",
       "25%                 34.093951               411.048483   \n",
       "50%                 37.097511               498.187968   \n",
       "75%                 39.899799               549.586552   \n",
       "max                 53.475325               717.508837   \n",
       "\n",
       "       rougher.input.feed_size  rougher.input.floatbank10_sulfate  \\\n",
       "count             14478.000000                       14548.000000   \n",
       "mean                 58.922712                          12.427399   \n",
       "std                  22.407410                           3.428939   \n",
       "min                   0.049194                           0.001083   \n",
       "25%                  47.278490                          10.002832   \n",
       "50%                  54.361187                          12.003320   \n",
       "75%                  64.464926                          14.929903   \n",
       "max                 484.967466                          36.118275   \n",
       "\n",
       "       rougher.input.floatbank10_xanthate  rougher.state.floatbank10_a_air  \\\n",
       "count                        14572.000000                     14579.000000   \n",
       "mean                             5.994854                      1104.208278   \n",
       "std                              1.152873                       162.235606   \n",
       "min                              0.000568                        -0.042069   \n",
       "25%                              5.304167                       999.644856   \n",
       "50%                              6.003053                      1000.982624   \n",
       "75%                              6.796632                      1292.663971   \n",
       "max                              9.703448                      1512.299531   \n",
       "\n",
       "       rougher.state.floatbank10_a_level  ...  \\\n",
       "count                       14579.000000  ...   \n",
       "mean                         -379.367166  ...   \n",
       "std                            94.652311  ...   \n",
       "min                          -657.949759  ...   \n",
       "25%                          -499.861797  ...   \n",
       "50%                          -300.314199  ...   \n",
       "75%                          -299.989315  ...   \n",
       "max                          -273.776101  ...   \n",
       "\n",
       "       secondary_cleaner.output.tail_sol  final.output.concentrate_au  \\\n",
       "count                       13659.000000                 14579.000000   \n",
       "mean                            7.111347                    43.979499   \n",
       "std                             3.909951                     5.471437   \n",
       "min                             0.000000                     0.000000   \n",
       "25%                             3.784897                    43.345906   \n",
       "50%                             7.629968                    44.975014   \n",
       "75%                            10.367050                    46.275153   \n",
       "max                            26.000772                    52.756638   \n",
       "\n",
       "       final.output.concentrate_ag  final.output.concentrate_pb  \\\n",
       "count                 14578.000000                 14578.000000   \n",
       "mean                      5.192145                     9.923809   \n",
       "std                       1.388014                     1.706976   \n",
       "min                       0.000000                     0.000000   \n",
       "25%                       4.283347                     9.103183   \n",
       "50%                       5.118647                    10.046455   \n",
       "75%                       5.925380                    10.981203   \n",
       "max                      16.001945                    16.705297   \n",
       "\n",
       "       final.output.concentrate_sol  final.output.recovery  \\\n",
       "count                  14387.000000           14579.000000   \n",
       "mean                       9.566676              66.759066   \n",
       "std                        2.805654              10.619709   \n",
       "min                        0.000000               0.000000   \n",
       "25%                        7.860030              63.114596   \n",
       "50%                        9.301970              67.962788   \n",
       "75%                       11.001573              72.598187   \n",
       "max                       19.423912             100.000000   \n",
       "\n",
       "       final.output.tail_au  final.output.tail_ag  final.output.tail_pb  \\\n",
       "count          14579.000000          14578.000000          14504.000000   \n",
       "mean               3.087939              9.731972              2.719985   \n",
       "std                0.915187              2.358143              0.958929   \n",
       "min                0.000000              0.000000              0.000000   \n",
       "25%                2.505287              8.088928              2.036512   \n",
       "50%                3.029238              9.818512              2.774847   \n",
       "75%                3.614098             11.169187              3.353845   \n",
       "max                8.245022             19.552149              5.804178   \n",
       "\n",
       "       final.output.tail_sol  \n",
       "count           14574.000000  \n",
       "mean               10.612745  \n",
       "std                 2.871075  \n",
       "min                 0.000000  \n",
       "25%                 9.013412  \n",
       "50%                10.670515  \n",
       "75%                12.130827  \n",
       "max                22.317730  \n",
       "\n",
       "[8 rows x 86 columns]"
      ]
     },
     "metadata": {},
     "output_type": "display_data"
    }
   ],
   "source": [
    "#Посмотрим данные обучающей выборки\n",
    "\n",
    "study(data_train)"
   ]
  },
  {
   "cell_type": "code",
   "execution_count": 7,
   "metadata": {},
   "outputs": [
    {
     "data": {
      "text/html": [
       "<div>\n",
       "<style scoped>\n",
       "    .dataframe tbody tr th:only-of-type {\n",
       "        vertical-align: middle;\n",
       "    }\n",
       "\n",
       "    .dataframe tbody tr th {\n",
       "        vertical-align: top;\n",
       "    }\n",
       "\n",
       "    .dataframe thead th {\n",
       "        text-align: right;\n",
       "    }\n",
       "</style>\n",
       "<table border=\"1\" class=\"dataframe\">\n",
       "  <thead>\n",
       "    <tr style=\"text-align: right;\">\n",
       "      <th></th>\n",
       "      <th>date</th>\n",
       "      <th>rougher.input.feed_au</th>\n",
       "      <th>rougher.input.feed_ag</th>\n",
       "      <th>rougher.input.feed_pb</th>\n",
       "      <th>rougher.input.feed_sol</th>\n",
       "      <th>rougher.input.feed_rate</th>\n",
       "      <th>rougher.input.feed_size</th>\n",
       "      <th>rougher.input.floatbank10_sulfate</th>\n",
       "      <th>rougher.input.floatbank10_xanthate</th>\n",
       "      <th>rougher.state.floatbank10_a_air</th>\n",
       "      <th>...</th>\n",
       "      <th>secondary_cleaner.state.floatbank4_a_air</th>\n",
       "      <th>secondary_cleaner.state.floatbank4_a_level</th>\n",
       "      <th>secondary_cleaner.state.floatbank4_b_air</th>\n",
       "      <th>secondary_cleaner.state.floatbank4_b_level</th>\n",
       "      <th>secondary_cleaner.state.floatbank5_a_air</th>\n",
       "      <th>secondary_cleaner.state.floatbank5_a_level</th>\n",
       "      <th>secondary_cleaner.state.floatbank5_b_air</th>\n",
       "      <th>secondary_cleaner.state.floatbank5_b_level</th>\n",
       "      <th>secondary_cleaner.state.floatbank6_a_air</th>\n",
       "      <th>secondary_cleaner.state.floatbank6_a_level</th>\n",
       "    </tr>\n",
       "  </thead>\n",
       "  <tbody>\n",
       "    <tr>\n",
       "      <th>0</th>\n",
       "      <td>2017-12-09 14:59:59</td>\n",
       "      <td>4.365491</td>\n",
       "      <td>6.158718</td>\n",
       "      <td>3.875727</td>\n",
       "      <td>39.135119</td>\n",
       "      <td>555.820208</td>\n",
       "      <td>94.544358</td>\n",
       "      <td>6.146982</td>\n",
       "      <td>9.308612</td>\n",
       "      <td>1196.238112</td>\n",
       "      <td>...</td>\n",
       "      <td>23.018622</td>\n",
       "      <td>-500.492702</td>\n",
       "      <td>20.020205</td>\n",
       "      <td>-500.220296</td>\n",
       "      <td>17.963512</td>\n",
       "      <td>-499.939490</td>\n",
       "      <td>12.990306</td>\n",
       "      <td>-500.080993</td>\n",
       "      <td>19.990336</td>\n",
       "      <td>-499.191575</td>\n",
       "    </tr>\n",
       "    <tr>\n",
       "      <th>1</th>\n",
       "      <td>2017-12-09 15:59:59</td>\n",
       "      <td>4.362781</td>\n",
       "      <td>6.048130</td>\n",
       "      <td>3.902537</td>\n",
       "      <td>39.713906</td>\n",
       "      <td>544.731687</td>\n",
       "      <td>123.742430</td>\n",
       "      <td>6.210119</td>\n",
       "      <td>9.297709</td>\n",
       "      <td>1201.904177</td>\n",
       "      <td>...</td>\n",
       "      <td>23.024963</td>\n",
       "      <td>-501.153409</td>\n",
       "      <td>20.054122</td>\n",
       "      <td>-500.314711</td>\n",
       "      <td>17.979515</td>\n",
       "      <td>-499.272871</td>\n",
       "      <td>12.992404</td>\n",
       "      <td>-499.976268</td>\n",
       "      <td>20.013986</td>\n",
       "      <td>-500.625471</td>\n",
       "    </tr>\n",
       "    <tr>\n",
       "      <th>2</th>\n",
       "      <td>2017-12-09 16:59:59</td>\n",
       "      <td>5.081681</td>\n",
       "      <td>6.082745</td>\n",
       "      <td>4.564078</td>\n",
       "      <td>37.208683</td>\n",
       "      <td>558.155110</td>\n",
       "      <td>82.610855</td>\n",
       "      <td>7.363824</td>\n",
       "      <td>9.003562</td>\n",
       "      <td>1200.826926</td>\n",
       "      <td>...</td>\n",
       "      <td>22.993827</td>\n",
       "      <td>-501.559663</td>\n",
       "      <td>20.029144</td>\n",
       "      <td>-500.000662</td>\n",
       "      <td>18.012723</td>\n",
       "      <td>-500.024764</td>\n",
       "      <td>13.016445</td>\n",
       "      <td>-500.058432</td>\n",
       "      <td>19.973767</td>\n",
       "      <td>-501.394155</td>\n",
       "    </tr>\n",
       "    <tr>\n",
       "      <th>3</th>\n",
       "      <td>2017-12-09 17:59:59</td>\n",
       "      <td>5.145949</td>\n",
       "      <td>6.084374</td>\n",
       "      <td>4.768124</td>\n",
       "      <td>36.808874</td>\n",
       "      <td>539.713765</td>\n",
       "      <td>77.984784</td>\n",
       "      <td>6.927072</td>\n",
       "      <td>8.955597</td>\n",
       "      <td>1199.292489</td>\n",
       "      <td>...</td>\n",
       "      <td>23.032807</td>\n",
       "      <td>-501.287889</td>\n",
       "      <td>19.977466</td>\n",
       "      <td>-500.159903</td>\n",
       "      <td>17.980463</td>\n",
       "      <td>-500.504602</td>\n",
       "      <td>12.949071</td>\n",
       "      <td>-500.009937</td>\n",
       "      <td>20.010332</td>\n",
       "      <td>-508.337973</td>\n",
       "    </tr>\n",
       "    <tr>\n",
       "      <th>4</th>\n",
       "      <td>2017-12-09 18:59:59</td>\n",
       "      <td>5.735249</td>\n",
       "      <td>6.165220</td>\n",
       "      <td>4.512346</td>\n",
       "      <td>37.810642</td>\n",
       "      <td>558.713584</td>\n",
       "      <td>86.434874</td>\n",
       "      <td>7.823471</td>\n",
       "      <td>7.490356</td>\n",
       "      <td>1198.005449</td>\n",
       "      <td>...</td>\n",
       "      <td>23.001911</td>\n",
       "      <td>-499.947838</td>\n",
       "      <td>20.023735</td>\n",
       "      <td>-499.713680</td>\n",
       "      <td>17.990955</td>\n",
       "      <td>-500.334769</td>\n",
       "      <td>13.007523</td>\n",
       "      <td>-499.968459</td>\n",
       "      <td>19.995999</td>\n",
       "      <td>-499.788805</td>\n",
       "    </tr>\n",
       "    <tr>\n",
       "      <th>5</th>\n",
       "      <td>2017-12-09 19:59:59</td>\n",
       "      <td>5.848338</td>\n",
       "      <td>6.234198</td>\n",
       "      <td>4.468803</td>\n",
       "      <td>37.816555</td>\n",
       "      <td>547.515088</td>\n",
       "      <td>85.875864</td>\n",
       "      <td>8.040386</td>\n",
       "      <td>7.500718</td>\n",
       "      <td>1201.408796</td>\n",
       "      <td>...</td>\n",
       "      <td>22.977833</td>\n",
       "      <td>-499.910098</td>\n",
       "      <td>20.000113</td>\n",
       "      <td>-500.584093</td>\n",
       "      <td>18.003899</td>\n",
       "      <td>-500.326371</td>\n",
       "      <td>12.978611</td>\n",
       "      <td>-499.966502</td>\n",
       "      <td>19.988673</td>\n",
       "      <td>-500.742891</td>\n",
       "    </tr>\n",
       "    <tr>\n",
       "      <th>6</th>\n",
       "      <td>2017-12-09 20:59:59</td>\n",
       "      <td>6.172839</td>\n",
       "      <td>6.213598</td>\n",
       "      <td>4.458071</td>\n",
       "      <td>36.829223</td>\n",
       "      <td>518.363800</td>\n",
       "      <td>73.426294</td>\n",
       "      <td>7.641859</td>\n",
       "      <td>7.498470</td>\n",
       "      <td>1198.551240</td>\n",
       "      <td>...</td>\n",
       "      <td>22.964590</td>\n",
       "      <td>-500.083299</td>\n",
       "      <td>20.010567</td>\n",
       "      <td>-500.545746</td>\n",
       "      <td>18.040164</td>\n",
       "      <td>-498.936442</td>\n",
       "      <td>12.988702</td>\n",
       "      <td>-499.985412</td>\n",
       "      <td>20.014155</td>\n",
       "      <td>-499.443855</td>\n",
       "    </tr>\n",
       "    <tr>\n",
       "      <th>7</th>\n",
       "      <td>2017-12-09 21:59:59</td>\n",
       "      <td>5.743825</td>\n",
       "      <td>6.264367</td>\n",
       "      <td>4.428267</td>\n",
       "      <td>37.170131</td>\n",
       "      <td>500.494798</td>\n",
       "      <td>75.915232</td>\n",
       "      <td>7.230213</td>\n",
       "      <td>7.496599</td>\n",
       "      <td>1201.172468</td>\n",
       "      <td>...</td>\n",
       "      <td>23.010484</td>\n",
       "      <td>-500.498525</td>\n",
       "      <td>20.043525</td>\n",
       "      <td>-499.701442</td>\n",
       "      <td>17.991164</td>\n",
       "      <td>-500.324632</td>\n",
       "      <td>13.000809</td>\n",
       "      <td>-500.181711</td>\n",
       "      <td>20.001605</td>\n",
       "      <td>-500.229965</td>\n",
       "    </tr>\n",
       "    <tr>\n",
       "      <th>8</th>\n",
       "      <td>2017-12-09 22:59:59</td>\n",
       "      <td>5.558520</td>\n",
       "      <td>6.167472</td>\n",
       "      <td>4.370640</td>\n",
       "      <td>37.356892</td>\n",
       "      <td>540.990643</td>\n",
       "      <td>79.668503</td>\n",
       "      <td>7.089240</td>\n",
       "      <td>7.524634</td>\n",
       "      <td>1195.305111</td>\n",
       "      <td>...</td>\n",
       "      <td>22.979813</td>\n",
       "      <td>-500.451722</td>\n",
       "      <td>19.995022</td>\n",
       "      <td>-500.415107</td>\n",
       "      <td>18.057379</td>\n",
       "      <td>-499.238503</td>\n",
       "      <td>13.011922</td>\n",
       "      <td>-500.067255</td>\n",
       "      <td>20.002796</td>\n",
       "      <td>-504.347015</td>\n",
       "    </tr>\n",
       "    <tr>\n",
       "      <th>9</th>\n",
       "      <td>2017-12-09 23:59:59</td>\n",
       "      <td>5.473143</td>\n",
       "      <td>6.076597</td>\n",
       "      <td>4.274908</td>\n",
       "      <td>38.631317</td>\n",
       "      <td>492.146649</td>\n",
       "      <td>90.792119</td>\n",
       "      <td>7.367698</td>\n",
       "      <td>6.543369</td>\n",
       "      <td>1203.076302</td>\n",
       "      <td>...</td>\n",
       "      <td>23.050901</td>\n",
       "      <td>-501.185001</td>\n",
       "      <td>20.016755</td>\n",
       "      <td>-499.840744</td>\n",
       "      <td>17.991566</td>\n",
       "      <td>-500.303770</td>\n",
       "      <td>13.023215</td>\n",
       "      <td>-500.018271</td>\n",
       "      <td>20.015115</td>\n",
       "      <td>-515.537548</td>\n",
       "    </tr>\n",
       "  </tbody>\n",
       "</table>\n",
       "<p>10 rows × 53 columns</p>\n",
       "</div>"
      ],
      "text/plain": [
       "                  date  rougher.input.feed_au  rougher.input.feed_ag  \\\n",
       "0  2017-12-09 14:59:59               4.365491               6.158718   \n",
       "1  2017-12-09 15:59:59               4.362781               6.048130   \n",
       "2  2017-12-09 16:59:59               5.081681               6.082745   \n",
       "3  2017-12-09 17:59:59               5.145949               6.084374   \n",
       "4  2017-12-09 18:59:59               5.735249               6.165220   \n",
       "5  2017-12-09 19:59:59               5.848338               6.234198   \n",
       "6  2017-12-09 20:59:59               6.172839               6.213598   \n",
       "7  2017-12-09 21:59:59               5.743825               6.264367   \n",
       "8  2017-12-09 22:59:59               5.558520               6.167472   \n",
       "9  2017-12-09 23:59:59               5.473143               6.076597   \n",
       "\n",
       "   rougher.input.feed_pb  rougher.input.feed_sol  rougher.input.feed_rate  \\\n",
       "0               3.875727               39.135119               555.820208   \n",
       "1               3.902537               39.713906               544.731687   \n",
       "2               4.564078               37.208683               558.155110   \n",
       "3               4.768124               36.808874               539.713765   \n",
       "4               4.512346               37.810642               558.713584   \n",
       "5               4.468803               37.816555               547.515088   \n",
       "6               4.458071               36.829223               518.363800   \n",
       "7               4.428267               37.170131               500.494798   \n",
       "8               4.370640               37.356892               540.990643   \n",
       "9               4.274908               38.631317               492.146649   \n",
       "\n",
       "   rougher.input.feed_size  rougher.input.floatbank10_sulfate  \\\n",
       "0                94.544358                           6.146982   \n",
       "1               123.742430                           6.210119   \n",
       "2                82.610855                           7.363824   \n",
       "3                77.984784                           6.927072   \n",
       "4                86.434874                           7.823471   \n",
       "5                85.875864                           8.040386   \n",
       "6                73.426294                           7.641859   \n",
       "7                75.915232                           7.230213   \n",
       "8                79.668503                           7.089240   \n",
       "9                90.792119                           7.367698   \n",
       "\n",
       "   rougher.input.floatbank10_xanthate  rougher.state.floatbank10_a_air  ...  \\\n",
       "0                            9.308612                      1196.238112  ...   \n",
       "1                            9.297709                      1201.904177  ...   \n",
       "2                            9.003562                      1200.826926  ...   \n",
       "3                            8.955597                      1199.292489  ...   \n",
       "4                            7.490356                      1198.005449  ...   \n",
       "5                            7.500718                      1201.408796  ...   \n",
       "6                            7.498470                      1198.551240  ...   \n",
       "7                            7.496599                      1201.172468  ...   \n",
       "8                            7.524634                      1195.305111  ...   \n",
       "9                            6.543369                      1203.076302  ...   \n",
       "\n",
       "   secondary_cleaner.state.floatbank4_a_air  \\\n",
       "0                                 23.018622   \n",
       "1                                 23.024963   \n",
       "2                                 22.993827   \n",
       "3                                 23.032807   \n",
       "4                                 23.001911   \n",
       "5                                 22.977833   \n",
       "6                                 22.964590   \n",
       "7                                 23.010484   \n",
       "8                                 22.979813   \n",
       "9                                 23.050901   \n",
       "\n",
       "   secondary_cleaner.state.floatbank4_a_level  \\\n",
       "0                                 -500.492702   \n",
       "1                                 -501.153409   \n",
       "2                                 -501.559663   \n",
       "3                                 -501.287889   \n",
       "4                                 -499.947838   \n",
       "5                                 -499.910098   \n",
       "6                                 -500.083299   \n",
       "7                                 -500.498525   \n",
       "8                                 -500.451722   \n",
       "9                                 -501.185001   \n",
       "\n",
       "   secondary_cleaner.state.floatbank4_b_air  \\\n",
       "0                                 20.020205   \n",
       "1                                 20.054122   \n",
       "2                                 20.029144   \n",
       "3                                 19.977466   \n",
       "4                                 20.023735   \n",
       "5                                 20.000113   \n",
       "6                                 20.010567   \n",
       "7                                 20.043525   \n",
       "8                                 19.995022   \n",
       "9                                 20.016755   \n",
       "\n",
       "   secondary_cleaner.state.floatbank4_b_level  \\\n",
       "0                                 -500.220296   \n",
       "1                                 -500.314711   \n",
       "2                                 -500.000662   \n",
       "3                                 -500.159903   \n",
       "4                                 -499.713680   \n",
       "5                                 -500.584093   \n",
       "6                                 -500.545746   \n",
       "7                                 -499.701442   \n",
       "8                                 -500.415107   \n",
       "9                                 -499.840744   \n",
       "\n",
       "   secondary_cleaner.state.floatbank5_a_air  \\\n",
       "0                                 17.963512   \n",
       "1                                 17.979515   \n",
       "2                                 18.012723   \n",
       "3                                 17.980463   \n",
       "4                                 17.990955   \n",
       "5                                 18.003899   \n",
       "6                                 18.040164   \n",
       "7                                 17.991164   \n",
       "8                                 18.057379   \n",
       "9                                 17.991566   \n",
       "\n",
       "   secondary_cleaner.state.floatbank5_a_level  \\\n",
       "0                                 -499.939490   \n",
       "1                                 -499.272871   \n",
       "2                                 -500.024764   \n",
       "3                                 -500.504602   \n",
       "4                                 -500.334769   \n",
       "5                                 -500.326371   \n",
       "6                                 -498.936442   \n",
       "7                                 -500.324632   \n",
       "8                                 -499.238503   \n",
       "9                                 -500.303770   \n",
       "\n",
       "   secondary_cleaner.state.floatbank5_b_air  \\\n",
       "0                                 12.990306   \n",
       "1                                 12.992404   \n",
       "2                                 13.016445   \n",
       "3                                 12.949071   \n",
       "4                                 13.007523   \n",
       "5                                 12.978611   \n",
       "6                                 12.988702   \n",
       "7                                 13.000809   \n",
       "8                                 13.011922   \n",
       "9                                 13.023215   \n",
       "\n",
       "   secondary_cleaner.state.floatbank5_b_level  \\\n",
       "0                                 -500.080993   \n",
       "1                                 -499.976268   \n",
       "2                                 -500.058432   \n",
       "3                                 -500.009937   \n",
       "4                                 -499.968459   \n",
       "5                                 -499.966502   \n",
       "6                                 -499.985412   \n",
       "7                                 -500.181711   \n",
       "8                                 -500.067255   \n",
       "9                                 -500.018271   \n",
       "\n",
       "   secondary_cleaner.state.floatbank6_a_air  \\\n",
       "0                                 19.990336   \n",
       "1                                 20.013986   \n",
       "2                                 19.973767   \n",
       "3                                 20.010332   \n",
       "4                                 19.995999   \n",
       "5                                 19.988673   \n",
       "6                                 20.014155   \n",
       "7                                 20.001605   \n",
       "8                                 20.002796   \n",
       "9                                 20.015115   \n",
       "\n",
       "   secondary_cleaner.state.floatbank6_a_level  \n",
       "0                                 -499.191575  \n",
       "1                                 -500.625471  \n",
       "2                                 -501.394155  \n",
       "3                                 -508.337973  \n",
       "4                                 -499.788805  \n",
       "5                                 -500.742891  \n",
       "6                                 -499.443855  \n",
       "7                                 -500.229965  \n",
       "8                                 -504.347015  \n",
       "9                                 -515.537548  \n",
       "\n",
       "[10 rows x 53 columns]"
      ]
     },
     "metadata": {},
     "output_type": "display_data"
    },
    {
     "name": "stdout",
     "output_type": "stream",
     "text": [
      "<class 'pandas.core.frame.DataFrame'>\n",
      "RangeIndex: 4860 entries, 0 to 4859\n",
      "Data columns (total 53 columns):\n",
      " #   Column                                      Non-Null Count  Dtype  \n",
      "---  ------                                      --------------  -----  \n",
      " 0   date                                        4860 non-null   object \n",
      " 1   rougher.input.feed_au                       4860 non-null   float64\n",
      " 2   rougher.input.feed_ag                       4860 non-null   float64\n",
      " 3   rougher.input.feed_pb                       4832 non-null   float64\n",
      " 4   rougher.input.feed_sol                      4838 non-null   float64\n",
      " 5   rougher.input.feed_rate                     4856 non-null   float64\n",
      " 6   rougher.input.feed_size                     4816 non-null   float64\n",
      " 7   rougher.input.floatbank10_sulfate           4857 non-null   float64\n",
      " 8   rougher.input.floatbank10_xanthate          4859 non-null   float64\n",
      " 9   rougher.state.floatbank10_a_air             4859 non-null   float64\n",
      " 10  rougher.state.floatbank10_a_level           4859 non-null   float64\n",
      " 11  rougher.state.floatbank10_b_air             4859 non-null   float64\n",
      " 12  rougher.state.floatbank10_b_level           4859 non-null   float64\n",
      " 13  rougher.state.floatbank10_c_air             4859 non-null   float64\n",
      " 14  rougher.state.floatbank10_c_level           4859 non-null   float64\n",
      " 15  rougher.state.floatbank10_d_air             4860 non-null   float64\n",
      " 16  rougher.state.floatbank10_d_level           4860 non-null   float64\n",
      " 17  rougher.state.floatbank10_e_air             4853 non-null   float64\n",
      " 18  rougher.state.floatbank10_e_level           4860 non-null   float64\n",
      " 19  rougher.state.floatbank10_f_air             4860 non-null   float64\n",
      " 20  rougher.state.floatbank10_f_level           4860 non-null   float64\n",
      " 21  rougher.input.floatbank11_sulfate           4852 non-null   float64\n",
      " 22  rougher.input.floatbank11_xanthate          4814 non-null   float64\n",
      " 23  primary_cleaner.input.sulfate               4859 non-null   float64\n",
      " 24  primary_cleaner.input.depressant            4851 non-null   float64\n",
      " 25  primary_cleaner.input.feed_size             4860 non-null   float64\n",
      " 26  primary_cleaner.input.xanthate              4817 non-null   float64\n",
      " 27  primary_cleaner.state.floatbank8_a_air      4859 non-null   float64\n",
      " 28  primary_cleaner.state.floatbank8_a_level    4859 non-null   float64\n",
      " 29  primary_cleaner.state.floatbank8_b_air      4859 non-null   float64\n",
      " 30  primary_cleaner.state.floatbank8_b_level    4859 non-null   float64\n",
      " 31  primary_cleaner.state.floatbank8_c_air      4858 non-null   float64\n",
      " 32  primary_cleaner.state.floatbank8_c_level    4859 non-null   float64\n",
      " 33  primary_cleaner.state.floatbank8_d_air      4858 non-null   float64\n",
      " 34  primary_cleaner.state.floatbank8_d_level    4859 non-null   float64\n",
      " 35  secondary_cleaner.state.floatbank2_a_air    4734 non-null   float64\n",
      " 36  secondary_cleaner.state.floatbank2_a_level  4859 non-null   float64\n",
      " 37  secondary_cleaner.state.floatbank2_b_air    4859 non-null   float64\n",
      " 38  secondary_cleaner.state.floatbank2_b_level  4859 non-null   float64\n",
      " 39  secondary_cleaner.state.floatbank3_a_air    4859 non-null   float64\n",
      " 40  secondary_cleaner.state.floatbank3_a_level  4859 non-null   float64\n",
      " 41  secondary_cleaner.state.floatbank3_b_air    4859 non-null   float64\n",
      " 42  secondary_cleaner.state.floatbank3_b_level  4859 non-null   float64\n",
      " 43  secondary_cleaner.state.floatbank4_a_air    4859 non-null   float64\n",
      " 44  secondary_cleaner.state.floatbank4_a_level  4859 non-null   float64\n",
      " 45  secondary_cleaner.state.floatbank4_b_air    4859 non-null   float64\n",
      " 46  secondary_cleaner.state.floatbank4_b_level  4859 non-null   float64\n",
      " 47  secondary_cleaner.state.floatbank5_a_air    4859 non-null   float64\n",
      " 48  secondary_cleaner.state.floatbank5_a_level  4859 non-null   float64\n",
      " 49  secondary_cleaner.state.floatbank5_b_air    4859 non-null   float64\n",
      " 50  secondary_cleaner.state.floatbank5_b_level  4859 non-null   float64\n",
      " 51  secondary_cleaner.state.floatbank6_a_air    4859 non-null   float64\n",
      " 52  secondary_cleaner.state.floatbank6_a_level  4859 non-null   float64\n",
      "dtypes: float64(52), object(1)\n",
      "memory usage: 2.0+ MB\n"
     ]
    },
    {
     "data": {
      "text/html": [
       "<div>\n",
       "<style scoped>\n",
       "    .dataframe tbody tr th:only-of-type {\n",
       "        vertical-align: middle;\n",
       "    }\n",
       "\n",
       "    .dataframe tbody tr th {\n",
       "        vertical-align: top;\n",
       "    }\n",
       "\n",
       "    .dataframe thead th {\n",
       "        text-align: right;\n",
       "    }\n",
       "</style>\n",
       "<table border=\"1\" class=\"dataframe\">\n",
       "  <thead>\n",
       "    <tr style=\"text-align: right;\">\n",
       "      <th></th>\n",
       "      <th>rougher.input.feed_au</th>\n",
       "      <th>rougher.input.feed_ag</th>\n",
       "      <th>rougher.input.feed_pb</th>\n",
       "      <th>rougher.input.feed_sol</th>\n",
       "      <th>rougher.input.feed_rate</th>\n",
       "      <th>rougher.input.feed_size</th>\n",
       "      <th>rougher.input.floatbank10_sulfate</th>\n",
       "      <th>rougher.input.floatbank10_xanthate</th>\n",
       "      <th>rougher.state.floatbank10_a_air</th>\n",
       "      <th>rougher.state.floatbank10_a_level</th>\n",
       "      <th>...</th>\n",
       "      <th>secondary_cleaner.state.floatbank4_a_air</th>\n",
       "      <th>secondary_cleaner.state.floatbank4_a_level</th>\n",
       "      <th>secondary_cleaner.state.floatbank4_b_air</th>\n",
       "      <th>secondary_cleaner.state.floatbank4_b_level</th>\n",
       "      <th>secondary_cleaner.state.floatbank5_a_air</th>\n",
       "      <th>secondary_cleaner.state.floatbank5_a_level</th>\n",
       "      <th>secondary_cleaner.state.floatbank5_b_air</th>\n",
       "      <th>secondary_cleaner.state.floatbank5_b_level</th>\n",
       "      <th>secondary_cleaner.state.floatbank6_a_air</th>\n",
       "      <th>secondary_cleaner.state.floatbank6_a_level</th>\n",
       "    </tr>\n",
       "  </thead>\n",
       "  <tbody>\n",
       "    <tr>\n",
       "      <th>count</th>\n",
       "      <td>4860.000000</td>\n",
       "      <td>4860.000000</td>\n",
       "      <td>4832.000000</td>\n",
       "      <td>4838.000000</td>\n",
       "      <td>4856.000000</td>\n",
       "      <td>4816.000000</td>\n",
       "      <td>4857.000000</td>\n",
       "      <td>4859.000000</td>\n",
       "      <td>4859.000000</td>\n",
       "      <td>4859.000000</td>\n",
       "      <td>...</td>\n",
       "      <td>4.859000e+03</td>\n",
       "      <td>4859.000000</td>\n",
       "      <td>4.859000e+03</td>\n",
       "      <td>4859.000000</td>\n",
       "      <td>4859.000000</td>\n",
       "      <td>4859.000000</td>\n",
       "      <td>4859.000000</td>\n",
       "      <td>4859.000000</td>\n",
       "      <td>4859.000000</td>\n",
       "      <td>4859.000000</td>\n",
       "    </tr>\n",
       "    <tr>\n",
       "      <th>mean</th>\n",
       "      <td>8.005584</td>\n",
       "      <td>8.547348</td>\n",
       "      <td>3.579662</td>\n",
       "      <td>37.095864</td>\n",
       "      <td>490.285103</td>\n",
       "      <td>59.113400</td>\n",
       "      <td>12.055735</td>\n",
       "      <td>6.101308</td>\n",
       "      <td>1108.635895</td>\n",
       "      <td>-368.340127</td>\n",
       "      <td>...</td>\n",
       "      <td>1.985770e+01</td>\n",
       "      <td>-488.665140</td>\n",
       "      <td>1.557025e+01</td>\n",
       "      <td>-464.176507</td>\n",
       "      <td>16.594103</td>\n",
       "      <td>-490.815250</td>\n",
       "      <td>12.945971</td>\n",
       "      <td>-489.583564</td>\n",
       "      <td>19.053888</td>\n",
       "      <td>-504.678924</td>\n",
       "    </tr>\n",
       "    <tr>\n",
       "      <th>std</th>\n",
       "      <td>1.993590</td>\n",
       "      <td>1.958601</td>\n",
       "      <td>1.029377</td>\n",
       "      <td>4.926284</td>\n",
       "      <td>94.371623</td>\n",
       "      <td>19.125122</td>\n",
       "      <td>3.407642</td>\n",
       "      <td>1.042754</td>\n",
       "      <td>156.493143</td>\n",
       "      <td>91.155929</td>\n",
       "      <td>...</td>\n",
       "      <td>5.913105e+00</td>\n",
       "      <td>44.392714</td>\n",
       "      <td>4.927361e+00</td>\n",
       "      <td>65.706994</td>\n",
       "      <td>5.724305</td>\n",
       "      <td>32.258443</td>\n",
       "      <td>5.533176</td>\n",
       "      <td>37.084609</td>\n",
       "      <td>5.548996</td>\n",
       "      <td>38.690186</td>\n",
       "    </tr>\n",
       "    <tr>\n",
       "      <th>min</th>\n",
       "      <td>0.010000</td>\n",
       "      <td>0.010000</td>\n",
       "      <td>0.010000</td>\n",
       "      <td>0.010000</td>\n",
       "      <td>0.012786</td>\n",
       "      <td>0.046369</td>\n",
       "      <td>0.018907</td>\n",
       "      <td>0.015783</td>\n",
       "      <td>300.792494</td>\n",
       "      <td>-600.568138</td>\n",
       "      <td>...</td>\n",
       "      <td>1.079872e-16</td>\n",
       "      <td>-799.704969</td>\n",
       "      <td>2.489718e-17</td>\n",
       "      <td>-799.860767</td>\n",
       "      <td>-0.371498</td>\n",
       "      <td>-797.142475</td>\n",
       "      <td>1.358469</td>\n",
       "      <td>-800.006180</td>\n",
       "      <td>0.160386</td>\n",
       "      <td>-809.734800</td>\n",
       "    </tr>\n",
       "    <tr>\n",
       "      <th>25%</th>\n",
       "      <td>6.574363</td>\n",
       "      <td>6.975898</td>\n",
       "      <td>2.903612</td>\n",
       "      <td>34.510841</td>\n",
       "      <td>434.099695</td>\n",
       "      <td>47.596984</td>\n",
       "      <td>9.890429</td>\n",
       "      <td>5.499808</td>\n",
       "      <td>999.715729</td>\n",
       "      <td>-499.731972</td>\n",
       "      <td>...</td>\n",
       "      <td>1.501123e+01</td>\n",
       "      <td>-500.704004</td>\n",
       "      <td>1.202172e+01</td>\n",
       "      <td>-500.196517</td>\n",
       "      <td>11.073822</td>\n",
       "      <td>-500.483564</td>\n",
       "      <td>9.011890</td>\n",
       "      <td>-500.129913</td>\n",
       "      <td>14.963953</td>\n",
       "      <td>-500.668501</td>\n",
       "    </tr>\n",
       "    <tr>\n",
       "      <th>50%</th>\n",
       "      <td>7.812923</td>\n",
       "      <td>8.179714</td>\n",
       "      <td>3.540772</td>\n",
       "      <td>37.499761</td>\n",
       "      <td>502.118742</td>\n",
       "      <td>55.509481</td>\n",
       "      <td>11.997859</td>\n",
       "      <td>6.099805</td>\n",
       "      <td>1001.414798</td>\n",
       "      <td>-300.181367</td>\n",
       "      <td>...</td>\n",
       "      <td>1.996807e+01</td>\n",
       "      <td>-499.892919</td>\n",
       "      <td>1.501240e+01</td>\n",
       "      <td>-499.540776</td>\n",
       "      <td>16.631195</td>\n",
       "      <td>-499.873136</td>\n",
       "      <td>11.999417</td>\n",
       "      <td>-499.955304</td>\n",
       "      <td>19.960006</td>\n",
       "      <td>-500.033769</td>\n",
       "    </tr>\n",
       "    <tr>\n",
       "      <th>75%</th>\n",
       "      <td>9.556589</td>\n",
       "      <td>10.084339</td>\n",
       "      <td>4.199847</td>\n",
       "      <td>40.461315</td>\n",
       "      <td>555.596563</td>\n",
       "      <td>66.661547</td>\n",
       "      <td>14.496072</td>\n",
       "      <td>6.802101</td>\n",
       "      <td>1202.837565</td>\n",
       "      <td>-299.961547</td>\n",
       "      <td>...</td>\n",
       "      <td>2.498900e+01</td>\n",
       "      <td>-498.652030</td>\n",
       "      <td>1.999949e+01</td>\n",
       "      <td>-400.302329</td>\n",
       "      <td>19.983191</td>\n",
       "      <td>-498.852815</td>\n",
       "      <td>15.004198</td>\n",
       "      <td>-499.643776</td>\n",
       "      <td>24.974583</td>\n",
       "      <td>-499.460134</td>\n",
       "    </tr>\n",
       "    <tr>\n",
       "      <th>max</th>\n",
       "      <td>13.417156</td>\n",
       "      <td>14.533698</td>\n",
       "      <td>7.142594</td>\n",
       "      <td>53.477742</td>\n",
       "      <td>702.523396</td>\n",
       "      <td>363.989699</td>\n",
       "      <td>30.010759</td>\n",
       "      <td>9.396928</td>\n",
       "      <td>1521.980372</td>\n",
       "      <td>-281.039299</td>\n",
       "      <td>...</td>\n",
       "      <td>3.008450e+01</td>\n",
       "      <td>-383.373053</td>\n",
       "      <td>2.398898e+01</td>\n",
       "      <td>-114.250832</td>\n",
       "      <td>33.215996</td>\n",
       "      <td>-288.963521</td>\n",
       "      <td>24.177106</td>\n",
       "      <td>-141.934397</td>\n",
       "      <td>32.028529</td>\n",
       "      <td>-104.427459</td>\n",
       "    </tr>\n",
       "  </tbody>\n",
       "</table>\n",
       "<p>8 rows × 52 columns</p>\n",
       "</div>"
      ],
      "text/plain": [
       "       rougher.input.feed_au  rougher.input.feed_ag  rougher.input.feed_pb  \\\n",
       "count            4860.000000            4860.000000            4832.000000   \n",
       "mean                8.005584               8.547348               3.579662   \n",
       "std                 1.993590               1.958601               1.029377   \n",
       "min                 0.010000               0.010000               0.010000   \n",
       "25%                 6.574363               6.975898               2.903612   \n",
       "50%                 7.812923               8.179714               3.540772   \n",
       "75%                 9.556589              10.084339               4.199847   \n",
       "max                13.417156              14.533698               7.142594   \n",
       "\n",
       "       rougher.input.feed_sol  rougher.input.feed_rate  \\\n",
       "count             4838.000000              4856.000000   \n",
       "mean                37.095864               490.285103   \n",
       "std                  4.926284                94.371623   \n",
       "min                  0.010000                 0.012786   \n",
       "25%                 34.510841               434.099695   \n",
       "50%                 37.499761               502.118742   \n",
       "75%                 40.461315               555.596563   \n",
       "max                 53.477742               702.523396   \n",
       "\n",
       "       rougher.input.feed_size  rougher.input.floatbank10_sulfate  \\\n",
       "count              4816.000000                        4857.000000   \n",
       "mean                 59.113400                          12.055735   \n",
       "std                  19.125122                           3.407642   \n",
       "min                   0.046369                           0.018907   \n",
       "25%                  47.596984                           9.890429   \n",
       "50%                  55.509481                          11.997859   \n",
       "75%                  66.661547                          14.496072   \n",
       "max                 363.989699                          30.010759   \n",
       "\n",
       "       rougher.input.floatbank10_xanthate  rougher.state.floatbank10_a_air  \\\n",
       "count                         4859.000000                      4859.000000   \n",
       "mean                             6.101308                      1108.635895   \n",
       "std                              1.042754                       156.493143   \n",
       "min                              0.015783                       300.792494   \n",
       "25%                              5.499808                       999.715729   \n",
       "50%                              6.099805                      1001.414798   \n",
       "75%                              6.802101                      1202.837565   \n",
       "max                              9.396928                      1521.980372   \n",
       "\n",
       "       rougher.state.floatbank10_a_level  ...  \\\n",
       "count                        4859.000000  ...   \n",
       "mean                         -368.340127  ...   \n",
       "std                            91.155929  ...   \n",
       "min                          -600.568138  ...   \n",
       "25%                          -499.731972  ...   \n",
       "50%                          -300.181367  ...   \n",
       "75%                          -299.961547  ...   \n",
       "max                          -281.039299  ...   \n",
       "\n",
       "       secondary_cleaner.state.floatbank4_a_air  \\\n",
       "count                              4.859000e+03   \n",
       "mean                               1.985770e+01   \n",
       "std                                5.913105e+00   \n",
       "min                                1.079872e-16   \n",
       "25%                                1.501123e+01   \n",
       "50%                                1.996807e+01   \n",
       "75%                                2.498900e+01   \n",
       "max                                3.008450e+01   \n",
       "\n",
       "       secondary_cleaner.state.floatbank4_a_level  \\\n",
       "count                                 4859.000000   \n",
       "mean                                  -488.665140   \n",
       "std                                     44.392714   \n",
       "min                                   -799.704969   \n",
       "25%                                   -500.704004   \n",
       "50%                                   -499.892919   \n",
       "75%                                   -498.652030   \n",
       "max                                   -383.373053   \n",
       "\n",
       "       secondary_cleaner.state.floatbank4_b_air  \\\n",
       "count                              4.859000e+03   \n",
       "mean                               1.557025e+01   \n",
       "std                                4.927361e+00   \n",
       "min                                2.489718e-17   \n",
       "25%                                1.202172e+01   \n",
       "50%                                1.501240e+01   \n",
       "75%                                1.999949e+01   \n",
       "max                                2.398898e+01   \n",
       "\n",
       "       secondary_cleaner.state.floatbank4_b_level  \\\n",
       "count                                 4859.000000   \n",
       "mean                                  -464.176507   \n",
       "std                                     65.706994   \n",
       "min                                   -799.860767   \n",
       "25%                                   -500.196517   \n",
       "50%                                   -499.540776   \n",
       "75%                                   -400.302329   \n",
       "max                                   -114.250832   \n",
       "\n",
       "       secondary_cleaner.state.floatbank5_a_air  \\\n",
       "count                               4859.000000   \n",
       "mean                                  16.594103   \n",
       "std                                    5.724305   \n",
       "min                                   -0.371498   \n",
       "25%                                   11.073822   \n",
       "50%                                   16.631195   \n",
       "75%                                   19.983191   \n",
       "max                                   33.215996   \n",
       "\n",
       "       secondary_cleaner.state.floatbank5_a_level  \\\n",
       "count                                 4859.000000   \n",
       "mean                                  -490.815250   \n",
       "std                                     32.258443   \n",
       "min                                   -797.142475   \n",
       "25%                                   -500.483564   \n",
       "50%                                   -499.873136   \n",
       "75%                                   -498.852815   \n",
       "max                                   -288.963521   \n",
       "\n",
       "       secondary_cleaner.state.floatbank5_b_air  \\\n",
       "count                               4859.000000   \n",
       "mean                                  12.945971   \n",
       "std                                    5.533176   \n",
       "min                                    1.358469   \n",
       "25%                                    9.011890   \n",
       "50%                                   11.999417   \n",
       "75%                                   15.004198   \n",
       "max                                   24.177106   \n",
       "\n",
       "       secondary_cleaner.state.floatbank5_b_level  \\\n",
       "count                                 4859.000000   \n",
       "mean                                  -489.583564   \n",
       "std                                     37.084609   \n",
       "min                                   -800.006180   \n",
       "25%                                   -500.129913   \n",
       "50%                                   -499.955304   \n",
       "75%                                   -499.643776   \n",
       "max                                   -141.934397   \n",
       "\n",
       "       secondary_cleaner.state.floatbank6_a_air  \\\n",
       "count                               4859.000000   \n",
       "mean                                  19.053888   \n",
       "std                                    5.548996   \n",
       "min                                    0.160386   \n",
       "25%                                   14.963953   \n",
       "50%                                   19.960006   \n",
       "75%                                   24.974583   \n",
       "max                                   32.028529   \n",
       "\n",
       "       secondary_cleaner.state.floatbank6_a_level  \n",
       "count                                 4859.000000  \n",
       "mean                                  -504.678924  \n",
       "std                                     38.690186  \n",
       "min                                   -809.734800  \n",
       "25%                                   -500.668501  \n",
       "50%                                   -500.033769  \n",
       "75%                                   -499.460134  \n",
       "max                                   -104.427459  \n",
       "\n",
       "[8 rows x 52 columns]"
      ]
     },
     "metadata": {},
     "output_type": "display_data"
    }
   ],
   "source": [
    "#Посмотрим данные тестовой выборки\n",
    "\n",
    "study(data_test)"
   ]
  },
  {
   "cell_type": "code",
   "execution_count": 8,
   "metadata": {},
   "outputs": [
    {
     "data": {
      "text/html": [
       "<div>\n",
       "<style scoped>\n",
       "    .dataframe tbody tr th:only-of-type {\n",
       "        vertical-align: middle;\n",
       "    }\n",
       "\n",
       "    .dataframe tbody tr th {\n",
       "        vertical-align: top;\n",
       "    }\n",
       "\n",
       "    .dataframe thead th {\n",
       "        text-align: right;\n",
       "    }\n",
       "</style>\n",
       "<table border=\"1\" class=\"dataframe\">\n",
       "  <thead>\n",
       "    <tr style=\"text-align: right;\">\n",
       "      <th></th>\n",
       "      <th>date</th>\n",
       "      <th>rougher.input.feed_au</th>\n",
       "      <th>rougher.input.feed_ag</th>\n",
       "      <th>rougher.input.feed_pb</th>\n",
       "      <th>rougher.input.feed_sol</th>\n",
       "      <th>rougher.input.feed_rate</th>\n",
       "      <th>rougher.input.feed_size</th>\n",
       "      <th>rougher.input.floatbank10_sulfate</th>\n",
       "      <th>rougher.input.floatbank10_xanthate</th>\n",
       "      <th>rougher.state.floatbank10_a_air</th>\n",
       "      <th>...</th>\n",
       "      <th>secondary_cleaner.output.tail_sol</th>\n",
       "      <th>final.output.concentrate_au</th>\n",
       "      <th>final.output.concentrate_ag</th>\n",
       "      <th>final.output.concentrate_pb</th>\n",
       "      <th>final.output.concentrate_sol</th>\n",
       "      <th>final.output.recovery</th>\n",
       "      <th>final.output.tail_au</th>\n",
       "      <th>final.output.tail_ag</th>\n",
       "      <th>final.output.tail_pb</th>\n",
       "      <th>final.output.tail_sol</th>\n",
       "    </tr>\n",
       "  </thead>\n",
       "  <tbody>\n",
       "    <tr>\n",
       "      <th>0</th>\n",
       "      <td>2016-01-15 00:00:00</td>\n",
       "      <td>6.486150</td>\n",
       "      <td>6.100378</td>\n",
       "      <td>2.284912</td>\n",
       "      <td>36.808594</td>\n",
       "      <td>523.546326</td>\n",
       "      <td>55.486599</td>\n",
       "      <td>11.986616</td>\n",
       "      <td>6.007990</td>\n",
       "      <td>999.706909</td>\n",
       "      <td>...</td>\n",
       "      <td>8.764648</td>\n",
       "      <td>42.192020</td>\n",
       "      <td>6.055403</td>\n",
       "      <td>9.889648</td>\n",
       "      <td>5.507324</td>\n",
       "      <td>70.541216</td>\n",
       "      <td>2.143149</td>\n",
       "      <td>10.411962</td>\n",
       "      <td>0.895447</td>\n",
       "      <td>16.904297</td>\n",
       "    </tr>\n",
       "    <tr>\n",
       "      <th>1</th>\n",
       "      <td>2016-01-15 01:00:00</td>\n",
       "      <td>6.478583</td>\n",
       "      <td>6.161113</td>\n",
       "      <td>2.266033</td>\n",
       "      <td>35.753385</td>\n",
       "      <td>525.290581</td>\n",
       "      <td>57.278666</td>\n",
       "      <td>11.971193</td>\n",
       "      <td>6.005766</td>\n",
       "      <td>1000.286398</td>\n",
       "      <td>...</td>\n",
       "      <td>9.001494</td>\n",
       "      <td>42.701629</td>\n",
       "      <td>6.029369</td>\n",
       "      <td>9.968944</td>\n",
       "      <td>5.257781</td>\n",
       "      <td>69.266198</td>\n",
       "      <td>2.224930</td>\n",
       "      <td>10.462676</td>\n",
       "      <td>0.927452</td>\n",
       "      <td>16.634514</td>\n",
       "    </tr>\n",
       "    <tr>\n",
       "      <th>2</th>\n",
       "      <td>2016-01-15 02:00:00</td>\n",
       "      <td>6.362222</td>\n",
       "      <td>6.116455</td>\n",
       "      <td>2.159622</td>\n",
       "      <td>35.971630</td>\n",
       "      <td>530.026610</td>\n",
       "      <td>57.510649</td>\n",
       "      <td>11.920603</td>\n",
       "      <td>6.197377</td>\n",
       "      <td>999.719565</td>\n",
       "      <td>...</td>\n",
       "      <td>8.842896</td>\n",
       "      <td>42.657501</td>\n",
       "      <td>6.055926</td>\n",
       "      <td>10.213995</td>\n",
       "      <td>5.383759</td>\n",
       "      <td>68.116445</td>\n",
       "      <td>2.257889</td>\n",
       "      <td>10.507046</td>\n",
       "      <td>0.953716</td>\n",
       "      <td>16.208849</td>\n",
       "    </tr>\n",
       "    <tr>\n",
       "      <th>3</th>\n",
       "      <td>2016-01-15 03:00:00</td>\n",
       "      <td>6.118189</td>\n",
       "      <td>6.043309</td>\n",
       "      <td>2.037807</td>\n",
       "      <td>36.862241</td>\n",
       "      <td>542.590390</td>\n",
       "      <td>57.792734</td>\n",
       "      <td>11.630094</td>\n",
       "      <td>6.203177</td>\n",
       "      <td>999.814770</td>\n",
       "      <td>...</td>\n",
       "      <td>9.122857</td>\n",
       "      <td>42.689819</td>\n",
       "      <td>6.047977</td>\n",
       "      <td>9.977019</td>\n",
       "      <td>4.858634</td>\n",
       "      <td>68.347543</td>\n",
       "      <td>2.146849</td>\n",
       "      <td>10.422762</td>\n",
       "      <td>0.883763</td>\n",
       "      <td>16.532835</td>\n",
       "    </tr>\n",
       "    <tr>\n",
       "      <th>4</th>\n",
       "      <td>2016-01-15 04:00:00</td>\n",
       "      <td>5.663707</td>\n",
       "      <td>6.060915</td>\n",
       "      <td>1.786875</td>\n",
       "      <td>34.347666</td>\n",
       "      <td>540.531893</td>\n",
       "      <td>56.047189</td>\n",
       "      <td>10.957755</td>\n",
       "      <td>6.198826</td>\n",
       "      <td>999.678690</td>\n",
       "      <td>...</td>\n",
       "      <td>8.871028</td>\n",
       "      <td>42.774141</td>\n",
       "      <td>6.148599</td>\n",
       "      <td>10.142511</td>\n",
       "      <td>4.939416</td>\n",
       "      <td>66.927016</td>\n",
       "      <td>2.055292</td>\n",
       "      <td>10.360302</td>\n",
       "      <td>0.792826</td>\n",
       "      <td>16.525686</td>\n",
       "    </tr>\n",
       "    <tr>\n",
       "      <th>5</th>\n",
       "      <td>2016-01-15 05:00:00</td>\n",
       "      <td>5.687168</td>\n",
       "      <td>5.801920</td>\n",
       "      <td>1.879351</td>\n",
       "      <td>35.470082</td>\n",
       "      <td>546.173470</td>\n",
       "      <td>57.469578</td>\n",
       "      <td>11.072517</td>\n",
       "      <td>6.200383</td>\n",
       "      <td>999.934134</td>\n",
       "      <td>...</td>\n",
       "      <td>9.302669</td>\n",
       "      <td>41.633678</td>\n",
       "      <td>6.482968</td>\n",
       "      <td>10.049416</td>\n",
       "      <td>5.480257</td>\n",
       "      <td>69.465816</td>\n",
       "      <td>1.918586</td>\n",
       "      <td>10.182708</td>\n",
       "      <td>0.664118</td>\n",
       "      <td>16.999638</td>\n",
       "    </tr>\n",
       "    <tr>\n",
       "      <th>6</th>\n",
       "      <td>2016-01-15 06:00:00</td>\n",
       "      <td>6.038436</td>\n",
       "      <td>6.056253</td>\n",
       "      <td>2.105501</td>\n",
       "      <td>34.920570</td>\n",
       "      <td>523.376439</td>\n",
       "      <td>56.674647</td>\n",
       "      <td>11.535899</td>\n",
       "      <td>6.204974</td>\n",
       "      <td>999.832373</td>\n",
       "      <td>...</td>\n",
       "      <td>9.103047</td>\n",
       "      <td>41.995316</td>\n",
       "      <td>6.533849</td>\n",
       "      <td>10.058141</td>\n",
       "      <td>4.569100</td>\n",
       "      <td>69.300835</td>\n",
       "      <td>2.058913</td>\n",
       "      <td>10.304598</td>\n",
       "      <td>0.807342</td>\n",
       "      <td>16.723575</td>\n",
       "    </tr>\n",
       "    <tr>\n",
       "      <th>7</th>\n",
       "      <td>2016-01-15 07:00:00</td>\n",
       "      <td>6.433854</td>\n",
       "      <td>5.955053</td>\n",
       "      <td>2.310432</td>\n",
       "      <td>36.091386</td>\n",
       "      <td>549.842749</td>\n",
       "      <td>56.730325</td>\n",
       "      <td>12.557906</td>\n",
       "      <td>6.799275</td>\n",
       "      <td>1000.166602</td>\n",
       "      <td>...</td>\n",
       "      <td>9.369209</td>\n",
       "      <td>42.452727</td>\n",
       "      <td>6.130823</td>\n",
       "      <td>9.935481</td>\n",
       "      <td>4.389813</td>\n",
       "      <td>70.230976</td>\n",
       "      <td>2.143437</td>\n",
       "      <td>10.443288</td>\n",
       "      <td>0.949346</td>\n",
       "      <td>16.689959</td>\n",
       "    </tr>\n",
       "    <tr>\n",
       "      <th>8</th>\n",
       "      <td>2016-01-15 08:00:00</td>\n",
       "      <td>6.526612</td>\n",
       "      <td>5.878084</td>\n",
       "      <td>2.391713</td>\n",
       "      <td>35.753879</td>\n",
       "      <td>560.115242</td>\n",
       "      <td>56.649893</td>\n",
       "      <td>13.166128</td>\n",
       "      <td>6.798659</td>\n",
       "      <td>1000.026864</td>\n",
       "      <td>...</td>\n",
       "      <td>9.437044</td>\n",
       "      <td>43.404078</td>\n",
       "      <td>5.834140</td>\n",
       "      <td>10.071156</td>\n",
       "      <td>4.876389</td>\n",
       "      <td>69.688595</td>\n",
       "      <td>2.209881</td>\n",
       "      <td>10.420140</td>\n",
       "      <td>1.065453</td>\n",
       "      <td>17.201948</td>\n",
       "    </tr>\n",
       "    <tr>\n",
       "      <th>9</th>\n",
       "      <td>2016-01-15 09:00:00</td>\n",
       "      <td>6.747693</td>\n",
       "      <td>5.974832</td>\n",
       "      <td>2.539114</td>\n",
       "      <td>38.553938</td>\n",
       "      <td>566.616045</td>\n",
       "      <td>60.308763</td>\n",
       "      <td>13.996130</td>\n",
       "      <td>6.800263</td>\n",
       "      <td>1000.332327</td>\n",
       "      <td>...</td>\n",
       "      <td>9.582874</td>\n",
       "      <td>43.487291</td>\n",
       "      <td>5.706261</td>\n",
       "      <td>10.242511</td>\n",
       "      <td>5.214161</td>\n",
       "      <td>70.973641</td>\n",
       "      <td>2.200997</td>\n",
       "      <td>10.473539</td>\n",
       "      <td>1.171183</td>\n",
       "      <td>17.717049</td>\n",
       "    </tr>\n",
       "  </tbody>\n",
       "</table>\n",
       "<p>10 rows × 87 columns</p>\n",
       "</div>"
      ],
      "text/plain": [
       "                  date  rougher.input.feed_au  rougher.input.feed_ag  \\\n",
       "0  2016-01-15 00:00:00               6.486150               6.100378   \n",
       "1  2016-01-15 01:00:00               6.478583               6.161113   \n",
       "2  2016-01-15 02:00:00               6.362222               6.116455   \n",
       "3  2016-01-15 03:00:00               6.118189               6.043309   \n",
       "4  2016-01-15 04:00:00               5.663707               6.060915   \n",
       "5  2016-01-15 05:00:00               5.687168               5.801920   \n",
       "6  2016-01-15 06:00:00               6.038436               6.056253   \n",
       "7  2016-01-15 07:00:00               6.433854               5.955053   \n",
       "8  2016-01-15 08:00:00               6.526612               5.878084   \n",
       "9  2016-01-15 09:00:00               6.747693               5.974832   \n",
       "\n",
       "   rougher.input.feed_pb  rougher.input.feed_sol  rougher.input.feed_rate  \\\n",
       "0               2.284912               36.808594               523.546326   \n",
       "1               2.266033               35.753385               525.290581   \n",
       "2               2.159622               35.971630               530.026610   \n",
       "3               2.037807               36.862241               542.590390   \n",
       "4               1.786875               34.347666               540.531893   \n",
       "5               1.879351               35.470082               546.173470   \n",
       "6               2.105501               34.920570               523.376439   \n",
       "7               2.310432               36.091386               549.842749   \n",
       "8               2.391713               35.753879               560.115242   \n",
       "9               2.539114               38.553938               566.616045   \n",
       "\n",
       "   rougher.input.feed_size  rougher.input.floatbank10_sulfate  \\\n",
       "0                55.486599                          11.986616   \n",
       "1                57.278666                          11.971193   \n",
       "2                57.510649                          11.920603   \n",
       "3                57.792734                          11.630094   \n",
       "4                56.047189                          10.957755   \n",
       "5                57.469578                          11.072517   \n",
       "6                56.674647                          11.535899   \n",
       "7                56.730325                          12.557906   \n",
       "8                56.649893                          13.166128   \n",
       "9                60.308763                          13.996130   \n",
       "\n",
       "   rougher.input.floatbank10_xanthate  rougher.state.floatbank10_a_air  ...  \\\n",
       "0                            6.007990                       999.706909  ...   \n",
       "1                            6.005766                      1000.286398  ...   \n",
       "2                            6.197377                       999.719565  ...   \n",
       "3                            6.203177                       999.814770  ...   \n",
       "4                            6.198826                       999.678690  ...   \n",
       "5                            6.200383                       999.934134  ...   \n",
       "6                            6.204974                       999.832373  ...   \n",
       "7                            6.799275                      1000.166602  ...   \n",
       "8                            6.798659                      1000.026864  ...   \n",
       "9                            6.800263                      1000.332327  ...   \n",
       "\n",
       "   secondary_cleaner.output.tail_sol  final.output.concentrate_au  \\\n",
       "0                           8.764648                    42.192020   \n",
       "1                           9.001494                    42.701629   \n",
       "2                           8.842896                    42.657501   \n",
       "3                           9.122857                    42.689819   \n",
       "4                           8.871028                    42.774141   \n",
       "5                           9.302669                    41.633678   \n",
       "6                           9.103047                    41.995316   \n",
       "7                           9.369209                    42.452727   \n",
       "8                           9.437044                    43.404078   \n",
       "9                           9.582874                    43.487291   \n",
       "\n",
       "   final.output.concentrate_ag  final.output.concentrate_pb  \\\n",
       "0                     6.055403                     9.889648   \n",
       "1                     6.029369                     9.968944   \n",
       "2                     6.055926                    10.213995   \n",
       "3                     6.047977                     9.977019   \n",
       "4                     6.148599                    10.142511   \n",
       "5                     6.482968                    10.049416   \n",
       "6                     6.533849                    10.058141   \n",
       "7                     6.130823                     9.935481   \n",
       "8                     5.834140                    10.071156   \n",
       "9                     5.706261                    10.242511   \n",
       "\n",
       "   final.output.concentrate_sol  final.output.recovery  final.output.tail_au  \\\n",
       "0                      5.507324              70.541216              2.143149   \n",
       "1                      5.257781              69.266198              2.224930   \n",
       "2                      5.383759              68.116445              2.257889   \n",
       "3                      4.858634              68.347543              2.146849   \n",
       "4                      4.939416              66.927016              2.055292   \n",
       "5                      5.480257              69.465816              1.918586   \n",
       "6                      4.569100              69.300835              2.058913   \n",
       "7                      4.389813              70.230976              2.143437   \n",
       "8                      4.876389              69.688595              2.209881   \n",
       "9                      5.214161              70.973641              2.200997   \n",
       "\n",
       "   final.output.tail_ag  final.output.tail_pb  final.output.tail_sol  \n",
       "0             10.411962              0.895447              16.904297  \n",
       "1             10.462676              0.927452              16.634514  \n",
       "2             10.507046              0.953716              16.208849  \n",
       "3             10.422762              0.883763              16.532835  \n",
       "4             10.360302              0.792826              16.525686  \n",
       "5             10.182708              0.664118              16.999638  \n",
       "6             10.304598              0.807342              16.723575  \n",
       "7             10.443288              0.949346              16.689959  \n",
       "8             10.420140              1.065453              17.201948  \n",
       "9             10.473539              1.171183              17.717049  \n",
       "\n",
       "[10 rows x 87 columns]"
      ]
     },
     "metadata": {},
     "output_type": "display_data"
    },
    {
     "name": "stdout",
     "output_type": "stream",
     "text": [
      "<class 'pandas.core.frame.DataFrame'>\n",
      "RangeIndex: 19439 entries, 0 to 19438\n",
      "Data columns (total 87 columns):\n",
      " #   Column                                              Non-Null Count  Dtype  \n",
      "---  ------                                              --------------  -----  \n",
      " 0   date                                                19439 non-null  object \n",
      " 1   rougher.input.feed_au                               19439 non-null  float64\n",
      " 2   rougher.input.feed_ag                               19439 non-null  float64\n",
      " 3   rougher.input.feed_pb                               19339 non-null  float64\n",
      " 4   rougher.input.feed_sol                              19340 non-null  float64\n",
      " 5   rougher.input.feed_rate                             19428 non-null  float64\n",
      " 6   rougher.input.feed_size                             19294 non-null  float64\n",
      " 7   rougher.input.floatbank10_sulfate                   19405 non-null  float64\n",
      " 8   rougher.input.floatbank10_xanthate                  19431 non-null  float64\n",
      " 9   rougher.state.floatbank10_a_air                     19438 non-null  float64\n",
      " 10  rougher.state.floatbank10_a_level                   19438 non-null  float64\n",
      " 11  rougher.state.floatbank10_b_air                     19438 non-null  float64\n",
      " 12  rougher.state.floatbank10_b_level                   19438 non-null  float64\n",
      " 13  rougher.state.floatbank10_c_air                     19438 non-null  float64\n",
      " 14  rougher.state.floatbank10_c_level                   19438 non-null  float64\n",
      " 15  rougher.state.floatbank10_d_air                     19439 non-null  float64\n",
      " 16  rougher.state.floatbank10_d_level                   19439 non-null  float64\n",
      " 17  rougher.state.floatbank10_e_air                     19003 non-null  float64\n",
      " 18  rougher.state.floatbank10_e_level                   19439 non-null  float64\n",
      " 19  rougher.state.floatbank10_f_air                     19439 non-null  float64\n",
      " 20  rougher.state.floatbank10_f_level                   19439 non-null  float64\n",
      " 21  rougher.input.floatbank11_sulfate                   19395 non-null  float64\n",
      " 22  rougher.input.floatbank11_xanthate                  18986 non-null  float64\n",
      " 23  rougher.calculation.sulfate_to_au_concentrate       19437 non-null  float64\n",
      " 24  rougher.calculation.floatbank10_sulfate_to_au_feed  19437 non-null  float64\n",
      " 25  rougher.calculation.floatbank11_sulfate_to_au_feed  19437 non-null  float64\n",
      " 26  rougher.calculation.au_pb_ratio                     19439 non-null  float64\n",
      " 27  rougher.output.concentrate_au                       19439 non-null  float64\n",
      " 28  rougher.output.concentrate_ag                       19439 non-null  float64\n",
      " 29  rougher.output.concentrate_pb                       19439 non-null  float64\n",
      " 30  rougher.output.concentrate_sol                      19416 non-null  float64\n",
      " 31  rougher.output.recovery                             19439 non-null  float64\n",
      " 32  rougher.output.tail_au                              19439 non-null  float64\n",
      " 33  rougher.output.tail_ag                              19438 non-null  float64\n",
      " 34  rougher.output.tail_pb                              19439 non-null  float64\n",
      " 35  rougher.output.tail_sol                             19439 non-null  float64\n",
      " 36  primary_cleaner.input.sulfate                       19415 non-null  float64\n",
      " 37  primary_cleaner.input.depressant                    19402 non-null  float64\n",
      " 38  primary_cleaner.input.feed_size                     19439 non-null  float64\n",
      " 39  primary_cleaner.input.xanthate                      19335 non-null  float64\n",
      " 40  primary_cleaner.state.floatbank8_a_air              19435 non-null  float64\n",
      " 41  primary_cleaner.state.floatbank8_a_level            19438 non-null  float64\n",
      " 42  primary_cleaner.state.floatbank8_b_air              19435 non-null  float64\n",
      " 43  primary_cleaner.state.floatbank8_b_level            19438 non-null  float64\n",
      " 44  primary_cleaner.state.floatbank8_c_air              19437 non-null  float64\n",
      " 45  primary_cleaner.state.floatbank8_c_level            19438 non-null  float64\n",
      " 46  primary_cleaner.state.floatbank8_d_air              19436 non-null  float64\n",
      " 47  primary_cleaner.state.floatbank8_d_level            19438 non-null  float64\n",
      " 48  primary_cleaner.output.concentrate_au               19439 non-null  float64\n",
      " 49  primary_cleaner.output.concentrate_ag               19439 non-null  float64\n",
      " 50  primary_cleaner.output.concentrate_pb               19323 non-null  float64\n",
      " 51  primary_cleaner.output.concentrate_sol              19069 non-null  float64\n",
      " 52  primary_cleaner.output.tail_au                      19439 non-null  float64\n",
      " 53  primary_cleaner.output.tail_ag                      19435 non-null  float64\n",
      " 54  primary_cleaner.output.tail_pb                      19418 non-null  float64\n",
      " 55  primary_cleaner.output.tail_sol                     19377 non-null  float64\n",
      " 56  secondary_cleaner.state.floatbank2_a_air            19219 non-null  float64\n",
      " 57  secondary_cleaner.state.floatbank2_a_level          19438 non-null  float64\n",
      " 58  secondary_cleaner.state.floatbank2_b_air            19416 non-null  float64\n",
      " 59  secondary_cleaner.state.floatbank2_b_level          19438 non-null  float64\n",
      " 60  secondary_cleaner.state.floatbank3_a_air            19426 non-null  float64\n",
      " 61  secondary_cleaner.state.floatbank3_a_level          19438 non-null  float64\n",
      " 62  secondary_cleaner.state.floatbank3_b_air            19438 non-null  float64\n",
      " 63  secondary_cleaner.state.floatbank3_b_level          19438 non-null  float64\n",
      " 64  secondary_cleaner.state.floatbank4_a_air            19433 non-null  float64\n",
      " 65  secondary_cleaner.state.floatbank4_a_level          19438 non-null  float64\n",
      " 66  secondary_cleaner.state.floatbank4_b_air            19438 non-null  float64\n",
      " 67  secondary_cleaner.state.floatbank4_b_level          19438 non-null  float64\n",
      " 68  secondary_cleaner.state.floatbank5_a_air            19438 non-null  float64\n",
      " 69  secondary_cleaner.state.floatbank5_a_level          19438 non-null  float64\n",
      " 70  secondary_cleaner.state.floatbank5_b_air            19438 non-null  float64\n",
      " 71  secondary_cleaner.state.floatbank5_b_level          19438 non-null  float64\n",
      " 72  secondary_cleaner.state.floatbank6_a_air            19437 non-null  float64\n",
      " 73  secondary_cleaner.state.floatbank6_a_level          19438 non-null  float64\n",
      " 74  secondary_cleaner.output.tail_au                    19439 non-null  float64\n",
      " 75  secondary_cleaner.output.tail_ag                    19437 non-null  float64\n",
      " 76  secondary_cleaner.output.tail_pb                    19427 non-null  float64\n",
      " 77  secondary_cleaner.output.tail_sol                   17691 non-null  float64\n",
      " 78  final.output.concentrate_au                         19439 non-null  float64\n",
      " 79  final.output.concentrate_ag                         19438 non-null  float64\n",
      " 80  final.output.concentrate_pb                         19438 non-null  float64\n",
      " 81  final.output.concentrate_sol                        19228 non-null  float64\n",
      " 82  final.output.recovery                               19439 non-null  float64\n",
      " 83  final.output.tail_au                                19439 non-null  float64\n",
      " 84  final.output.tail_ag                                19438 non-null  float64\n",
      " 85  final.output.tail_pb                                19338 non-null  float64\n",
      " 86  final.output.tail_sol                               19433 non-null  float64\n",
      "dtypes: float64(86), object(1)\n",
      "memory usage: 12.9+ MB\n"
     ]
    },
    {
     "data": {
      "text/html": [
       "<div>\n",
       "<style scoped>\n",
       "    .dataframe tbody tr th:only-of-type {\n",
       "        vertical-align: middle;\n",
       "    }\n",
       "\n",
       "    .dataframe tbody tr th {\n",
       "        vertical-align: top;\n",
       "    }\n",
       "\n",
       "    .dataframe thead th {\n",
       "        text-align: right;\n",
       "    }\n",
       "</style>\n",
       "<table border=\"1\" class=\"dataframe\">\n",
       "  <thead>\n",
       "    <tr style=\"text-align: right;\">\n",
       "      <th></th>\n",
       "      <th>rougher.input.feed_au</th>\n",
       "      <th>rougher.input.feed_ag</th>\n",
       "      <th>rougher.input.feed_pb</th>\n",
       "      <th>rougher.input.feed_sol</th>\n",
       "      <th>rougher.input.feed_rate</th>\n",
       "      <th>rougher.input.feed_size</th>\n",
       "      <th>rougher.input.floatbank10_sulfate</th>\n",
       "      <th>rougher.input.floatbank10_xanthate</th>\n",
       "      <th>rougher.state.floatbank10_a_air</th>\n",
       "      <th>rougher.state.floatbank10_a_level</th>\n",
       "      <th>...</th>\n",
       "      <th>secondary_cleaner.output.tail_sol</th>\n",
       "      <th>final.output.concentrate_au</th>\n",
       "      <th>final.output.concentrate_ag</th>\n",
       "      <th>final.output.concentrate_pb</th>\n",
       "      <th>final.output.concentrate_sol</th>\n",
       "      <th>final.output.recovery</th>\n",
       "      <th>final.output.tail_au</th>\n",
       "      <th>final.output.tail_ag</th>\n",
       "      <th>final.output.tail_pb</th>\n",
       "      <th>final.output.tail_sol</th>\n",
       "    </tr>\n",
       "  </thead>\n",
       "  <tbody>\n",
       "    <tr>\n",
       "      <th>count</th>\n",
       "      <td>19439.000000</td>\n",
       "      <td>19439.000000</td>\n",
       "      <td>19339.000000</td>\n",
       "      <td>19340.000000</td>\n",
       "      <td>19428.000000</td>\n",
       "      <td>19294.000000</td>\n",
       "      <td>19405.000000</td>\n",
       "      <td>19431.000000</td>\n",
       "      <td>19438.000000</td>\n",
       "      <td>19438.000000</td>\n",
       "      <td>...</td>\n",
       "      <td>17691.000000</td>\n",
       "      <td>19439.000000</td>\n",
       "      <td>19438.000000</td>\n",
       "      <td>19438.000000</td>\n",
       "      <td>19228.000000</td>\n",
       "      <td>19439.000000</td>\n",
       "      <td>19439.000000</td>\n",
       "      <td>19438.000000</td>\n",
       "      <td>19338.000000</td>\n",
       "      <td>19433.000000</td>\n",
       "    </tr>\n",
       "    <tr>\n",
       "      <th>mean</th>\n",
       "      <td>8.266097</td>\n",
       "      <td>8.794927</td>\n",
       "      <td>3.598085</td>\n",
       "      <td>36.695114</td>\n",
       "      <td>478.320042</td>\n",
       "      <td>58.970310</td>\n",
       "      <td>12.334373</td>\n",
       "      <td>6.021474</td>\n",
       "      <td>1105.315068</td>\n",
       "      <td>-376.610690</td>\n",
       "      <td>...</td>\n",
       "      <td>7.167247</td>\n",
       "      <td>44.076513</td>\n",
       "      <td>5.168470</td>\n",
       "      <td>9.978895</td>\n",
       "      <td>9.501224</td>\n",
       "      <td>67.050208</td>\n",
       "      <td>3.042467</td>\n",
       "      <td>9.688589</td>\n",
       "      <td>2.705795</td>\n",
       "      <td>10.583728</td>\n",
       "    </tr>\n",
       "    <tr>\n",
       "      <th>std</th>\n",
       "      <td>1.955092</td>\n",
       "      <td>1.936847</td>\n",
       "      <td>1.049486</td>\n",
       "      <td>5.145445</td>\n",
       "      <td>105.373758</td>\n",
       "      <td>21.634478</td>\n",
       "      <td>3.427317</td>\n",
       "      <td>1.127263</td>\n",
       "      <td>160.826798</td>\n",
       "      <td>93.909667</td>\n",
       "      <td>...</td>\n",
       "      <td>3.916079</td>\n",
       "      <td>5.129784</td>\n",
       "      <td>1.372348</td>\n",
       "      <td>1.669240</td>\n",
       "      <td>2.787537</td>\n",
       "      <td>10.125840</td>\n",
       "      <td>0.922808</td>\n",
       "      <td>2.328642</td>\n",
       "      <td>0.949077</td>\n",
       "      <td>2.868782</td>\n",
       "    </tr>\n",
       "    <tr>\n",
       "      <th>min</th>\n",
       "      <td>0.010000</td>\n",
       "      <td>0.010000</td>\n",
       "      <td>0.010000</td>\n",
       "      <td>0.010000</td>\n",
       "      <td>0.002986</td>\n",
       "      <td>0.046369</td>\n",
       "      <td>0.001083</td>\n",
       "      <td>0.000568</td>\n",
       "      <td>-0.042069</td>\n",
       "      <td>-657.949759</td>\n",
       "      <td>...</td>\n",
       "      <td>0.000000</td>\n",
       "      <td>0.000000</td>\n",
       "      <td>0.000000</td>\n",
       "      <td>0.000000</td>\n",
       "      <td>0.000000</td>\n",
       "      <td>0.000000</td>\n",
       "      <td>0.000000</td>\n",
       "      <td>0.000000</td>\n",
       "      <td>0.000000</td>\n",
       "      <td>0.000000</td>\n",
       "    </tr>\n",
       "    <tr>\n",
       "      <th>25%</th>\n",
       "      <td>6.854384</td>\n",
       "      <td>7.237967</td>\n",
       "      <td>2.887280</td>\n",
       "      <td>34.207799</td>\n",
       "      <td>416.525453</td>\n",
       "      <td>47.435103</td>\n",
       "      <td>10.000362</td>\n",
       "      <td>5.398678</td>\n",
       "      <td>999.661867</td>\n",
       "      <td>-499.835165</td>\n",
       "      <td>...</td>\n",
       "      <td>3.845475</td>\n",
       "      <td>43.402215</td>\n",
       "      <td>4.251240</td>\n",
       "      <td>9.137262</td>\n",
       "      <td>7.722820</td>\n",
       "      <td>63.299712</td>\n",
       "      <td>2.461138</td>\n",
       "      <td>8.062878</td>\n",
       "      <td>2.040119</td>\n",
       "      <td>8.938947</td>\n",
       "    </tr>\n",
       "    <tr>\n",
       "      <th>50%</th>\n",
       "      <td>8.125839</td>\n",
       "      <td>8.593574</td>\n",
       "      <td>3.534895</td>\n",
       "      <td>37.202650</td>\n",
       "      <td>499.416120</td>\n",
       "      <td>54.610197</td>\n",
       "      <td>12.001174</td>\n",
       "      <td>6.008273</td>\n",
       "      <td>1001.072890</td>\n",
       "      <td>-300.263994</td>\n",
       "      <td>...</td>\n",
       "      <td>7.685827</td>\n",
       "      <td>45.011244</td>\n",
       "      <td>5.066094</td>\n",
       "      <td>10.102433</td>\n",
       "      <td>9.218961</td>\n",
       "      <td>68.172738</td>\n",
       "      <td>2.984909</td>\n",
       "      <td>9.743623</td>\n",
       "      <td>2.748730</td>\n",
       "      <td>10.622456</td>\n",
       "    </tr>\n",
       "    <tr>\n",
       "      <th>75%</th>\n",
       "      <td>9.769917</td>\n",
       "      <td>10.213771</td>\n",
       "      <td>4.244161</td>\n",
       "      <td>40.039133</td>\n",
       "      <td>550.172183</td>\n",
       "      <td>65.023044</td>\n",
       "      <td>14.716595</td>\n",
       "      <td>6.798051</td>\n",
       "      <td>1205.620588</td>\n",
       "      <td>-299.981998</td>\n",
       "      <td>...</td>\n",
       "      <td>10.411296</td>\n",
       "      <td>46.275313</td>\n",
       "      <td>5.895527</td>\n",
       "      <td>11.035769</td>\n",
       "      <td>10.947813</td>\n",
       "      <td>72.686642</td>\n",
       "      <td>3.571351</td>\n",
       "      <td>11.134294</td>\n",
       "      <td>3.333216</td>\n",
       "      <td>12.104271</td>\n",
       "    </tr>\n",
       "    <tr>\n",
       "      <th>max</th>\n",
       "      <td>13.731330</td>\n",
       "      <td>14.596026</td>\n",
       "      <td>7.142594</td>\n",
       "      <td>53.477742</td>\n",
       "      <td>717.508837</td>\n",
       "      <td>484.967466</td>\n",
       "      <td>36.118275</td>\n",
       "      <td>9.703448</td>\n",
       "      <td>1521.980372</td>\n",
       "      <td>-273.776101</td>\n",
       "      <td>...</td>\n",
       "      <td>26.000772</td>\n",
       "      <td>52.756638</td>\n",
       "      <td>16.001945</td>\n",
       "      <td>17.031899</td>\n",
       "      <td>19.615720</td>\n",
       "      <td>100.000000</td>\n",
       "      <td>8.245022</td>\n",
       "      <td>19.552149</td>\n",
       "      <td>5.804178</td>\n",
       "      <td>22.317730</td>\n",
       "    </tr>\n",
       "  </tbody>\n",
       "</table>\n",
       "<p>8 rows × 86 columns</p>\n",
       "</div>"
      ],
      "text/plain": [
       "       rougher.input.feed_au  rougher.input.feed_ag  rougher.input.feed_pb  \\\n",
       "count           19439.000000           19439.000000           19339.000000   \n",
       "mean                8.266097               8.794927               3.598085   \n",
       "std                 1.955092               1.936847               1.049486   \n",
       "min                 0.010000               0.010000               0.010000   \n",
       "25%                 6.854384               7.237967               2.887280   \n",
       "50%                 8.125839               8.593574               3.534895   \n",
       "75%                 9.769917              10.213771               4.244161   \n",
       "max                13.731330              14.596026               7.142594   \n",
       "\n",
       "       rougher.input.feed_sol  rougher.input.feed_rate  \\\n",
       "count            19340.000000             19428.000000   \n",
       "mean                36.695114               478.320042   \n",
       "std                  5.145445               105.373758   \n",
       "min                  0.010000                 0.002986   \n",
       "25%                 34.207799               416.525453   \n",
       "50%                 37.202650               499.416120   \n",
       "75%                 40.039133               550.172183   \n",
       "max                 53.477742               717.508837   \n",
       "\n",
       "       rougher.input.feed_size  rougher.input.floatbank10_sulfate  \\\n",
       "count             19294.000000                       19405.000000   \n",
       "mean                 58.970310                          12.334373   \n",
       "std                  21.634478                           3.427317   \n",
       "min                   0.046369                           0.001083   \n",
       "25%                  47.435103                          10.000362   \n",
       "50%                  54.610197                          12.001174   \n",
       "75%                  65.023044                          14.716595   \n",
       "max                 484.967466                          36.118275   \n",
       "\n",
       "       rougher.input.floatbank10_xanthate  rougher.state.floatbank10_a_air  \\\n",
       "count                        19431.000000                     19438.000000   \n",
       "mean                             6.021474                      1105.315068   \n",
       "std                              1.127263                       160.826798   \n",
       "min                              0.000568                        -0.042069   \n",
       "25%                              5.398678                       999.661867   \n",
       "50%                              6.008273                      1001.072890   \n",
       "75%                              6.798051                      1205.620588   \n",
       "max                              9.703448                      1521.980372   \n",
       "\n",
       "       rougher.state.floatbank10_a_level  ...  \\\n",
       "count                       19438.000000  ...   \n",
       "mean                         -376.610690  ...   \n",
       "std                            93.909667  ...   \n",
       "min                          -657.949759  ...   \n",
       "25%                          -499.835165  ...   \n",
       "50%                          -300.263994  ...   \n",
       "75%                          -299.981998  ...   \n",
       "max                          -273.776101  ...   \n",
       "\n",
       "       secondary_cleaner.output.tail_sol  final.output.concentrate_au  \\\n",
       "count                       17691.000000                 19439.000000   \n",
       "mean                            7.167247                    44.076513   \n",
       "std                             3.916079                     5.129784   \n",
       "min                             0.000000                     0.000000   \n",
       "25%                             3.845475                    43.402215   \n",
       "50%                             7.685827                    45.011244   \n",
       "75%                            10.411296                    46.275313   \n",
       "max                            26.000772                    52.756638   \n",
       "\n",
       "       final.output.concentrate_ag  final.output.concentrate_pb  \\\n",
       "count                 19438.000000                 19438.000000   \n",
       "mean                      5.168470                     9.978895   \n",
       "std                       1.372348                     1.669240   \n",
       "min                       0.000000                     0.000000   \n",
       "25%                       4.251240                     9.137262   \n",
       "50%                       5.066094                    10.102433   \n",
       "75%                       5.895527                    11.035769   \n",
       "max                      16.001945                    17.031899   \n",
       "\n",
       "       final.output.concentrate_sol  final.output.recovery  \\\n",
       "count                  19228.000000           19439.000000   \n",
       "mean                       9.501224              67.050208   \n",
       "std                        2.787537              10.125840   \n",
       "min                        0.000000               0.000000   \n",
       "25%                        7.722820              63.299712   \n",
       "50%                        9.218961              68.172738   \n",
       "75%                       10.947813              72.686642   \n",
       "max                       19.615720             100.000000   \n",
       "\n",
       "       final.output.tail_au  final.output.tail_ag  final.output.tail_pb  \\\n",
       "count          19439.000000          19438.000000          19338.000000   \n",
       "mean               3.042467              9.688589              2.705795   \n",
       "std                0.922808              2.328642              0.949077   \n",
       "min                0.000000              0.000000              0.000000   \n",
       "25%                2.461138              8.062878              2.040119   \n",
       "50%                2.984909              9.743623              2.748730   \n",
       "75%                3.571351             11.134294              3.333216   \n",
       "max                8.245022             19.552149              5.804178   \n",
       "\n",
       "       final.output.tail_sol  \n",
       "count           19433.000000  \n",
       "mean               10.583728  \n",
       "std                 2.868782  \n",
       "min                 0.000000  \n",
       "25%                 8.938947  \n",
       "50%                10.622456  \n",
       "75%                12.104271  \n",
       "max                22.317730  \n",
       "\n",
       "[8 rows x 86 columns]"
      ]
     },
     "metadata": {},
     "output_type": "display_data"
    }
   ],
   "source": [
    "#Посмотрим полные данные\n",
    "\n",
    "study(data_full)"
   ]
  },
  {
   "cell_type": "markdown",
   "metadata": {},
   "source": [
    "Можем заметить, что в столбцах имеются пропуски, нужно будет их обработать. Также тип данных в столбце **date** необходимо будет заменить на **datetime**. Проверим данные на явные дубликаты."
   ]
  },
  {
   "cell_type": "code",
   "execution_count": 9,
   "metadata": {},
   "outputs": [
    {
     "data": {
      "text/plain": [
       "0"
      ]
     },
     "execution_count": 9,
     "metadata": {},
     "output_type": "execute_result"
    }
   ],
   "source": [
    "data_train.duplicated().sum()"
   ]
  },
  {
   "cell_type": "code",
   "execution_count": 10,
   "metadata": {},
   "outputs": [
    {
     "data": {
      "text/plain": [
       "0"
      ]
     },
     "execution_count": 10,
     "metadata": {},
     "output_type": "execute_result"
    }
   ],
   "source": [
    "data_test.duplicated().sum()"
   ]
  },
  {
   "cell_type": "code",
   "execution_count": 11,
   "metadata": {},
   "outputs": [
    {
     "data": {
      "text/plain": [
       "0"
      ]
     },
     "execution_count": 11,
     "metadata": {},
     "output_type": "execute_result"
    }
   ],
   "source": [
    "data_full.duplicated().sum()"
   ]
  },
  {
   "cell_type": "markdown",
   "metadata": {},
   "source": [
    "Явных дубликатов не выявлено. Изменим тип данных в столбце **date**."
   ]
  },
  {
   "cell_type": "code",
   "execution_count": 12,
   "metadata": {
    "scrolled": true
   },
   "outputs": [
    {
     "name": "stdout",
     "output_type": "stream",
     "text": [
      "<class 'pandas.core.frame.DataFrame'>\n",
      "RangeIndex: 14579 entries, 0 to 14578\n",
      "Data columns (total 87 columns):\n",
      " #   Column                                              Non-Null Count  Dtype         \n",
      "---  ------                                              --------------  -----         \n",
      " 0   date                                                14579 non-null  datetime64[ns]\n",
      " 1   rougher.input.feed_au                               14579 non-null  float64       \n",
      " 2   rougher.input.feed_ag                               14579 non-null  float64       \n",
      " 3   rougher.input.feed_pb                               14507 non-null  float64       \n",
      " 4   rougher.input.feed_sol                              14502 non-null  float64       \n",
      " 5   rougher.input.feed_rate                             14572 non-null  float64       \n",
      " 6   rougher.input.feed_size                             14478 non-null  float64       \n",
      " 7   rougher.input.floatbank10_sulfate                   14548 non-null  float64       \n",
      " 8   rougher.input.floatbank10_xanthate                  14572 non-null  float64       \n",
      " 9   rougher.state.floatbank10_a_air                     14579 non-null  float64       \n",
      " 10  rougher.state.floatbank10_a_level                   14579 non-null  float64       \n",
      " 11  rougher.state.floatbank10_b_air                     14579 non-null  float64       \n",
      " 12  rougher.state.floatbank10_b_level                   14579 non-null  float64       \n",
      " 13  rougher.state.floatbank10_c_air                     14579 non-null  float64       \n",
      " 14  rougher.state.floatbank10_c_level                   14579 non-null  float64       \n",
      " 15  rougher.state.floatbank10_d_air                     14579 non-null  float64       \n",
      " 16  rougher.state.floatbank10_d_level                   14579 non-null  float64       \n",
      " 17  rougher.state.floatbank10_e_air                     14150 non-null  float64       \n",
      " 18  rougher.state.floatbank10_e_level                   14579 non-null  float64       \n",
      " 19  rougher.state.floatbank10_f_air                     14579 non-null  float64       \n",
      " 20  rougher.state.floatbank10_f_level                   14579 non-null  float64       \n",
      " 21  rougher.input.floatbank11_sulfate                   14543 non-null  float64       \n",
      " 22  rougher.input.floatbank11_xanthate                  14172 non-null  float64       \n",
      " 23  rougher.calculation.sulfate_to_au_concentrate       14578 non-null  float64       \n",
      " 24  rougher.calculation.floatbank10_sulfate_to_au_feed  14578 non-null  float64       \n",
      " 25  rougher.calculation.floatbank11_sulfate_to_au_feed  14578 non-null  float64       \n",
      " 26  rougher.calculation.au_pb_ratio                     14579 non-null  float64       \n",
      " 27  rougher.output.concentrate_au                       14579 non-null  float64       \n",
      " 28  rougher.output.concentrate_ag                       14579 non-null  float64       \n",
      " 29  rougher.output.concentrate_pb                       14579 non-null  float64       \n",
      " 30  rougher.output.concentrate_sol                      14561 non-null  float64       \n",
      " 31  rougher.output.recovery                             14579 non-null  float64       \n",
      " 32  rougher.output.tail_au                              14579 non-null  float64       \n",
      " 33  rougher.output.tail_ag                              14578 non-null  float64       \n",
      " 34  rougher.output.tail_pb                              14579 non-null  float64       \n",
      " 35  rougher.output.tail_sol                             14579 non-null  float64       \n",
      " 36  primary_cleaner.input.sulfate                       14556 non-null  float64       \n",
      " 37  primary_cleaner.input.depressant                    14551 non-null  float64       \n",
      " 38  primary_cleaner.input.feed_size                     14579 non-null  float64       \n",
      " 39  primary_cleaner.input.xanthate                      14518 non-null  float64       \n",
      " 40  primary_cleaner.state.floatbank8_a_air              14576 non-null  float64       \n",
      " 41  primary_cleaner.state.floatbank8_a_level            14579 non-null  float64       \n",
      " 42  primary_cleaner.state.floatbank8_b_air              14576 non-null  float64       \n",
      " 43  primary_cleaner.state.floatbank8_b_level            14579 non-null  float64       \n",
      " 44  primary_cleaner.state.floatbank8_c_air              14579 non-null  float64       \n",
      " 45  primary_cleaner.state.floatbank8_c_level            14579 non-null  float64       \n",
      " 46  primary_cleaner.state.floatbank8_d_air              14578 non-null  float64       \n",
      " 47  primary_cleaner.state.floatbank8_d_level            14579 non-null  float64       \n",
      " 48  primary_cleaner.output.concentrate_au               14579 non-null  float64       \n",
      " 49  primary_cleaner.output.concentrate_ag               14579 non-null  float64       \n",
      " 50  primary_cleaner.output.concentrate_pb               14491 non-null  float64       \n",
      " 51  primary_cleaner.output.concentrate_sol              14314 non-null  float64       \n",
      " 52  primary_cleaner.output.tail_au                      14579 non-null  float64       \n",
      " 53  primary_cleaner.output.tail_ag                      14575 non-null  float64       \n",
      " 54  primary_cleaner.output.tail_pb                      14573 non-null  float64       \n",
      " 55  primary_cleaner.output.tail_sol                     14534 non-null  float64       \n",
      " 56  secondary_cleaner.state.floatbank2_a_air            14485 non-null  float64       \n",
      " 57  secondary_cleaner.state.floatbank2_a_level          14579 non-null  float64       \n",
      " 58  secondary_cleaner.state.floatbank2_b_air            14557 non-null  float64       \n",
      " 59  secondary_cleaner.state.floatbank2_b_level          14579 non-null  float64       \n",
      " 60  secondary_cleaner.state.floatbank3_a_air            14567 non-null  float64       \n",
      " 61  secondary_cleaner.state.floatbank3_a_level          14579 non-null  float64       \n",
      " 62  secondary_cleaner.state.floatbank3_b_air            14579 non-null  float64       \n",
      " 63  secondary_cleaner.state.floatbank3_b_level          14579 non-null  float64       \n",
      " 64  secondary_cleaner.state.floatbank4_a_air            14574 non-null  float64       \n",
      " 65  secondary_cleaner.state.floatbank4_a_level          14579 non-null  float64       \n",
      " 66  secondary_cleaner.state.floatbank4_b_air            14579 non-null  float64       \n",
      " 67  secondary_cleaner.state.floatbank4_b_level          14579 non-null  float64       \n",
      " 68  secondary_cleaner.state.floatbank5_a_air            14579 non-null  float64       \n",
      " 69  secondary_cleaner.state.floatbank5_a_level          14579 non-null  float64       \n",
      " 70  secondary_cleaner.state.floatbank5_b_air            14579 non-null  float64       \n",
      " 71  secondary_cleaner.state.floatbank5_b_level          14579 non-null  float64       \n",
      " 72  secondary_cleaner.state.floatbank6_a_air            14578 non-null  float64       \n",
      " 73  secondary_cleaner.state.floatbank6_a_level          14579 non-null  float64       \n",
      " 74  secondary_cleaner.output.tail_au                    14579 non-null  float64       \n",
      " 75  secondary_cleaner.output.tail_ag                    14578 non-null  float64       \n",
      " 76  secondary_cleaner.output.tail_pb                    14575 non-null  float64       \n",
      " 77  secondary_cleaner.output.tail_sol                   13659 non-null  float64       \n",
      " 78  final.output.concentrate_au                         14579 non-null  float64       \n",
      " 79  final.output.concentrate_ag                         14578 non-null  float64       \n",
      " 80  final.output.concentrate_pb                         14578 non-null  float64       \n",
      " 81  final.output.concentrate_sol                        14387 non-null  float64       \n",
      " 82  final.output.recovery                               14579 non-null  float64       \n",
      " 83  final.output.tail_au                                14579 non-null  float64       \n",
      " 84  final.output.tail_ag                                14578 non-null  float64       \n",
      " 85  final.output.tail_pb                                14504 non-null  float64       \n",
      " 86  final.output.tail_sol                               14574 non-null  float64       \n",
      "dtypes: datetime64[ns](1), float64(86)\n",
      "memory usage: 9.7 MB\n"
     ]
    }
   ],
   "source": [
    "data_train['date'] = pd.to_datetime(data_train['date'], format='%Y-%m-%d %H:%M:%S')\n",
    "\n",
    "data_train.info()"
   ]
  },
  {
   "cell_type": "code",
   "execution_count": 13,
   "metadata": {
    "scrolled": true
   },
   "outputs": [
    {
     "name": "stdout",
     "output_type": "stream",
     "text": [
      "<class 'pandas.core.frame.DataFrame'>\n",
      "RangeIndex: 4860 entries, 0 to 4859\n",
      "Data columns (total 53 columns):\n",
      " #   Column                                      Non-Null Count  Dtype         \n",
      "---  ------                                      --------------  -----         \n",
      " 0   date                                        4860 non-null   datetime64[ns]\n",
      " 1   rougher.input.feed_au                       4860 non-null   float64       \n",
      " 2   rougher.input.feed_ag                       4860 non-null   float64       \n",
      " 3   rougher.input.feed_pb                       4832 non-null   float64       \n",
      " 4   rougher.input.feed_sol                      4838 non-null   float64       \n",
      " 5   rougher.input.feed_rate                     4856 non-null   float64       \n",
      " 6   rougher.input.feed_size                     4816 non-null   float64       \n",
      " 7   rougher.input.floatbank10_sulfate           4857 non-null   float64       \n",
      " 8   rougher.input.floatbank10_xanthate          4859 non-null   float64       \n",
      " 9   rougher.state.floatbank10_a_air             4859 non-null   float64       \n",
      " 10  rougher.state.floatbank10_a_level           4859 non-null   float64       \n",
      " 11  rougher.state.floatbank10_b_air             4859 non-null   float64       \n",
      " 12  rougher.state.floatbank10_b_level           4859 non-null   float64       \n",
      " 13  rougher.state.floatbank10_c_air             4859 non-null   float64       \n",
      " 14  rougher.state.floatbank10_c_level           4859 non-null   float64       \n",
      " 15  rougher.state.floatbank10_d_air             4860 non-null   float64       \n",
      " 16  rougher.state.floatbank10_d_level           4860 non-null   float64       \n",
      " 17  rougher.state.floatbank10_e_air             4853 non-null   float64       \n",
      " 18  rougher.state.floatbank10_e_level           4860 non-null   float64       \n",
      " 19  rougher.state.floatbank10_f_air             4860 non-null   float64       \n",
      " 20  rougher.state.floatbank10_f_level           4860 non-null   float64       \n",
      " 21  rougher.input.floatbank11_sulfate           4852 non-null   float64       \n",
      " 22  rougher.input.floatbank11_xanthate          4814 non-null   float64       \n",
      " 23  primary_cleaner.input.sulfate               4859 non-null   float64       \n",
      " 24  primary_cleaner.input.depressant            4851 non-null   float64       \n",
      " 25  primary_cleaner.input.feed_size             4860 non-null   float64       \n",
      " 26  primary_cleaner.input.xanthate              4817 non-null   float64       \n",
      " 27  primary_cleaner.state.floatbank8_a_air      4859 non-null   float64       \n",
      " 28  primary_cleaner.state.floatbank8_a_level    4859 non-null   float64       \n",
      " 29  primary_cleaner.state.floatbank8_b_air      4859 non-null   float64       \n",
      " 30  primary_cleaner.state.floatbank8_b_level    4859 non-null   float64       \n",
      " 31  primary_cleaner.state.floatbank8_c_air      4858 non-null   float64       \n",
      " 32  primary_cleaner.state.floatbank8_c_level    4859 non-null   float64       \n",
      " 33  primary_cleaner.state.floatbank8_d_air      4858 non-null   float64       \n",
      " 34  primary_cleaner.state.floatbank8_d_level    4859 non-null   float64       \n",
      " 35  secondary_cleaner.state.floatbank2_a_air    4734 non-null   float64       \n",
      " 36  secondary_cleaner.state.floatbank2_a_level  4859 non-null   float64       \n",
      " 37  secondary_cleaner.state.floatbank2_b_air    4859 non-null   float64       \n",
      " 38  secondary_cleaner.state.floatbank2_b_level  4859 non-null   float64       \n",
      " 39  secondary_cleaner.state.floatbank3_a_air    4859 non-null   float64       \n",
      " 40  secondary_cleaner.state.floatbank3_a_level  4859 non-null   float64       \n",
      " 41  secondary_cleaner.state.floatbank3_b_air    4859 non-null   float64       \n",
      " 42  secondary_cleaner.state.floatbank3_b_level  4859 non-null   float64       \n",
      " 43  secondary_cleaner.state.floatbank4_a_air    4859 non-null   float64       \n",
      " 44  secondary_cleaner.state.floatbank4_a_level  4859 non-null   float64       \n",
      " 45  secondary_cleaner.state.floatbank4_b_air    4859 non-null   float64       \n",
      " 46  secondary_cleaner.state.floatbank4_b_level  4859 non-null   float64       \n",
      " 47  secondary_cleaner.state.floatbank5_a_air    4859 non-null   float64       \n",
      " 48  secondary_cleaner.state.floatbank5_a_level  4859 non-null   float64       \n",
      " 49  secondary_cleaner.state.floatbank5_b_air    4859 non-null   float64       \n",
      " 50  secondary_cleaner.state.floatbank5_b_level  4859 non-null   float64       \n",
      " 51  secondary_cleaner.state.floatbank6_a_air    4859 non-null   float64       \n",
      " 52  secondary_cleaner.state.floatbank6_a_level  4859 non-null   float64       \n",
      "dtypes: datetime64[ns](1), float64(52)\n",
      "memory usage: 2.0 MB\n"
     ]
    }
   ],
   "source": [
    "data_test['date'] = pd.to_datetime(data_test['date'], format='%Y-%m-%d %H:%M:%S')\n",
    "\n",
    "data_test.info()"
   ]
  },
  {
   "cell_type": "code",
   "execution_count": 14,
   "metadata": {
    "scrolled": true
   },
   "outputs": [
    {
     "name": "stdout",
     "output_type": "stream",
     "text": [
      "<class 'pandas.core.frame.DataFrame'>\n",
      "RangeIndex: 19439 entries, 0 to 19438\n",
      "Data columns (total 87 columns):\n",
      " #   Column                                              Non-Null Count  Dtype         \n",
      "---  ------                                              --------------  -----         \n",
      " 0   date                                                19439 non-null  datetime64[ns]\n",
      " 1   rougher.input.feed_au                               19439 non-null  float64       \n",
      " 2   rougher.input.feed_ag                               19439 non-null  float64       \n",
      " 3   rougher.input.feed_pb                               19339 non-null  float64       \n",
      " 4   rougher.input.feed_sol                              19340 non-null  float64       \n",
      " 5   rougher.input.feed_rate                             19428 non-null  float64       \n",
      " 6   rougher.input.feed_size                             19294 non-null  float64       \n",
      " 7   rougher.input.floatbank10_sulfate                   19405 non-null  float64       \n",
      " 8   rougher.input.floatbank10_xanthate                  19431 non-null  float64       \n",
      " 9   rougher.state.floatbank10_a_air                     19438 non-null  float64       \n",
      " 10  rougher.state.floatbank10_a_level                   19438 non-null  float64       \n",
      " 11  rougher.state.floatbank10_b_air                     19438 non-null  float64       \n",
      " 12  rougher.state.floatbank10_b_level                   19438 non-null  float64       \n",
      " 13  rougher.state.floatbank10_c_air                     19438 non-null  float64       \n",
      " 14  rougher.state.floatbank10_c_level                   19438 non-null  float64       \n",
      " 15  rougher.state.floatbank10_d_air                     19439 non-null  float64       \n",
      " 16  rougher.state.floatbank10_d_level                   19439 non-null  float64       \n",
      " 17  rougher.state.floatbank10_e_air                     19003 non-null  float64       \n",
      " 18  rougher.state.floatbank10_e_level                   19439 non-null  float64       \n",
      " 19  rougher.state.floatbank10_f_air                     19439 non-null  float64       \n",
      " 20  rougher.state.floatbank10_f_level                   19439 non-null  float64       \n",
      " 21  rougher.input.floatbank11_sulfate                   19395 non-null  float64       \n",
      " 22  rougher.input.floatbank11_xanthate                  18986 non-null  float64       \n",
      " 23  rougher.calculation.sulfate_to_au_concentrate       19437 non-null  float64       \n",
      " 24  rougher.calculation.floatbank10_sulfate_to_au_feed  19437 non-null  float64       \n",
      " 25  rougher.calculation.floatbank11_sulfate_to_au_feed  19437 non-null  float64       \n",
      " 26  rougher.calculation.au_pb_ratio                     19439 non-null  float64       \n",
      " 27  rougher.output.concentrate_au                       19439 non-null  float64       \n",
      " 28  rougher.output.concentrate_ag                       19439 non-null  float64       \n",
      " 29  rougher.output.concentrate_pb                       19439 non-null  float64       \n",
      " 30  rougher.output.concentrate_sol                      19416 non-null  float64       \n",
      " 31  rougher.output.recovery                             19439 non-null  float64       \n",
      " 32  rougher.output.tail_au                              19439 non-null  float64       \n",
      " 33  rougher.output.tail_ag                              19438 non-null  float64       \n",
      " 34  rougher.output.tail_pb                              19439 non-null  float64       \n",
      " 35  rougher.output.tail_sol                             19439 non-null  float64       \n",
      " 36  primary_cleaner.input.sulfate                       19415 non-null  float64       \n",
      " 37  primary_cleaner.input.depressant                    19402 non-null  float64       \n",
      " 38  primary_cleaner.input.feed_size                     19439 non-null  float64       \n",
      " 39  primary_cleaner.input.xanthate                      19335 non-null  float64       \n",
      " 40  primary_cleaner.state.floatbank8_a_air              19435 non-null  float64       \n",
      " 41  primary_cleaner.state.floatbank8_a_level            19438 non-null  float64       \n",
      " 42  primary_cleaner.state.floatbank8_b_air              19435 non-null  float64       \n",
      " 43  primary_cleaner.state.floatbank8_b_level            19438 non-null  float64       \n",
      " 44  primary_cleaner.state.floatbank8_c_air              19437 non-null  float64       \n",
      " 45  primary_cleaner.state.floatbank8_c_level            19438 non-null  float64       \n",
      " 46  primary_cleaner.state.floatbank8_d_air              19436 non-null  float64       \n",
      " 47  primary_cleaner.state.floatbank8_d_level            19438 non-null  float64       \n",
      " 48  primary_cleaner.output.concentrate_au               19439 non-null  float64       \n",
      " 49  primary_cleaner.output.concentrate_ag               19439 non-null  float64       \n",
      " 50  primary_cleaner.output.concentrate_pb               19323 non-null  float64       \n",
      " 51  primary_cleaner.output.concentrate_sol              19069 non-null  float64       \n",
      " 52  primary_cleaner.output.tail_au                      19439 non-null  float64       \n",
      " 53  primary_cleaner.output.tail_ag                      19435 non-null  float64       \n",
      " 54  primary_cleaner.output.tail_pb                      19418 non-null  float64       \n",
      " 55  primary_cleaner.output.tail_sol                     19377 non-null  float64       \n",
      " 56  secondary_cleaner.state.floatbank2_a_air            19219 non-null  float64       \n",
      " 57  secondary_cleaner.state.floatbank2_a_level          19438 non-null  float64       \n",
      " 58  secondary_cleaner.state.floatbank2_b_air            19416 non-null  float64       \n",
      " 59  secondary_cleaner.state.floatbank2_b_level          19438 non-null  float64       \n",
      " 60  secondary_cleaner.state.floatbank3_a_air            19426 non-null  float64       \n",
      " 61  secondary_cleaner.state.floatbank3_a_level          19438 non-null  float64       \n",
      " 62  secondary_cleaner.state.floatbank3_b_air            19438 non-null  float64       \n",
      " 63  secondary_cleaner.state.floatbank3_b_level          19438 non-null  float64       \n",
      " 64  secondary_cleaner.state.floatbank4_a_air            19433 non-null  float64       \n",
      " 65  secondary_cleaner.state.floatbank4_a_level          19438 non-null  float64       \n",
      " 66  secondary_cleaner.state.floatbank4_b_air            19438 non-null  float64       \n",
      " 67  secondary_cleaner.state.floatbank4_b_level          19438 non-null  float64       \n",
      " 68  secondary_cleaner.state.floatbank5_a_air            19438 non-null  float64       \n",
      " 69  secondary_cleaner.state.floatbank5_a_level          19438 non-null  float64       \n",
      " 70  secondary_cleaner.state.floatbank5_b_air            19438 non-null  float64       \n",
      " 71  secondary_cleaner.state.floatbank5_b_level          19438 non-null  float64       \n",
      " 72  secondary_cleaner.state.floatbank6_a_air            19437 non-null  float64       \n",
      " 73  secondary_cleaner.state.floatbank6_a_level          19438 non-null  float64       \n",
      " 74  secondary_cleaner.output.tail_au                    19439 non-null  float64       \n",
      " 75  secondary_cleaner.output.tail_ag                    19437 non-null  float64       \n",
      " 76  secondary_cleaner.output.tail_pb                    19427 non-null  float64       \n",
      " 77  secondary_cleaner.output.tail_sol                   17691 non-null  float64       \n",
      " 78  final.output.concentrate_au                         19439 non-null  float64       \n",
      " 79  final.output.concentrate_ag                         19438 non-null  float64       \n",
      " 80  final.output.concentrate_pb                         19438 non-null  float64       \n",
      " 81  final.output.concentrate_sol                        19228 non-null  float64       \n",
      " 82  final.output.recovery                               19439 non-null  float64       \n",
      " 83  final.output.tail_au                                19439 non-null  float64       \n",
      " 84  final.output.tail_ag                                19438 non-null  float64       \n",
      " 85  final.output.tail_pb                                19338 non-null  float64       \n",
      " 86  final.output.tail_sol                               19433 non-null  float64       \n",
      "dtypes: datetime64[ns](1), float64(86)\n",
      "memory usage: 12.9 MB\n"
     ]
    }
   ],
   "source": [
    "data_full['date'] = pd.to_datetime(data_full['date'], format='%Y-%m-%d %H:%M:%S')\n",
    "\n",
    "data_full.info()"
   ]
  },
  {
   "cell_type": "code",
   "execution_count": 15,
   "metadata": {},
   "outputs": [],
   "source": [
    "#Напишем функцию, которая произведет подсчет пропусков в каждом столбце\n",
    "def count_pass(data):\n",
    "    for column in data.columns:\n",
    "        return print('Количество пропусков в каждом столбце:'), print(data.isna().sum())  "
   ]
  },
  {
   "cell_type": "code",
   "execution_count": 16,
   "metadata": {},
   "outputs": [
    {
     "name": "stdout",
     "output_type": "stream",
     "text": [
      "Количество пропусков в каждом столбце:\n",
      "date                       0\n",
      "rougher.input.feed_au      0\n",
      "rougher.input.feed_ag      0\n",
      "rougher.input.feed_pb     72\n",
      "rougher.input.feed_sol    77\n",
      "                          ..\n",
      "final.output.recovery      0\n",
      "final.output.tail_au       0\n",
      "final.output.tail_ag       1\n",
      "final.output.tail_pb      75\n",
      "final.output.tail_sol      5\n",
      "Length: 87, dtype: int64\n"
     ]
    },
    {
     "data": {
      "text/plain": [
       "(None, None)"
      ]
     },
     "execution_count": 16,
     "metadata": {},
     "output_type": "execute_result"
    }
   ],
   "source": [
    "#Сделаем вызов функции count_pass\n",
    "\n",
    "count_pass(data_train)"
   ]
  },
  {
   "cell_type": "code",
   "execution_count": 17,
   "metadata": {
    "scrolled": true
   },
   "outputs": [
    {
     "name": "stdout",
     "output_type": "stream",
     "text": [
      "Количество пропусков в каждом столбце:\n",
      "date                                            0\n",
      "rougher.input.feed_au                           0\n",
      "rougher.input.feed_ag                           0\n",
      "rougher.input.feed_pb                          28\n",
      "rougher.input.feed_sol                         22\n",
      "rougher.input.feed_rate                         4\n",
      "rougher.input.feed_size                        44\n",
      "rougher.input.floatbank10_sulfate               3\n",
      "rougher.input.floatbank10_xanthate              1\n",
      "rougher.state.floatbank10_a_air                 1\n",
      "rougher.state.floatbank10_a_level               1\n",
      "rougher.state.floatbank10_b_air                 1\n",
      "rougher.state.floatbank10_b_level               1\n",
      "rougher.state.floatbank10_c_air                 1\n",
      "rougher.state.floatbank10_c_level               1\n",
      "rougher.state.floatbank10_d_air                 0\n",
      "rougher.state.floatbank10_d_level               0\n",
      "rougher.state.floatbank10_e_air                 7\n",
      "rougher.state.floatbank10_e_level               0\n",
      "rougher.state.floatbank10_f_air                 0\n",
      "rougher.state.floatbank10_f_level               0\n",
      "rougher.input.floatbank11_sulfate               8\n",
      "rougher.input.floatbank11_xanthate             46\n",
      "primary_cleaner.input.sulfate                   1\n",
      "primary_cleaner.input.depressant                9\n",
      "primary_cleaner.input.feed_size                 0\n",
      "primary_cleaner.input.xanthate                 43\n",
      "primary_cleaner.state.floatbank8_a_air          1\n",
      "primary_cleaner.state.floatbank8_a_level        1\n",
      "primary_cleaner.state.floatbank8_b_air          1\n",
      "primary_cleaner.state.floatbank8_b_level        1\n",
      "primary_cleaner.state.floatbank8_c_air          2\n",
      "primary_cleaner.state.floatbank8_c_level        1\n",
      "primary_cleaner.state.floatbank8_d_air          2\n",
      "primary_cleaner.state.floatbank8_d_level        1\n",
      "secondary_cleaner.state.floatbank2_a_air      126\n",
      "secondary_cleaner.state.floatbank2_a_level      1\n",
      "secondary_cleaner.state.floatbank2_b_air        1\n",
      "secondary_cleaner.state.floatbank2_b_level      1\n",
      "secondary_cleaner.state.floatbank3_a_air        1\n",
      "secondary_cleaner.state.floatbank3_a_level      1\n",
      "secondary_cleaner.state.floatbank3_b_air        1\n",
      "secondary_cleaner.state.floatbank3_b_level      1\n",
      "secondary_cleaner.state.floatbank4_a_air        1\n",
      "secondary_cleaner.state.floatbank4_a_level      1\n",
      "secondary_cleaner.state.floatbank4_b_air        1\n",
      "secondary_cleaner.state.floatbank4_b_level      1\n",
      "secondary_cleaner.state.floatbank5_a_air        1\n",
      "secondary_cleaner.state.floatbank5_a_level      1\n",
      "secondary_cleaner.state.floatbank5_b_air        1\n",
      "secondary_cleaner.state.floatbank5_b_level      1\n",
      "secondary_cleaner.state.floatbank6_a_air        1\n",
      "secondary_cleaner.state.floatbank6_a_level      1\n",
      "dtype: int64\n"
     ]
    },
    {
     "data": {
      "text/plain": [
       "(None, None)"
      ]
     },
     "execution_count": 17,
     "metadata": {},
     "output_type": "execute_result"
    }
   ],
   "source": [
    "#Сделаем вызов функции count_pass\n",
    "\n",
    "count_pass(data_test)"
   ]
  },
  {
   "cell_type": "code",
   "execution_count": 18,
   "metadata": {},
   "outputs": [
    {
     "name": "stdout",
     "output_type": "stream",
     "text": [
      "Количество пропусков в каждом столбце:\n",
      "date                        0\n",
      "rougher.input.feed_au       0\n",
      "rougher.input.feed_ag       0\n",
      "rougher.input.feed_pb     100\n",
      "rougher.input.feed_sol     99\n",
      "                         ... \n",
      "final.output.recovery       0\n",
      "final.output.tail_au        0\n",
      "final.output.tail_ag        1\n",
      "final.output.tail_pb      101\n",
      "final.output.tail_sol       6\n",
      "Length: 87, dtype: int64\n"
     ]
    },
    {
     "data": {
      "text/plain": [
       "(None, None)"
      ]
     },
     "execution_count": 18,
     "metadata": {},
     "output_type": "execute_result"
    }
   ],
   "source": [
    "#Сделаем вызов функции count_pass\n",
    "\n",
    "count_pass(data_full)"
   ]
  },
  {
   "cell_type": "markdown",
   "metadata": {},
   "source": [
    "Некоторые параметры недоступны, потому что замеряются и/или рассчитываются значительно позже. Данные индексируются датой и временем получения информации (признак date). Соседние по времени параметры часто похожи.  Пропуски заполним предыдущим значением. "
   ]
  },
  {
   "cell_type": "code",
   "execution_count": 19,
   "metadata": {
    "scrolled": true
   },
   "outputs": [
    {
     "name": "stdout",
     "output_type": "stream",
     "text": [
      "Количество пропусков: date                      0\n",
      "rougher.input.feed_au     0\n",
      "rougher.input.feed_ag     0\n",
      "rougher.input.feed_pb     0\n",
      "rougher.input.feed_sol    0\n",
      "                         ..\n",
      "final.output.recovery     0\n",
      "final.output.tail_au      0\n",
      "final.output.tail_ag      0\n",
      "final.output.tail_pb      0\n",
      "final.output.tail_sol     0\n",
      "Length: 87, dtype: int64\n",
      "Количество пропусков: date                                          0\n",
      "rougher.input.feed_au                         0\n",
      "rougher.input.feed_ag                         0\n",
      "rougher.input.feed_pb                         0\n",
      "rougher.input.feed_sol                        0\n",
      "rougher.input.feed_rate                       0\n",
      "rougher.input.feed_size                       0\n",
      "rougher.input.floatbank10_sulfate             0\n",
      "rougher.input.floatbank10_xanthate            0\n",
      "rougher.state.floatbank10_a_air               0\n",
      "rougher.state.floatbank10_a_level             0\n",
      "rougher.state.floatbank10_b_air               0\n",
      "rougher.state.floatbank10_b_level             0\n",
      "rougher.state.floatbank10_c_air               0\n",
      "rougher.state.floatbank10_c_level             0\n",
      "rougher.state.floatbank10_d_air               0\n",
      "rougher.state.floatbank10_d_level             0\n",
      "rougher.state.floatbank10_e_air               0\n",
      "rougher.state.floatbank10_e_level             0\n",
      "rougher.state.floatbank10_f_air               0\n",
      "rougher.state.floatbank10_f_level             0\n",
      "rougher.input.floatbank11_sulfate             0\n",
      "rougher.input.floatbank11_xanthate            0\n",
      "primary_cleaner.input.sulfate                 0\n",
      "primary_cleaner.input.depressant              0\n",
      "primary_cleaner.input.feed_size               0\n",
      "primary_cleaner.input.xanthate                0\n",
      "primary_cleaner.state.floatbank8_a_air        0\n",
      "primary_cleaner.state.floatbank8_a_level      0\n",
      "primary_cleaner.state.floatbank8_b_air        0\n",
      "primary_cleaner.state.floatbank8_b_level      0\n",
      "primary_cleaner.state.floatbank8_c_air        0\n",
      "primary_cleaner.state.floatbank8_c_level      0\n",
      "primary_cleaner.state.floatbank8_d_air        0\n",
      "primary_cleaner.state.floatbank8_d_level      0\n",
      "secondary_cleaner.state.floatbank2_a_air      0\n",
      "secondary_cleaner.state.floatbank2_a_level    0\n",
      "secondary_cleaner.state.floatbank2_b_air      0\n",
      "secondary_cleaner.state.floatbank2_b_level    0\n",
      "secondary_cleaner.state.floatbank3_a_air      0\n",
      "secondary_cleaner.state.floatbank3_a_level    0\n",
      "secondary_cleaner.state.floatbank3_b_air      0\n",
      "secondary_cleaner.state.floatbank3_b_level    0\n",
      "secondary_cleaner.state.floatbank4_a_air      0\n",
      "secondary_cleaner.state.floatbank4_a_level    0\n",
      "secondary_cleaner.state.floatbank4_b_air      0\n",
      "secondary_cleaner.state.floatbank4_b_level    0\n",
      "secondary_cleaner.state.floatbank5_a_air      0\n",
      "secondary_cleaner.state.floatbank5_a_level    0\n",
      "secondary_cleaner.state.floatbank5_b_air      0\n",
      "secondary_cleaner.state.floatbank5_b_level    0\n",
      "secondary_cleaner.state.floatbank6_a_air      0\n",
      "secondary_cleaner.state.floatbank6_a_level    0\n",
      "dtype: int64\n",
      "Количество пропусков: date                      0\n",
      "rougher.input.feed_au     0\n",
      "rougher.input.feed_ag     0\n",
      "rougher.input.feed_pb     0\n",
      "rougher.input.feed_sol    0\n",
      "                         ..\n",
      "final.output.recovery     0\n",
      "final.output.tail_au      0\n",
      "final.output.tail_ag      0\n",
      "final.output.tail_pb      0\n",
      "final.output.tail_sol     0\n",
      "Length: 87, dtype: int64\n"
     ]
    }
   ],
   "source": [
    "#Произведем заполнение пропусков\n",
    "\n",
    "data_train = data_train.ffill(axis=0)\n",
    "\n",
    "data_test = data_test.ffill(axis=0)\n",
    "\n",
    "data_full = data_full.ffill(axis=0)\n",
    "\n",
    "print('Количество пропусков:', data_train.isna().sum())\n",
    "print('Количество пропусков:', data_test.isna().sum())\n",
    "print('Количество пропусков:', data_full.isna().sum())"
   ]
  },
  {
   "cell_type": "markdown",
   "metadata": {},
   "source": [
    "# Анализ признаков, недоступных в тестовой выборке."
   ]
  },
  {
   "cell_type": "code",
   "execution_count": 20,
   "metadata": {},
   "outputs": [],
   "source": [
    "#Выделим признаки в данных\n",
    "\n",
    "full_signs = data_full.columns\n",
    "\n",
    "test_signs = data_test.columns"
   ]
  },
  {
   "cell_type": "code",
   "execution_count": 21,
   "metadata": {},
   "outputs": [
    {
     "data": {
      "text/plain": [
       "0                        primary_cleaner.output.tail_au\n",
       "1                                rougher.output.tail_ag\n",
       "2                        primary_cleaner.output.tail_ag\n",
       "3                                 final.output.tail_sol\n",
       "4                       rougher.calculation.au_pb_ratio\n",
       "5                       primary_cleaner.output.tail_sol\n",
       "6                           final.output.concentrate_pb\n",
       "7                                  final.output.tail_ag\n",
       "8                        primary_cleaner.output.tail_pb\n",
       "9                           final.output.concentrate_ag\n",
       "10                                 final.output.tail_pb\n",
       "11                         final.output.concentrate_sol\n",
       "12                primary_cleaner.output.concentrate_au\n",
       "13                     secondary_cleaner.output.tail_pb\n",
       "14               primary_cleaner.output.concentrate_sol\n",
       "15                              rougher.output.recovery\n",
       "16                     secondary_cleaner.output.tail_au\n",
       "17    rougher.calculation.floatbank11_sulfate_to_au_...\n",
       "18    rougher.calculation.floatbank10_sulfate_to_au_...\n",
       "19                     secondary_cleaner.output.tail_ag\n",
       "20        rougher.calculation.sulfate_to_au_concentrate\n",
       "21                          final.output.concentrate_au\n",
       "22                                final.output.recovery\n",
       "23                        rougher.output.concentrate_ag\n",
       "24                    secondary_cleaner.output.tail_sol\n",
       "25                               rougher.output.tail_pb\n",
       "26                               rougher.output.tail_au\n",
       "27                        rougher.output.concentrate_au\n",
       "28                              rougher.output.tail_sol\n",
       "29                primary_cleaner.output.concentrate_pb\n",
       "30                primary_cleaner.output.concentrate_ag\n",
       "31                        rougher.output.concentrate_pb\n",
       "32                                 final.output.tail_au\n",
       "33                       rougher.output.concentrate_sol\n",
       "dtype: object"
      ]
     },
     "execution_count": 21,
     "metadata": {},
     "output_type": "execute_result"
    }
   ],
   "source": [
    "difference_signs = pd.Series(list(set(full_signs) - set(test_signs)))\n",
    "\n",
    "difference_signs"
   ]
  },
  {
   "cell_type": "markdown",
   "metadata": {},
   "source": [
    "Отсутствующие признаки разделились на 2 категории:\n",
    "\n",
    "- Признаки, которые являются параметрами продукта\n",
    "\n",
    "- Признаки, которые являются расчётными характеристиками\n",
    "\n",
    "Также, можем заметить, что отсутствуют такие признаки, как rougher.output.recovery и final.output.recovery, которые в дальнейшем нам понадобятся для расчета метрики, поэтому добавим их в тестовую выборку. "
   ]
  },
  {
   "cell_type": "code",
   "execution_count": 22,
   "metadata": {},
   "outputs": [
    {
     "data": {
      "text/plain": [
       "Index(['date', 'rougher.input.feed_au', 'rougher.input.feed_ag',\n",
       "       'rougher.input.feed_pb', 'rougher.input.feed_sol',\n",
       "       'rougher.input.feed_rate', 'rougher.input.feed_size',\n",
       "       'rougher.input.floatbank10_sulfate',\n",
       "       'rougher.input.floatbank10_xanthate', 'rougher.state.floatbank10_a_air',\n",
       "       'rougher.state.floatbank10_a_level', 'rougher.state.floatbank10_b_air',\n",
       "       'rougher.state.floatbank10_b_level', 'rougher.state.floatbank10_c_air',\n",
       "       'rougher.state.floatbank10_c_level', 'rougher.state.floatbank10_d_air',\n",
       "       'rougher.state.floatbank10_d_level', 'rougher.state.floatbank10_e_air',\n",
       "       'rougher.state.floatbank10_e_level', 'rougher.state.floatbank10_f_air',\n",
       "       'rougher.state.floatbank10_f_level',\n",
       "       'rougher.input.floatbank11_sulfate',\n",
       "       'rougher.input.floatbank11_xanthate', 'primary_cleaner.input.sulfate',\n",
       "       'primary_cleaner.input.depressant', 'primary_cleaner.input.feed_size',\n",
       "       'primary_cleaner.input.xanthate',\n",
       "       'primary_cleaner.state.floatbank8_a_air',\n",
       "       'primary_cleaner.state.floatbank8_a_level',\n",
       "       'primary_cleaner.state.floatbank8_b_air',\n",
       "       'primary_cleaner.state.floatbank8_b_level',\n",
       "       'primary_cleaner.state.floatbank8_c_air',\n",
       "       'primary_cleaner.state.floatbank8_c_level',\n",
       "       'primary_cleaner.state.floatbank8_d_air',\n",
       "       'primary_cleaner.state.floatbank8_d_level',\n",
       "       'secondary_cleaner.state.floatbank2_a_air',\n",
       "       'secondary_cleaner.state.floatbank2_a_level',\n",
       "       'secondary_cleaner.state.floatbank2_b_air',\n",
       "       'secondary_cleaner.state.floatbank2_b_level',\n",
       "       'secondary_cleaner.state.floatbank3_a_air',\n",
       "       'secondary_cleaner.state.floatbank3_a_level',\n",
       "       'secondary_cleaner.state.floatbank3_b_air',\n",
       "       'secondary_cleaner.state.floatbank3_b_level',\n",
       "       'secondary_cleaner.state.floatbank4_a_air',\n",
       "       'secondary_cleaner.state.floatbank4_a_level',\n",
       "       'secondary_cleaner.state.floatbank4_b_air',\n",
       "       'secondary_cleaner.state.floatbank4_b_level',\n",
       "       'secondary_cleaner.state.floatbank5_a_air',\n",
       "       'secondary_cleaner.state.floatbank5_a_level',\n",
       "       'secondary_cleaner.state.floatbank5_b_air',\n",
       "       'secondary_cleaner.state.floatbank5_b_level',\n",
       "       'secondary_cleaner.state.floatbank6_a_air',\n",
       "       'secondary_cleaner.state.floatbank6_a_level', 'rougher.output.recovery',\n",
       "       'final.output.recovery'],\n",
       "      dtype='object')"
      ]
     },
     "execution_count": 22,
     "metadata": {},
     "output_type": "execute_result"
    }
   ],
   "source": [
    "data_test = data_test.merge(data_full.loc[:, ['date','rougher.output.recovery','final.output.recovery']], on='date')\n",
    "\n",
    "data_test.columns"
   ]
  },
  {
   "cell_type": "markdown",
   "metadata": {},
   "source": [
    "# Проверка эффективности обогащения"
   ]
  },
  {
   "cell_type": "markdown",
   "metadata": {},
   "source": [
    "Эффективность обогащения можно рассчитать по формуле:\n",
    "\n",
    "Recovery = ((Cх(F-T))/(Fx(C-T)))*100%\n",
    "\n",
    "где:\n",
    "\n",
    "C — доля золота в концентрате после флотации/очистки;\n",
    "\n",
    "F — доля золота в сырье/концентрате до флотации/очистки;\n",
    "\n",
    "T — доля золота в отвальных хвостах после флотации/очистки.\n",
    "\n",
    "Исходя из наших данных(обучающая выборка):\n",
    "\n",
    "C - rougher.output.concentrate_au;\n",
    "\n",
    "F - rougher.input.feed_au;\n",
    "\n",
    "T - rougher.output.tail_au.\n",
    "\n",
    "Нужно найти MAE между нашими расчетами эффективности обогащения и значением признака(rougher.output.recovery).\n",
    "\n"
   ]
  },
  {
   "cell_type": "code",
   "execution_count": 23,
   "metadata": {},
   "outputs": [],
   "source": [
    "#Назначим переменные и произведем расчет по формуле\n",
    "\n",
    "c = data_train['rougher.output.concentrate_au']\n",
    "f = data_train['rougher.input.feed_au']\n",
    "t = data_train['rougher.output.tail_au']\n",
    "\n",
    "recovery = ((c*(f-t))/(f*(c-t))) * 100"
   ]
  },
  {
   "cell_type": "code",
   "execution_count": 24,
   "metadata": {},
   "outputs": [
    {
     "name": "stdout",
     "output_type": "stream",
     "text": [
      "MAE: 9.83758577644259e-15\n"
     ]
    }
   ],
   "source": [
    "#Найдем MAE\n",
    "\n",
    "print('MAE:', mean_absolute_error(data_train['rougher.output.recovery'], recovery))"
   ]
  },
  {
   "cell_type": "markdown",
   "metadata": {},
   "source": [
    "Отклонение МАЕ мало, а это значит, что расчеты произведены верно."
   ]
  },
  {
   "cell_type": "markdown",
   "metadata": {},
   "source": [
    "Для дальнейшего обучения модели столбец **date** нам не понадобится, удалим его в обучающей и тестовой выборках."
   ]
  },
  {
   "cell_type": "code",
   "execution_count": 25,
   "metadata": {
    "scrolled": true
   },
   "outputs": [
    {
     "name": "stdout",
     "output_type": "stream",
     "text": [
      "<class 'pandas.core.frame.DataFrame'>\n",
      "RangeIndex: 14579 entries, 0 to 14578\n",
      "Data columns (total 86 columns):\n",
      " #   Column                                              Non-Null Count  Dtype  \n",
      "---  ------                                              --------------  -----  \n",
      " 0   rougher.input.feed_au                               14579 non-null  float64\n",
      " 1   rougher.input.feed_ag                               14579 non-null  float64\n",
      " 2   rougher.input.feed_pb                               14579 non-null  float64\n",
      " 3   rougher.input.feed_sol                              14579 non-null  float64\n",
      " 4   rougher.input.feed_rate                             14579 non-null  float64\n",
      " 5   rougher.input.feed_size                             14579 non-null  float64\n",
      " 6   rougher.input.floatbank10_sulfate                   14579 non-null  float64\n",
      " 7   rougher.input.floatbank10_xanthate                  14579 non-null  float64\n",
      " 8   rougher.state.floatbank10_a_air                     14579 non-null  float64\n",
      " 9   rougher.state.floatbank10_a_level                   14579 non-null  float64\n",
      " 10  rougher.state.floatbank10_b_air                     14579 non-null  float64\n",
      " 11  rougher.state.floatbank10_b_level                   14579 non-null  float64\n",
      " 12  rougher.state.floatbank10_c_air                     14579 non-null  float64\n",
      " 13  rougher.state.floatbank10_c_level                   14579 non-null  float64\n",
      " 14  rougher.state.floatbank10_d_air                     14579 non-null  float64\n",
      " 15  rougher.state.floatbank10_d_level                   14579 non-null  float64\n",
      " 16  rougher.state.floatbank10_e_air                     14579 non-null  float64\n",
      " 17  rougher.state.floatbank10_e_level                   14579 non-null  float64\n",
      " 18  rougher.state.floatbank10_f_air                     14579 non-null  float64\n",
      " 19  rougher.state.floatbank10_f_level                   14579 non-null  float64\n",
      " 20  rougher.input.floatbank11_sulfate                   14579 non-null  float64\n",
      " 21  rougher.input.floatbank11_xanthate                  14579 non-null  float64\n",
      " 22  rougher.calculation.sulfate_to_au_concentrate       14579 non-null  float64\n",
      " 23  rougher.calculation.floatbank10_sulfate_to_au_feed  14579 non-null  float64\n",
      " 24  rougher.calculation.floatbank11_sulfate_to_au_feed  14579 non-null  float64\n",
      " 25  rougher.calculation.au_pb_ratio                     14579 non-null  float64\n",
      " 26  rougher.output.concentrate_au                       14579 non-null  float64\n",
      " 27  rougher.output.concentrate_ag                       14579 non-null  float64\n",
      " 28  rougher.output.concentrate_pb                       14579 non-null  float64\n",
      " 29  rougher.output.concentrate_sol                      14579 non-null  float64\n",
      " 30  rougher.output.recovery                             14579 non-null  float64\n",
      " 31  rougher.output.tail_au                              14579 non-null  float64\n",
      " 32  rougher.output.tail_ag                              14579 non-null  float64\n",
      " 33  rougher.output.tail_pb                              14579 non-null  float64\n",
      " 34  rougher.output.tail_sol                             14579 non-null  float64\n",
      " 35  primary_cleaner.input.sulfate                       14579 non-null  float64\n",
      " 36  primary_cleaner.input.depressant                    14579 non-null  float64\n",
      " 37  primary_cleaner.input.feed_size                     14579 non-null  float64\n",
      " 38  primary_cleaner.input.xanthate                      14579 non-null  float64\n",
      " 39  primary_cleaner.state.floatbank8_a_air              14579 non-null  float64\n",
      " 40  primary_cleaner.state.floatbank8_a_level            14579 non-null  float64\n",
      " 41  primary_cleaner.state.floatbank8_b_air              14579 non-null  float64\n",
      " 42  primary_cleaner.state.floatbank8_b_level            14579 non-null  float64\n",
      " 43  primary_cleaner.state.floatbank8_c_air              14579 non-null  float64\n",
      " 44  primary_cleaner.state.floatbank8_c_level            14579 non-null  float64\n",
      " 45  primary_cleaner.state.floatbank8_d_air              14579 non-null  float64\n",
      " 46  primary_cleaner.state.floatbank8_d_level            14579 non-null  float64\n",
      " 47  primary_cleaner.output.concentrate_au               14579 non-null  float64\n",
      " 48  primary_cleaner.output.concentrate_ag               14579 non-null  float64\n",
      " 49  primary_cleaner.output.concentrate_pb               14579 non-null  float64\n",
      " 50  primary_cleaner.output.concentrate_sol              14579 non-null  float64\n",
      " 51  primary_cleaner.output.tail_au                      14579 non-null  float64\n",
      " 52  primary_cleaner.output.tail_ag                      14579 non-null  float64\n",
      " 53  primary_cleaner.output.tail_pb                      14579 non-null  float64\n",
      " 54  primary_cleaner.output.tail_sol                     14579 non-null  float64\n",
      " 55  secondary_cleaner.state.floatbank2_a_air            14579 non-null  float64\n",
      " 56  secondary_cleaner.state.floatbank2_a_level          14579 non-null  float64\n",
      " 57  secondary_cleaner.state.floatbank2_b_air            14579 non-null  float64\n",
      " 58  secondary_cleaner.state.floatbank2_b_level          14579 non-null  float64\n",
      " 59  secondary_cleaner.state.floatbank3_a_air            14579 non-null  float64\n",
      " 60  secondary_cleaner.state.floatbank3_a_level          14579 non-null  float64\n",
      " 61  secondary_cleaner.state.floatbank3_b_air            14579 non-null  float64\n",
      " 62  secondary_cleaner.state.floatbank3_b_level          14579 non-null  float64\n",
      " 63  secondary_cleaner.state.floatbank4_a_air            14579 non-null  float64\n",
      " 64  secondary_cleaner.state.floatbank4_a_level          14579 non-null  float64\n",
      " 65  secondary_cleaner.state.floatbank4_b_air            14579 non-null  float64\n",
      " 66  secondary_cleaner.state.floatbank4_b_level          14579 non-null  float64\n",
      " 67  secondary_cleaner.state.floatbank5_a_air            14579 non-null  float64\n",
      " 68  secondary_cleaner.state.floatbank5_a_level          14579 non-null  float64\n",
      " 69  secondary_cleaner.state.floatbank5_b_air            14579 non-null  float64\n",
      " 70  secondary_cleaner.state.floatbank5_b_level          14579 non-null  float64\n",
      " 71  secondary_cleaner.state.floatbank6_a_air            14579 non-null  float64\n",
      " 72  secondary_cleaner.state.floatbank6_a_level          14579 non-null  float64\n",
      " 73  secondary_cleaner.output.tail_au                    14579 non-null  float64\n",
      " 74  secondary_cleaner.output.tail_ag                    14579 non-null  float64\n",
      " 75  secondary_cleaner.output.tail_pb                    14579 non-null  float64\n",
      " 76  secondary_cleaner.output.tail_sol                   14579 non-null  float64\n",
      " 77  final.output.concentrate_au                         14579 non-null  float64\n",
      " 78  final.output.concentrate_ag                         14579 non-null  float64\n",
      " 79  final.output.concentrate_pb                         14579 non-null  float64\n",
      " 80  final.output.concentrate_sol                        14579 non-null  float64\n",
      " 81  final.output.recovery                               14579 non-null  float64\n",
      " 82  final.output.tail_au                                14579 non-null  float64\n",
      " 83  final.output.tail_ag                                14579 non-null  float64\n",
      " 84  final.output.tail_pb                                14579 non-null  float64\n",
      " 85  final.output.tail_sol                               14579 non-null  float64\n",
      "dtypes: float64(86)\n",
      "memory usage: 9.6 MB\n"
     ]
    }
   ],
   "source": [
    "data_train = data_train.drop('date', axis=1)\n",
    "\n",
    "data_train.info()"
   ]
  },
  {
   "cell_type": "code",
   "execution_count": 26,
   "metadata": {
    "scrolled": true
   },
   "outputs": [
    {
     "name": "stdout",
     "output_type": "stream",
     "text": [
      "<class 'pandas.core.frame.DataFrame'>\n",
      "Int64Index: 4860 entries, 0 to 4859\n",
      "Data columns (total 54 columns):\n",
      " #   Column                                      Non-Null Count  Dtype  \n",
      "---  ------                                      --------------  -----  \n",
      " 0   rougher.input.feed_au                       4860 non-null   float64\n",
      " 1   rougher.input.feed_ag                       4860 non-null   float64\n",
      " 2   rougher.input.feed_pb                       4860 non-null   float64\n",
      " 3   rougher.input.feed_sol                      4860 non-null   float64\n",
      " 4   rougher.input.feed_rate                     4860 non-null   float64\n",
      " 5   rougher.input.feed_size                     4860 non-null   float64\n",
      " 6   rougher.input.floatbank10_sulfate           4860 non-null   float64\n",
      " 7   rougher.input.floatbank10_xanthate          4860 non-null   float64\n",
      " 8   rougher.state.floatbank10_a_air             4860 non-null   float64\n",
      " 9   rougher.state.floatbank10_a_level           4860 non-null   float64\n",
      " 10  rougher.state.floatbank10_b_air             4860 non-null   float64\n",
      " 11  rougher.state.floatbank10_b_level           4860 non-null   float64\n",
      " 12  rougher.state.floatbank10_c_air             4860 non-null   float64\n",
      " 13  rougher.state.floatbank10_c_level           4860 non-null   float64\n",
      " 14  rougher.state.floatbank10_d_air             4860 non-null   float64\n",
      " 15  rougher.state.floatbank10_d_level           4860 non-null   float64\n",
      " 16  rougher.state.floatbank10_e_air             4860 non-null   float64\n",
      " 17  rougher.state.floatbank10_e_level           4860 non-null   float64\n",
      " 18  rougher.state.floatbank10_f_air             4860 non-null   float64\n",
      " 19  rougher.state.floatbank10_f_level           4860 non-null   float64\n",
      " 20  rougher.input.floatbank11_sulfate           4860 non-null   float64\n",
      " 21  rougher.input.floatbank11_xanthate          4860 non-null   float64\n",
      " 22  primary_cleaner.input.sulfate               4860 non-null   float64\n",
      " 23  primary_cleaner.input.depressant            4860 non-null   float64\n",
      " 24  primary_cleaner.input.feed_size             4860 non-null   float64\n",
      " 25  primary_cleaner.input.xanthate              4860 non-null   float64\n",
      " 26  primary_cleaner.state.floatbank8_a_air      4860 non-null   float64\n",
      " 27  primary_cleaner.state.floatbank8_a_level    4860 non-null   float64\n",
      " 28  primary_cleaner.state.floatbank8_b_air      4860 non-null   float64\n",
      " 29  primary_cleaner.state.floatbank8_b_level    4860 non-null   float64\n",
      " 30  primary_cleaner.state.floatbank8_c_air      4860 non-null   float64\n",
      " 31  primary_cleaner.state.floatbank8_c_level    4860 non-null   float64\n",
      " 32  primary_cleaner.state.floatbank8_d_air      4860 non-null   float64\n",
      " 33  primary_cleaner.state.floatbank8_d_level    4860 non-null   float64\n",
      " 34  secondary_cleaner.state.floatbank2_a_air    4860 non-null   float64\n",
      " 35  secondary_cleaner.state.floatbank2_a_level  4860 non-null   float64\n",
      " 36  secondary_cleaner.state.floatbank2_b_air    4860 non-null   float64\n",
      " 37  secondary_cleaner.state.floatbank2_b_level  4860 non-null   float64\n",
      " 38  secondary_cleaner.state.floatbank3_a_air    4860 non-null   float64\n",
      " 39  secondary_cleaner.state.floatbank3_a_level  4860 non-null   float64\n",
      " 40  secondary_cleaner.state.floatbank3_b_air    4860 non-null   float64\n",
      " 41  secondary_cleaner.state.floatbank3_b_level  4860 non-null   float64\n",
      " 42  secondary_cleaner.state.floatbank4_a_air    4860 non-null   float64\n",
      " 43  secondary_cleaner.state.floatbank4_a_level  4860 non-null   float64\n",
      " 44  secondary_cleaner.state.floatbank4_b_air    4860 non-null   float64\n",
      " 45  secondary_cleaner.state.floatbank4_b_level  4860 non-null   float64\n",
      " 46  secondary_cleaner.state.floatbank5_a_air    4860 non-null   float64\n",
      " 47  secondary_cleaner.state.floatbank5_a_level  4860 non-null   float64\n",
      " 48  secondary_cleaner.state.floatbank5_b_air    4860 non-null   float64\n",
      " 49  secondary_cleaner.state.floatbank5_b_level  4860 non-null   float64\n",
      " 50  secondary_cleaner.state.floatbank6_a_air    4860 non-null   float64\n",
      " 51  secondary_cleaner.state.floatbank6_a_level  4860 non-null   float64\n",
      " 52  rougher.output.recovery                     4860 non-null   float64\n",
      " 53  final.output.recovery                       4860 non-null   float64\n",
      "dtypes: float64(54)\n",
      "memory usage: 2.0 MB\n"
     ]
    }
   ],
   "source": [
    "data_test = data_test.drop('date', axis=1)\n",
    "\n",
    "data_test.info()"
   ]
  },
  {
   "cell_type": "markdown",
   "metadata": {},
   "source": [
    "# Вывод\n",
    "\n",
    "Работа, которую мы провели:\n",
    "\n",
    "- Открыли и изучили предоставленные нам данные;\n",
    "\n",
    "- Изменили тип данных столбца **date**, в конце, выполняя предобработку данных, удалили его за ненадобностью для обучения;\n",
    "\n",
    "- Проверили на явные дубликаты, их не оказалось;\n",
    "\n",
    "- Нашли много пропусков, которые отсутствуют по причине продолжительных расчетов или замеров. Было принято решение заменить их на предыдущие значения, так как соседние параметры часто схожи;\n",
    "\n",
    "- Провели анализ признаков, которые отсутствуют в тестовой выборке. Добавили в нее недостающие параметры, которые пригодятся нам в дальнейшем для расчета необходимой метрики;\n",
    "\n",
    "- Проверили расчет эффективности обогащения. Отклонение МАЕ оказалочь небольшим, что говорит нам о правильности расчетов."
   ]
  },
  {
   "cell_type": "markdown",
   "metadata": {},
   "source": [
    "## Анализ данных"
   ]
  },
  {
   "cell_type": "code",
   "execution_count": 27,
   "metadata": {},
   "outputs": [
    {
     "data": {
      "image/png": "[encoded data removed]",
      "text/plain": [
       "<Figure size 936x1440 with 3 Axes>"
      ]
     },
     "metadata": {
      "needs_background": "light"
     },
     "output_type": "display_data"
    }
   ],
   "source": [
    "count = 0\n",
    "\n",
    "plt.figure(figsize=[13, 20])\n",
    "plt.suptitle('Изменения концетрации металлов на разных этапах', fontsize=18)\n",
    "for i in ['au', 'ag', 'pb']:\n",
    "    count += 1\n",
    "    plt.subplot(3, 1, count)\n",
    "    plt.title(f'Распределение металла {str(i).upper()} на разных этапах очистки', fontsize=11)\n",
    "    sns.set_style('whitegrid')\n",
    "    sns.histplot(data_train[f'rougher.input.feed_{i}'], label='rougher.input.feed', \n",
    "                 element=\"step\", color='#C0C0C0', kde=False)\n",
    "    sns.histplot(data_train[f'rougher.output.concentrate_{i}'], label='rougher.output.concentrate', \n",
    "                 element=\"step\", color='#D0F0C0', kde=False)\n",
    "    sns.histplot(data_train[f'primary_cleaner.output.concentrate_{i}'], label='primary_cleaner.output.concentrate', \n",
    "                 element=\"step\", color='#D8BFD8', kde=False)\n",
    "    sns.histplot(data_train[f'final.output.concentrate_{i}'], label='final.output.concentrate', \n",
    "                 element=\"step\", color='#ABCDEF', kde=False)\n",
    "    plt.xlabel('Концентрация металла')\n",
    "    plt.ylabel('Количество наблюдений')\n",
    "    plt.legend()\n",
    "plt.show();"
   ]
  },
  {
   "cell_type": "markdown",
   "metadata": {},
   "source": [
    "Первое, что бросается в глаза - это аномалии на нулевых значениях. Можем наблюдать, что концетрация золота повышется с каждым этапом. Концетрация серебра повышается до определенного момента, покак не начался этап primary_cleaner. У свинца виден постепенный рост в концетрации, но она начинает падать на этапе final.output. После анализа данных необходимо будет удалить аномалии, чтобы в дальнейшем они не испортили нам обучение модели."
   ]
  },
  {
   "cell_type": "markdown",
   "metadata": {},
   "source": [
    "# Распределения размеров гранул исходного сырья на обучающей и тестовой выборках"
   ]
  },
  {
   "cell_type": "code",
   "execution_count": 28,
   "metadata": {
    "scrolled": true
   },
   "outputs": [
    {
     "data": {
      "image/png": "[encoded data removed]",
      "text/plain": [
       "<Figure size 1152x1440 with 2 Axes>"
      ]
     },
     "metadata": {},
     "output_type": "display_data"
    }
   ],
   "source": [
    "count = 0\n",
    "\n",
    "plt.figure(figsize=[16, 20])\n",
    "plt.suptitle('Распределения размеров гранул исходного сырья на обучающей и тестовой выборках', fontsize=20)\n",
    "for i in ['rougher', 'primary_cleaner']:\n",
    "    count += 1\n",
    "    plt.subplot(2, 1, count)\n",
    "    plt.title(f'Распределение гранул {str(i)} на обучающей и тестовой выборках', fontsize=15)\n",
    "    sns.kdeplot(data_train[f'{i}.input.feed_size'], label='Обучающая выборка', \n",
    "                 color='#D8BFD8', shade=True)\n",
    "    sns.kdeplot(data_test[f'{i}.input.feed_size'], label='Тестовая выборка', \n",
    "                 color='#ABCDEF', shade=True)\n",
    "    plt.xlabel('Размер гранул')\n",
    "    plt.ylabel('Количество наблюдений')\n",
    "    plt.legend()\n",
    "plt.show();"
   ]
  },
  {
   "cell_type": "markdown",
   "metadata": {},
   "source": [
    "Распределение гранул практически идентично, учитывая тот факт, что тестовая выборка меньше размером, соответственно, и количество наблюдений и размеров в этой выборке будет меньше. На этапе флотации(rougher), можем заметить много выбросов, начиная, примерно с 100 размера гранул. "
   ]
  },
  {
   "cell_type": "markdown",
   "metadata": {},
   "source": [
    "# Суммарная концентрация металлов на разных стадиях: \n",
    "\n",
    "**в сырье, в черновом концентрате, в концентрате после первой очистки и в финальном концентрате.**"
   ]
  },
  {
   "cell_type": "code",
   "execution_count": 29,
   "metadata": {},
   "outputs": [
    {
     "data": {
      "text/plain": [
       "count    19439.000000\n",
       "mean        20.645541\n",
       "std          4.481676\n",
       "min          0.030000\n",
       "25%         17.252879\n",
       "50%         20.141216\n",
       "75%         23.797381\n",
       "max         33.498784\n",
       "dtype: float64"
      ]
     },
     "execution_count": 29,
     "metadata": {},
     "output_type": "execute_result"
    }
   ],
   "source": [
    "#Суммарная концетрация металлов в сырье\n",
    "\n",
    "concetrate_sum_feedstock = data_full['rougher.input.feed_ag'] + data_full['rougher.input.feed_pb']\\\n",
    "                                                              + data_full['rougher.input.feed_au']\n",
    "\n",
    "concetrate_sum_feedstock.describe()"
   ]
  },
  {
   "cell_type": "code",
   "execution_count": 30,
   "metadata": {},
   "outputs": [
    {
     "data": {
      "text/plain": [
       "count    19439.000000\n",
       "mean        39.373032\n",
       "std          6.863389\n",
       "min          0.000000\n",
       "25%         38.394639\n",
       "50%         40.312648\n",
       "75%         42.365102\n",
       "max         55.568687\n",
       "dtype: float64"
      ]
     },
     "execution_count": 30,
     "metadata": {},
     "output_type": "execute_result"
    }
   ],
   "source": [
    "#Суммарная концетрация металлов в черновом концентрате\n",
    "\n",
    "concetrate_sum_rougher = data_full['rougher.output.concentrate_ag'] + data_full['rougher.output.concentrate_pb']\\\n",
    "                                                                    + data_full['rougher.output.concentrate_au']\n",
    "concetrate_sum_rougher.describe()"
   ]
  },
  {
   "cell_type": "code",
   "execution_count": 31,
   "metadata": {},
   "outputs": [
    {
     "data": {
      "text/plain": [
       "count    19439.000000\n",
       "mean        50.371085\n",
       "std          7.628857\n",
       "min          0.000000\n",
       "25%         50.054875\n",
       "50%         51.909630\n",
       "75%         53.386898\n",
       "max         60.269003\n",
       "dtype: float64"
      ]
     },
     "execution_count": 31,
     "metadata": {},
     "output_type": "execute_result"
    }
   ],
   "source": [
    "#Суммарная концетрация металлов после первой очистки\n",
    "\n",
    "concetrate_sum_primary_cleaner = data_full['primary_cleaner.output.concentrate_ag'] + data_full['primary_cleaner.output.concentrate_pb']\\\n",
    "                                                                                    + data_full['primary_cleaner.output.concentrate_au']\n",
    "\n",
    "concetrate_sum_primary_cleaner.describe()"
   ]
  },
  {
   "cell_type": "code",
   "execution_count": 32,
   "metadata": {},
   "outputs": [
    {
     "data": {
      "text/plain": [
       "count    19439.000000\n",
       "mean        59.223721\n",
       "std          6.095138\n",
       "min          0.000000\n",
       "25%         59.298323\n",
       "50%         60.306921\n",
       "75%         61.096667\n",
       "max         64.968881\n",
       "dtype: float64"
      ]
     },
     "execution_count": 32,
     "metadata": {},
     "output_type": "execute_result"
    }
   ],
   "source": [
    "#Суммарная концетрация металлов в финальном концетрате\n",
    "\n",
    "concetrate_sum_final = data_full['final.output.concentrate_ag'] + data_full['final.output.concentrate_pb']\\\n",
    "                                                                + data_full['final.output.concentrate_au']\n",
    "concetrate_sum_final.describe()"
   ]
  },
  {
   "cell_type": "code",
   "execution_count": 33,
   "metadata": {},
   "outputs": [
    {
     "data": {
      "image/png": "[encoded data removed]",
      "text/plain": [
       "<Figure size 1080x720 with 1 Axes>"
      ]
     },
     "metadata": {},
     "output_type": "display_data"
    }
   ],
   "source": [
    "plt.figure(figsize=[15, 10])\n",
    "plt.suptitle('Суммарная концетрация металлов на разных этапах обработки', fontsize=15)\n",
    "sns.set_style('whitegrid')\n",
    "sns.histplot(concetrate_sum_feedstock, color='#C0C0C0', label='Сырье')\n",
    "sns.histplot(concetrate_sum_rougher, color='#D0F0C0', label='Черновой концетрат')\n",
    "sns.histplot(concetrate_sum_primary_cleaner, color='#D8BFD8', label='Концентрация после первичной очистки')\n",
    "sns.histplot(concetrate_sum_final, color='#ABCDEF', label='Финальная концетрация')\n",
    "plt.xlabel('Концентрация металлов')\n",
    "plt.ylabel('Количество наблюдений')\n",
    "plt.legend()\n",
    "plt.show();"
   ]
  },
  {
   "cell_type": "markdown",
   "metadata": {},
   "source": [
    "Суммарная концентрация металлов достигает своего максимума на этапе финальной концетрации, а диапозон значений концентрации от этапа к этапу уменьшается. Снова видим аномалии на нулевых значениях. Удалим их перед тем как обучать модель. "
   ]
  },
  {
   "cell_type": "code",
   "execution_count": 34,
   "metadata": {},
   "outputs": [],
   "source": [
    "#Избавимся от нулевых значений в data_full\n",
    "\n",
    "data_full = data_full[(data_full['rougher.output.concentrate_au'] != 0) & (data_full['rougher.output.concentrate_ag'] != 0)\\\n",
    "                                                                        & (data_full['rougher.output.concentrate_pb'] != 0)]\n",
    "\n",
    "data_full = data_full[(data_full['primary_cleaner.output.concentrate_au'] != 0) & (data_full['primary_cleaner.output.concentrate_ag'] != 0)\\\n",
    "                                                                      & (data_full['primary_cleaner.output.concentrate_pb'] != 0)]\n",
    "\n",
    "data_full = data_full[(data_full['final.output.concentrate_au'] != 0) & (data_full['final.output.concentrate_ag'] != 0)\\\n",
    "                                                                      & (data_full['final.output.concentrate_pb'] != 0)]                                                                  "
   ]
  },
  {
   "cell_type": "code",
   "execution_count": 35,
   "metadata": {},
   "outputs": [],
   "source": [
    "#Избавимся от нулевых значений в data_train\n",
    "\n",
    "data_train = data_train[(data_train['rougher.output.concentrate_au'] != 0) & (data_train['rougher.output.concentrate_ag'] != 0)\\\n",
    "                                                                        & (data_train['rougher.output.concentrate_pb'] != 0)]\n",
    "\n",
    "data_train = data_train[(data_train['primary_cleaner.output.concentrate_au'] != 0) & (data_train['primary_cleaner.output.concentrate_ag'] != 0)\\\n",
    "                                                                      & (data_train['primary_cleaner.output.concentrate_pb'] != 0)]\n",
    "\n",
    "data_train = data_train[(data_train['final.output.concentrate_au'] != 0) & (data_train['final.output.concentrate_ag'] != 0)\\\n",
    "                                                                      & (data_train['final.output.concentrate_pb'] != 0)]\n"
   ]
  },
  {
   "cell_type": "markdown",
   "metadata": {},
   "source": [
    "## Модель"
   ]
  },
  {
   "cell_type": "code",
   "execution_count": 36,
   "metadata": {},
   "outputs": [],
   "source": [
    "#Напишем функцию для расчета sMAPE\n",
    "\n",
    "def smape(y,y_pred):\n",
    "    smape_metric = np.mean(abs(y - y_pred)/((abs(y)+abs(y_pred))/2))*100\n",
    "    return smape_metric"
   ]
  },
  {
   "cell_type": "code",
   "execution_count": 37,
   "metadata": {},
   "outputs": [],
   "source": [
    "#Напишем функцию для расчета итоговой sMAPE\n",
    "\n",
    "def final_smape(rougher,final):\n",
    "    final_smape_metric = (0.25*rougher + 0.75*final)\n",
    "    return final_smape_metric"
   ]
  },
  {
   "cell_type": "markdown",
   "metadata": {},
   "source": [
    "Разделиим выборки на признаки, в том числе и целевые. У нас их будет 2: эффективность обогащения чернового концентрата rougher.output.recovery и эффективность обогащения финального концентрата final.output.recovery. Признаки в выборках должны быть одинаковые."
   ]
  },
  {
   "cell_type": "code",
   "execution_count": 38,
   "metadata": {
    "scrolled": true
   },
   "outputs": [
    {
     "name": "stdout",
     "output_type": "stream",
     "text": [
      "(13982, 52)\n",
      "(4860, 52)\n"
     ]
    }
   ],
   "source": [
    "columns = data_test.columns\n",
    "\n",
    "features_train = data_train[columns].drop(['rougher.output.recovery','final.output.recovery'], axis=1)\n",
    "target_train_rougher = data_train['rougher.output.recovery']\n",
    "target_train_final = data_train['final.output.recovery']\n",
    "\n",
    "features_test = data_test.drop(['rougher.output.recovery','final.output.recovery'], axis=1)\n",
    "target_test_rougher = data_test['rougher.output.recovery']\n",
    "target_test_final = data_test['final.output.recovery']\n",
    "\n",
    "#Посмотрим размеры выборок\n",
    "print(features_train.shape)\n",
    "print(features_test.shape)"
   ]
  },
  {
   "cell_type": "code",
   "execution_count": 39,
   "metadata": {},
   "outputs": [],
   "source": [
    "#Масштабируем данные обучающей выборки\n",
    "\n",
    "scaler = StandardScaler()\n",
    "\n",
    "scaler.fit(features_train)\n",
    "\n",
    "features_train = scaler.transform(features_train)\n",
    "\n",
    "features_test = scaler.transform(features_test)"
   ]
  },
  {
   "cell_type": "markdown",
   "metadata": {},
   "source": [
    "Перед нами задача регрессии. Рассмотрим следующие модели - DecisionTreeRegressor, RandomForestRegressor, LinearRegression."
   ]
  },
  {
   "cell_type": "code",
   "execution_count": 40,
   "metadata": {},
   "outputs": [],
   "source": [
    "#Создадим счетчик функции\n",
    "\n",
    "smape_score = make_scorer(smape, greater_is_better = False)"
   ]
  },
  {
   "cell_type": "markdown",
   "metadata": {},
   "source": [
    "# DecisionTreeRegressor"
   ]
  },
  {
   "cell_type": "code",
   "execution_count": 41,
   "metadata": {},
   "outputs": [
    {
     "name": "stdout",
     "output_type": "stream",
     "text": [
      "Итоговый sMAPE: 8.652958121318008 Лучший параметр max_depth: 3\n"
     ]
    }
   ],
   "source": [
    "#Создадим переменные, которые помогут нам в вычислениях\n",
    "\n",
    "best_result_dt = 50 #Число для сравнения лучшего финального sMAPE\n",
    "best_depth = 0 #Счетчик для параметра max_depth\n",
    "for i in range(1, 15, 1):        #С помощью цикла подберем лучший параметр max_depth для модели \n",
    "    model_dt_rougher = DecisionTreeRegressor(max_depth=i, random_state=RANDOM_STATE) #Модель для rougher.output.recovery\n",
    "    smape_rougher = cross_val_score(model_dt_rougher, features_train, target_train_rougher, \n",
    "                                    scoring=smape_score, cv=5, n_jobs=-1)\n",
    "    final_smape_rougher = smape_rougher.mean() #Вычисление sMAPE для rougher.output.recovery\n",
    "\n",
    "    model_dt_final = DecisionTreeRegressor(max_depth=i, random_state=RANDOM_STATE) #Модель для final.output.recovery\n",
    "    smape_final = cross_val_score(model_dt_final, features_train, target_train_final,\n",
    "                                  scoring=smape_score, cv=5, n_jobs=-1)\n",
    "    final_smape_final = smape_final.mean()  #Вычисление sMAPE для final.output.recovery\n",
    "    result_smape = final_smape(final_smape_rougher, final_smape_final)*(-1) #Итоговое sMAPE\n",
    "    if result_smape < best_result_dt:   #Выбираем лучшие результаты\n",
    "        best_result_dt = result_smape\n",
    "        best_depth = i\n",
    "\n",
    "print('Итоговый sMAPE:', best_result_dt, 'Лучший параметр max_depth:', best_depth)"
   ]
  },
  {
   "cell_type": "markdown",
   "metadata": {},
   "source": [
    "# RandomForestRegressor\n",
    "\n",
    "Рассмотрим по отдельности модели для rougher.output.recovery и final.output.recovery, так как находить параметры для RandomForestRegressor оказалось по времени очень затратно."
   ]
  },
  {
   "cell_type": "code",
   "execution_count": 42,
   "metadata": {},
   "outputs": [
    {
     "name": "stdout",
     "output_type": "stream",
     "text": [
      "Лучший sMAPE: -9.12374925429128 Лучший параметр max_depth: 11 Лучший параметр n_estimators: 1\n"
     ]
    }
   ],
   "source": [
    "#Найдем параметры для модели rougher.output.recovery\n",
    "best_result_rf_rougher = 50 #Число для сравнения лучшего sMAPE\n",
    "best_depth = 0 #Счетчик параметра max_depth\n",
    "best_esti = 0 #Счетчик параметра n_estimators\n",
    "for i in range(1, 15, 5):\n",
    "    for n in range(1, 50, 5):\n",
    "        model_rf_rougher = RandomForestRegressor(max_depth=i, n_estimators=n, random_state=RANDOM_STATE)\n",
    "        smape_rougher = cross_val_score(model_rf_rougher,\n",
    "                                        features_train,\n",
    "                                        target_train_rougher,\n",
    "                                        scoring=smape_score,\n",
    "                                        cv=5, n_jobs=-1)\n",
    "        final_smape_rougher = smape_rougher.mean() #Вычисление sMAPE\n",
    "        if final_smape_rougher < best_result_rf_rougher:\n",
    "            best_result_rf_rougher = final_smape_rougher\n",
    "            best_depth = i\n",
    "            best_esti = n\n",
    "print('Лучший sMAPE:', best_result_rf_rougher, 'Лучший параметр max_depth:', best_depth, 'Лучший параметр n_estimators:', best_esti)"
   ]
  },
  {
   "cell_type": "code",
   "execution_count": 43,
   "metadata": {},
   "outputs": [
    {
     "name": "stdout",
     "output_type": "stream",
     "text": [
      "Лучший sMAPE: -14.540359803443703 Лучший параметр max_depth: 11 Лучший параметр n_estimators: 1\n"
     ]
    }
   ],
   "source": [
    "#Найдем параметры для модели final.output.recovery\n",
    "best_result_rf_final = 50 #Число для сравнения лучшего sMAPE\n",
    "best_depth = 0 #Счетчик параметра max_depth\n",
    "best_esti = 0 #Счетчик параметра n_estimators\n",
    "for i in range(1, 15, 5):\n",
    "    for n in range(1, 51, 5):\n",
    "        model_rf_final = RandomForestRegressor(max_depth=i, n_estimators=n, random_state=RANDOM_STATE)\n",
    "        smape_final = cross_val_score(model_rf_final, \n",
    "                                      features_train,\n",
    "                                      target_train_final,\n",
    "                                      scoring=smape_score,\n",
    "                                      cv=5, n_jobs=-1)\n",
    "        final_smape_final = smape_final.mean()  #Вычисление sMAPE\n",
    "        if final_smape_final < best_result_rf_final:\n",
    "            best_result_rf_final = final_smape_final\n",
    "            best_depth = i\n",
    "            best_esti = n \n",
    "print('Лучший sMAPE:', best_result_rf_final, 'Лучший параметр max_depth:', best_depth, 'Лучший параметр n_estimators:', best_esti)"
   ]
  },
  {
   "cell_type": "code",
   "execution_count": 44,
   "metadata": {},
   "outputs": [
    {
     "name": "stdout",
     "output_type": "stream",
     "text": [
      "13.186207166155597\n"
     ]
    }
   ],
   "source": [
    "#Вычисление итогового sMAPE для RandomForestRegressor\n",
    "\n",
    "result_smape_final_rf = final_smape(best_result_rf_rougher, best_result_rf_final)*(-1)\n",
    "\n",
    "print(result_smape_final_rf)"
   ]
  },
  {
   "cell_type": "markdown",
   "metadata": {},
   "source": [
    "# LinearRegression"
   ]
  },
  {
   "cell_type": "code",
   "execution_count": 45,
   "metadata": {},
   "outputs": [
    {
     "name": "stdout",
     "output_type": "stream",
     "text": [
      "Итоговый sMAPE: 8.866318998589005\n"
     ]
    }
   ],
   "source": [
    "model_lr_rougher = LinearRegression()\n",
    "smape_rougher = cross_val_score(model_lr_rougher,\n",
    "                          features_train,\n",
    "                          target_train_rougher,\n",
    "                          scoring=smape_score,\n",
    "                          cv=5)\n",
    "final_smape_rougher = smape_rougher.mean()\n",
    "model_lr_final = LinearRegression()\n",
    "smape_final = cross_val_score(model_lr_final,\n",
    "                        features_train,\n",
    "                        target_train_final,\n",
    "                        scoring=smape_score,\n",
    "                        cv=5)\n",
    "final_smape_final = smape_final.mean()\n",
    "result_smape = final_smape(final_smape_rougher, final_smape_final)*(-1)\n",
    "\n",
    "print('Итоговый sMAPE:', result_smape)"
   ]
  },
  {
   "cell_type": "code",
   "execution_count": 46,
   "metadata": {
    "scrolled": true
   },
   "outputs": [
    {
     "data": {
      "text/html": [
       "<div>\n",
       "<style scoped>\n",
       "    .dataframe tbody tr th:only-of-type {\n",
       "        vertical-align: middle;\n",
       "    }\n",
       "\n",
       "    .dataframe tbody tr th {\n",
       "        vertical-align: top;\n",
       "    }\n",
       "\n",
       "    .dataframe thead th {\n",
       "        text-align: right;\n",
       "    }\n",
       "</style>\n",
       "<table border=\"1\" class=\"dataframe\">\n",
       "  <thead>\n",
       "    <tr style=\"text-align: right;\">\n",
       "      <th></th>\n",
       "      <th>DecisionTreeRegressor</th>\n",
       "      <th>RandomForestRegressor</th>\n",
       "      <th>LinearRegression</th>\n",
       "    </tr>\n",
       "  </thead>\n",
       "  <tbody>\n",
       "    <tr>\n",
       "      <th>Итоговый sMAPE</th>\n",
       "      <td>8.652958</td>\n",
       "      <td>13.186207</td>\n",
       "      <td>8.866319</td>\n",
       "    </tr>\n",
       "  </tbody>\n",
       "</table>\n",
       "</div>"
      ],
      "text/plain": [
       "                DecisionTreeRegressor  RandomForestRegressor  LinearRegression\n",
       "Итоговый sMAPE               8.652958              13.186207          8.866319"
      ]
     },
     "execution_count": 46,
     "metadata": {},
     "output_type": "execute_result"
    }
   ],
   "source": [
    "tabl = pd.DataFrame(index=['Итоговый sMAPE'], \n",
    "                               columns=['DecisionTreeRegressor','RandomForestRegressor','LinearRegression'])\n",
    "tabl['DecisionTreeRegressor'] = best_result_dt\n",
    "tabl['RandomForestRegressor'] = result_smape_final_rf\n",
    "tabl['LinearRegression'] = result_smape\n",
    "\n",
    "tabl"
   ]
  },
  {
   "cell_type": "markdown",
   "metadata": {},
   "source": [
    "Лучший показатель итогового sMAPE 13.186207\tу модели RandomForestRegressor при параметрах max_depth = 11, n_estimators = 1. Посмотрим, каких результатов мы сможем достичь на тестовой выборке."
   ]
  },
  {
   "cell_type": "code",
   "execution_count": 47,
   "metadata": {},
   "outputs": [
    {
     "name": "stdout",
     "output_type": "stream",
     "text": [
      "7.140070422130556\n"
     ]
    }
   ],
   "source": [
    "model_rf_rougher = RandomForestRegressor(max_depth=11, n_estimators=1, random_state=RANDOM_STATE)\n",
    "model_rf_rougher.fit(features_train, target_train_rougher) #Модель для rougher.output.recovery\n",
    "prediction_rougher = model_rf_rougher.predict(features_test)\n",
    "smape_rougher = smape(target_test_rougher, prediction_rougher) #sMAPE для rougher.output.recovery\n",
    "\n",
    "model_rf_final = RandomForestRegressor(max_depth=11, n_estimators=1, random_state=RANDOM_STATE)\n",
    "model_rf_final.fit(features_train, target_train_final) #Модель для final.output.recovery\n",
    "prediction_final = model_rf_final.predict(features_test)\n",
    "smape_final = smape(target_test_final, prediction_final) #sMAPE для final.output.recovery\n",
    "\n",
    "result_smape_test = final_smape(smape_rougher, smape_final) #Итоговый sMAPE\n",
    "\n",
    "print(result_smape_test)"
   ]
  },
  {
   "cell_type": "markdown",
   "metadata": {},
   "source": [
    "# Вывод\n",
    "\n",
    "Нам удалось достичь значения 7.140070422130556 sMAPE на тестовой выборке, для этого мы выбрали модель RandomForestRegressor с параметрами max_depth = 11, n_estimators = 1. Вычислим показатель sMAPE для константной модели и сравним с результатами лучшей модели."
   ]
  },
  {
   "cell_type": "code",
   "execution_count": 48,
   "metadata": {},
   "outputs": [
    {
     "name": "stdout",
     "output_type": "stream",
     "text": [
      "Итоговый sMAPE констатной модели: 8.294984028887791\n"
     ]
    }
   ],
   "source": [
    "dummy_rougher = DummyRegressor(strategy=\"median\")\n",
    "dummy_rougher.fit(features_train, target_train_rougher)\n",
    "dummy_rougher_predict = dummy_rougher.predict(features_test)\n",
    "\n",
    "dummy_final = DummyRegressor(strategy=\"median\")\n",
    "dummy_final.fit(features_train, target_train_final)\n",
    "dummy_final_predict = dummy_final.predict(features_test)\n",
    "\n",
    "smape_rougher_const = smape(target_test_rougher, dummy_rougher_predict)\n",
    "smape_final_const = smape(target_test_final, dummy_final_predict)\n",
    "\n",
    "final_smape_const = final_smape(smape_rougher_const, smape_final_const)\n",
    "\n",
    "print('Итоговый sMAPE констатной модели:', final_smape_const)"
   ]
  },
  {
   "cell_type": "markdown",
   "metadata": {},
   "source": [
    "Итоговый sMAPE констатной модели: 8.294984028887791, итоговый sMAPE лучшей модели 7.140070422130556, показатель ниже, чем у констатной модели, что может говорить нам о хорошем обучении."
   ]
  },
  {
   "cell_type": "markdown",
   "metadata": {},
   "source": [
    "## Общий вывод\n",
    "\n",
    "Нами были открыты данные и подготовлены для дальнейшей работы с ними. Изменили тип данных в столбце **date**, заполнили пропуски предыдущими значениями, так как по условию задания соседние по времени параметры часто похожи. Добавили в тестовую выборку rougher.output.recovery и final.output.recovery, так как они являются целевыми признаками. Нашли MAE между нашими расчетами эффективности обогащения и значением признака(rougher.output.recovery), отклонение МАЕ оказалось мало, что указывает на идентичность расчетов. Проанализировали данные, для наглядности построили графики изменения концентрации металлов на разных этапах обработки. Построили графики распределения размеров гранул исходного сырья на обучающей и тестовой выборках. Вычислили суммарную концентрацию металлов на разных этапах обработки. На графиках были обнаружены аномалии на нулевом значении, мы удалили их, чтобы они не помешали обучению наших моделей. Написали функции расчетов sMAPE и итогового sMAPE. Разбили данные на признаки, масштабировали их. Обучили модели и выбрали среди них лучшую. Этой моделью оказалась RandomForestRegressor с параметрами max_depth = 11, n_estimators = 1, на тестовой выборке итоговый sMAPE равен 7.140070422130556. Сравнили со значением константной модели 8.294984028887791. Показатель константной модели выше, чем показатель нашей лучшей модели, это говорит нам о хорошем обучении модели."
   ]
  }
 ],
 "metadata": {
  "ExecuteTimeLog": [
   {
    "duration": 1795,
    "start_time": "2023-06-13T14:01:52.011Z"
   },
   {
    "duration": 7,
    "start_time": "2023-06-13T14:05:58.211Z"
   },
   {
    "duration": 624,
    "start_time": "2023-06-13T14:09:18.527Z"
   },
   {
    "duration": 209,
    "start_time": "2023-06-13T14:09:20.873Z"
   },
   {
    "duration": 884,
    "start_time": "2023-06-13T14:09:23.351Z"
   },
   {
    "duration": 286,
    "start_time": "2023-06-13T14:09:43.087Z"
   },
   {
    "duration": 179,
    "start_time": "2023-06-13T14:10:16.253Z"
   },
   {
    "duration": 326,
    "start_time": "2023-06-13T14:10:35.315Z"
   },
   {
    "duration": 166,
    "start_time": "2023-06-13T14:45:58.236Z"
   },
   {
    "duration": 31,
    "start_time": "2023-06-13T14:46:01.719Z"
   },
   {
    "duration": 163,
    "start_time": "2023-06-13T14:46:04.231Z"
   },
   {
    "duration": 10,
    "start_time": "2023-06-13T14:48:43.246Z"
   },
   {
    "duration": 31,
    "start_time": "2023-06-13T14:48:45.609Z"
   },
   {
    "duration": 41,
    "start_time": "2023-06-13T14:48:47.681Z"
   },
   {
    "duration": 52,
    "start_time": "2023-06-13T14:49:10.582Z"
   },
   {
    "duration": 34,
    "start_time": "2023-06-13T14:49:30.376Z"
   },
   {
    "duration": 134,
    "start_time": "2023-06-13T14:49:49.333Z"
   },
   {
    "duration": 149,
    "start_time": "2023-06-13T14:54:13.124Z"
   },
   {
    "duration": 12,
    "start_time": "2023-06-13T14:54:24.011Z"
   },
   {
    "duration": 187,
    "start_time": "2023-06-13T14:55:14.111Z"
   },
   {
    "duration": 1048,
    "start_time": "2023-06-13T14:55:19.559Z"
   },
   {
    "duration": 5,
    "start_time": "2023-06-13T14:56:23.634Z"
   },
   {
    "duration": 466,
    "start_time": "2023-06-13T14:56:26.407Z"
   },
   {
    "duration": 3,
    "start_time": "2023-06-13T14:56:39.367Z"
   },
   {
    "duration": 3,
    "start_time": "2023-06-13T14:59:41.110Z"
   },
   {
    "duration": 2,
    "start_time": "2023-06-13T14:59:48.442Z"
   },
   {
    "duration": 2,
    "start_time": "2023-06-13T15:00:19.070Z"
   },
   {
    "duration": 7,
    "start_time": "2023-06-13T15:00:21.427Z"
   },
   {
    "duration": 3,
    "start_time": "2023-06-13T15:01:02.544Z"
   },
   {
    "duration": 6,
    "start_time": "2023-06-13T15:01:19.251Z"
   },
   {
    "duration": 26,
    "start_time": "2023-06-13T15:01:42.735Z"
   },
   {
    "duration": 135,
    "start_time": "2023-06-13T15:28:26.425Z"
   },
   {
    "duration": 131,
    "start_time": "2023-06-13T15:28:37.460Z"
   },
   {
    "duration": 3,
    "start_time": "2023-06-13T15:28:43.740Z"
   },
   {
    "duration": 3,
    "start_time": "2023-06-13T15:28:46.554Z"
   },
   {
    "duration": 131,
    "start_time": "2023-06-13T15:28:55.038Z"
   },
   {
    "duration": 3,
    "start_time": "2023-06-13T15:29:03.478Z"
   },
   {
    "duration": 11,
    "start_time": "2023-06-13T15:29:06.739Z"
   },
   {
    "duration": 7,
    "start_time": "2023-06-13T15:29:15.371Z"
   },
   {
    "duration": 8,
    "start_time": "2023-06-13T15:29:27.448Z"
   },
   {
    "duration": 44,
    "start_time": "2023-06-13T15:42:01.815Z"
   },
   {
    "duration": 16,
    "start_time": "2023-06-13T16:09:00.041Z"
   },
   {
    "duration": 13,
    "start_time": "2023-06-13T16:09:33.581Z"
   },
   {
    "duration": 31,
    "start_time": "2023-06-13T16:09:42.979Z"
   },
   {
    "duration": 4,
    "start_time": "2023-06-13T16:35:33.129Z"
   },
   {
    "duration": 4,
    "start_time": "2023-06-13T16:36:53.331Z"
   },
   {
    "duration": 14,
    "start_time": "2023-06-13T17:19:25.744Z"
   },
   {
    "duration": 6,
    "start_time": "2023-06-13T17:22:04.677Z"
   },
   {
    "duration": 26,
    "start_time": "2023-06-13T17:42:04.365Z"
   },
   {
    "duration": 25,
    "start_time": "2023-06-13T17:42:26.670Z"
   },
   {
    "duration": 43,
    "start_time": "2023-06-13T17:49:26.872Z"
   },
   {
    "duration": 30,
    "start_time": "2023-06-13T17:49:40.104Z"
   },
   {
    "duration": 20,
    "start_time": "2023-06-13T17:49:52.034Z"
   },
   {
    "duration": 19,
    "start_time": "2023-06-13T17:50:19.128Z"
   },
   {
    "duration": 28,
    "start_time": "2023-06-13T17:50:51.375Z"
   },
   {
    "duration": 4,
    "start_time": "2023-06-13T17:51:05.546Z"
   },
   {
    "duration": 124,
    "start_time": "2023-06-13T17:51:05.552Z"
   },
   {
    "duration": 2308,
    "start_time": "2023-06-13T17:51:05.678Z"
   },
   {
    "duration": 589,
    "start_time": "2023-06-13T17:51:07.994Z"
   },
   {
    "duration": 2229,
    "start_time": "2023-06-13T17:51:08.591Z"
   },
   {
    "duration": 360,
    "start_time": "2023-06-13T17:51:10.822Z"
   },
   {
    "duration": 189,
    "start_time": "2023-06-13T17:51:11.189Z"
   },
   {
    "duration": 320,
    "start_time": "2023-06-13T17:51:11.382Z"
   },
   {
    "duration": 238,
    "start_time": "2023-06-13T17:51:11.711Z"
   },
   {
    "duration": 46,
    "start_time": "2023-06-13T17:51:11.960Z"
   },
   {
    "duration": 186,
    "start_time": "2023-06-13T17:51:12.018Z"
   },
   {
    "duration": 23,
    "start_time": "2023-06-13T17:51:12.206Z"
   },
   {
    "duration": 141,
    "start_time": "2023-06-13T17:51:12.233Z"
   },
   {
    "duration": 169,
    "start_time": "2023-06-13T17:51:12.377Z"
   },
   {
    "duration": 87,
    "start_time": "2023-06-13T17:51:12.548Z"
   },
   {
    "duration": 59,
    "start_time": "2023-06-13T17:51:12.636Z"
   },
   {
    "duration": 76,
    "start_time": "2023-06-13T17:51:12.703Z"
   },
   {
    "duration": 45,
    "start_time": "2023-06-13T17:51:12.780Z"
   },
   {
    "duration": 102,
    "start_time": "2023-06-13T17:51:12.826Z"
   },
   {
    "duration": 40,
    "start_time": "2023-06-13T17:51:12.934Z"
   },
   {
    "duration": 8,
    "start_time": "2023-06-13T17:51:12.976Z"
   },
   {
    "duration": 83,
    "start_time": "2023-06-13T17:51:12.998Z"
   },
   {
    "duration": 16,
    "start_time": "2023-06-13T17:51:13.083Z"
   },
   {
    "duration": 77,
    "start_time": "2023-06-13T17:51:13.101Z"
   },
   {
    "duration": 91,
    "start_time": "2023-06-13T17:51:13.180Z"
   },
   {
    "duration": 19,
    "start_time": "2023-06-13T17:51:35.277Z"
   },
   {
    "duration": 28,
    "start_time": "2023-06-13T17:52:02.442Z"
   },
   {
    "duration": 28,
    "start_time": "2023-06-13T17:54:43.050Z"
   },
   {
    "duration": 36,
    "start_time": "2023-06-13T17:56:25.274Z"
   },
   {
    "duration": 14,
    "start_time": "2023-06-13T17:56:52.410Z"
   },
   {
    "duration": 12,
    "start_time": "2023-06-13T18:00:07.647Z"
   },
   {
    "duration": 3298,
    "start_time": "2023-06-13T18:00:37.376Z"
   },
   {
    "duration": 5,
    "start_time": "2023-06-13T18:01:09.508Z"
   },
   {
    "duration": 36,
    "start_time": "2023-06-13T18:01:09.514Z"
   },
   {
    "duration": 455,
    "start_time": "2023-06-13T18:01:09.552Z"
   },
   {
    "duration": 111,
    "start_time": "2023-06-13T18:01:10.009Z"
   },
   {
    "duration": 456,
    "start_time": "2023-06-13T18:01:10.122Z"
   },
   {
    "duration": 260,
    "start_time": "2023-06-13T18:01:10.580Z"
   },
   {
    "duration": 156,
    "start_time": "2023-06-13T18:01:10.842Z"
   },
   {
    "duration": 290,
    "start_time": "2023-06-13T18:01:10.999Z"
   },
   {
    "duration": 149,
    "start_time": "2023-06-13T18:01:11.290Z"
   },
   {
    "duration": 21,
    "start_time": "2023-06-13T18:01:11.450Z"
   },
   {
    "duration": 186,
    "start_time": "2023-06-13T18:01:11.473Z"
   },
   {
    "duration": 17,
    "start_time": "2023-06-13T18:01:11.661Z"
   },
   {
    "duration": 83,
    "start_time": "2023-06-13T18:01:11.679Z"
   },
   {
    "duration": 19,
    "start_time": "2023-06-13T18:01:11.764Z"
   },
   {
    "duration": 31,
    "start_time": "2023-06-13T18:01:11.784Z"
   },
   {
    "duration": 46,
    "start_time": "2023-06-13T18:01:11.816Z"
   },
   {
    "duration": 12,
    "start_time": "2023-06-13T18:01:11.863Z"
   },
   {
    "duration": 20,
    "start_time": "2023-06-13T18:01:11.876Z"
   },
   {
    "duration": 249,
    "start_time": "2023-06-13T18:01:11.897Z"
   },
   {
    "duration": 9,
    "start_time": "2023-06-13T18:01:12.147Z"
   },
   {
    "duration": 17,
    "start_time": "2023-06-13T18:01:12.157Z"
   },
   {
    "duration": 65,
    "start_time": "2023-06-13T18:01:12.175Z"
   },
   {
    "duration": 116,
    "start_time": "2023-06-13T18:01:12.241Z"
   },
   {
    "duration": 96,
    "start_time": "2023-06-13T18:01:12.359Z"
   },
   {
    "duration": 22,
    "start_time": "2023-06-13T18:02:45.150Z"
   },
   {
    "duration": 26,
    "start_time": "2023-06-13T18:03:21.731Z"
   },
   {
    "duration": 15,
    "start_time": "2023-06-13T18:03:36.211Z"
   },
   {
    "duration": 4,
    "start_time": "2023-06-13T18:04:10.975Z"
   },
   {
    "duration": 66,
    "start_time": "2023-06-13T18:04:10.981Z"
   },
   {
    "duration": 410,
    "start_time": "2023-06-13T18:04:11.049Z"
   },
   {
    "duration": 95,
    "start_time": "2023-06-13T18:04:11.460Z"
   },
   {
    "duration": 454,
    "start_time": "2023-06-13T18:04:11.557Z"
   },
   {
    "duration": 337,
    "start_time": "2023-06-13T18:04:12.012Z"
   },
   {
    "duration": 204,
    "start_time": "2023-06-13T18:04:12.353Z"
   },
   {
    "duration": 369,
    "start_time": "2023-06-13T18:04:12.559Z"
   },
   {
    "duration": 135,
    "start_time": "2023-06-13T18:04:12.929Z"
   },
   {
    "duration": 32,
    "start_time": "2023-06-13T18:04:13.071Z"
   },
   {
    "duration": 120,
    "start_time": "2023-06-13T18:04:13.104Z"
   },
   {
    "duration": 22,
    "start_time": "2023-06-13T18:04:13.225Z"
   },
   {
    "duration": 42,
    "start_time": "2023-06-13T18:04:13.249Z"
   },
   {
    "duration": 38,
    "start_time": "2023-06-13T18:04:13.293Z"
   },
   {
    "duration": 41,
    "start_time": "2023-06-13T18:04:13.332Z"
   },
   {
    "duration": 21,
    "start_time": "2023-06-13T18:04:13.374Z"
   },
   {
    "duration": 98,
    "start_time": "2023-06-13T18:04:13.398Z"
   },
   {
    "duration": 75,
    "start_time": "2023-06-13T18:04:13.498Z"
   },
   {
    "duration": 76,
    "start_time": "2023-06-13T18:04:13.574Z"
   },
   {
    "duration": 14,
    "start_time": "2023-06-13T18:04:13.651Z"
   },
   {
    "duration": 108,
    "start_time": "2023-06-13T18:04:13.666Z"
   },
   {
    "duration": 122,
    "start_time": "2023-06-13T18:04:13.775Z"
   },
   {
    "duration": 61,
    "start_time": "2023-06-13T18:04:13.898Z"
   },
   {
    "duration": 16,
    "start_time": "2023-06-13T18:04:13.960Z"
   },
   {
    "duration": 14,
    "start_time": "2023-06-13T18:04:13.977Z"
   },
   {
    "duration": 62,
    "start_time": "2023-06-13T18:04:13.992Z"
   },
   {
    "duration": 4,
    "start_time": "2023-06-13T18:04:42.769Z"
   },
   {
    "duration": 5,
    "start_time": "2023-06-13T18:04:42.775Z"
   },
   {
    "duration": 508,
    "start_time": "2023-06-13T18:04:42.781Z"
   },
   {
    "duration": 110,
    "start_time": "2023-06-13T18:04:43.291Z"
   },
   {
    "duration": 638,
    "start_time": "2023-06-13T18:04:43.402Z"
   },
   {
    "duration": 262,
    "start_time": "2023-06-13T18:04:44.044Z"
   },
   {
    "duration": 195,
    "start_time": "2023-06-13T18:04:44.308Z"
   },
   {
    "duration": 332,
    "start_time": "2023-06-13T18:04:44.507Z"
   },
   {
    "duration": 209,
    "start_time": "2023-06-13T18:04:44.841Z"
   },
   {
    "duration": 18,
    "start_time": "2023-06-13T18:04:45.054Z"
   },
   {
    "duration": 131,
    "start_time": "2023-06-13T18:04:45.073Z"
   },
   {
    "duration": 26,
    "start_time": "2023-06-13T18:04:45.208Z"
   },
   {
    "duration": 33,
    "start_time": "2023-06-13T18:04:45.236Z"
   },
   {
    "duration": 20,
    "start_time": "2023-06-13T18:04:45.271Z"
   },
   {
    "duration": 36,
    "start_time": "2023-06-13T18:04:45.292Z"
   },
   {
    "duration": 34,
    "start_time": "2023-06-13T18:04:45.329Z"
   },
   {
    "duration": 51,
    "start_time": "2023-06-13T18:04:45.365Z"
   },
   {
    "duration": 43,
    "start_time": "2023-06-13T18:04:45.417Z"
   },
   {
    "duration": 45,
    "start_time": "2023-06-13T18:04:45.462Z"
   },
   {
    "duration": 6,
    "start_time": "2023-06-13T18:04:45.508Z"
   },
   {
    "duration": 44,
    "start_time": "2023-06-13T18:04:45.516Z"
   },
   {
    "duration": 21,
    "start_time": "2023-06-13T18:04:45.561Z"
   },
   {
    "duration": 68,
    "start_time": "2023-06-13T18:04:45.583Z"
   },
   {
    "duration": 17,
    "start_time": "2023-06-13T18:04:45.652Z"
   },
   {
    "duration": 32,
    "start_time": "2023-06-13T18:04:45.670Z"
   },
   {
    "duration": 57,
    "start_time": "2023-06-13T18:04:45.704Z"
   },
   {
    "duration": 1555,
    "start_time": "2023-06-13T19:07:43.318Z"
   },
   {
    "duration": 379,
    "start_time": "2023-06-13T19:35:50.266Z"
   },
   {
    "duration": 3893,
    "start_time": "2023-06-13T19:36:20.416Z"
   },
   {
    "duration": 3525,
    "start_time": "2023-06-13T19:37:24.815Z"
   },
   {
    "duration": 1195,
    "start_time": "2023-06-13T19:39:40.839Z"
   },
   {
    "duration": 270,
    "start_time": "2023-06-13T19:42:19.686Z"
   },
   {
    "duration": 166,
    "start_time": "2023-06-13T19:42:37.762Z"
   },
   {
    "duration": 1351,
    "start_time": "2023-06-13T19:42:48.524Z"
   },
   {
    "duration": 1023,
    "start_time": "2023-06-13T19:44:24.619Z"
   },
   {
    "duration": 1097,
    "start_time": "2023-06-13T19:47:45.261Z"
   },
   {
    "duration": 922,
    "start_time": "2023-06-13T19:48:19.402Z"
   },
   {
    "duration": 1033,
    "start_time": "2023-06-13T19:54:32.815Z"
   },
   {
    "duration": 1419,
    "start_time": "2023-06-13T20:01:03.979Z"
   },
   {
    "duration": 1324,
    "start_time": "2023-06-13T20:02:07.398Z"
   },
   {
    "duration": 82,
    "start_time": "2023-06-14T18:16:26.722Z"
   },
   {
    "duration": 3345,
    "start_time": "2023-06-14T18:16:34.224Z"
   },
   {
    "duration": 3,
    "start_time": "2023-06-14T18:16:37.572Z"
   },
   {
    "duration": 1145,
    "start_time": "2023-06-14T18:16:37.577Z"
   },
   {
    "duration": 154,
    "start_time": "2023-06-14T18:16:38.725Z"
   },
   {
    "duration": 1133,
    "start_time": "2023-06-14T18:16:38.881Z"
   },
   {
    "duration": 304,
    "start_time": "2023-06-14T18:16:40.016Z"
   },
   {
    "duration": 198,
    "start_time": "2023-06-14T18:16:40.322Z"
   },
   {
    "duration": 347,
    "start_time": "2023-06-14T18:16:40.522Z"
   },
   {
    "duration": 151,
    "start_time": "2023-06-14T18:16:40.871Z"
   },
   {
    "duration": 28,
    "start_time": "2023-06-14T18:16:41.025Z"
   },
   {
    "duration": 137,
    "start_time": "2023-06-14T18:16:41.055Z"
   },
   {
    "duration": 23,
    "start_time": "2023-06-14T18:16:41.193Z"
   },
   {
    "duration": 36,
    "start_time": "2023-06-14T18:16:41.218Z"
   },
   {
    "duration": 43,
    "start_time": "2023-06-14T18:16:41.256Z"
   },
   {
    "duration": 4,
    "start_time": "2023-06-14T18:16:41.300Z"
   },
   {
    "duration": 38,
    "start_time": "2023-06-14T18:16:41.305Z"
   },
   {
    "duration": 34,
    "start_time": "2023-06-14T18:16:41.345Z"
   },
   {
    "duration": 88,
    "start_time": "2023-06-14T18:16:41.381Z"
   },
   {
    "duration": 44,
    "start_time": "2023-06-14T18:16:41.471Z"
   },
   {
    "duration": 14,
    "start_time": "2023-06-14T18:16:41.517Z"
   },
   {
    "duration": 62,
    "start_time": "2023-06-14T18:16:41.533Z"
   },
   {
    "duration": 65,
    "start_time": "2023-06-14T18:16:41.597Z"
   },
   {
    "duration": 54,
    "start_time": "2023-06-14T18:16:41.664Z"
   },
   {
    "duration": 57,
    "start_time": "2023-06-14T18:16:41.720Z"
   },
   {
    "duration": 86,
    "start_time": "2023-06-14T18:16:41.779Z"
   },
   {
    "duration": 56,
    "start_time": "2023-06-14T18:16:41.867Z"
   },
   {
    "duration": 1041,
    "start_time": "2023-06-14T18:16:41.926Z"
   },
   {
    "duration": 318,
    "start_time": "2023-06-14T18:16:42.970Z"
   },
   {
    "duration": 544,
    "start_time": "2023-06-14T18:17:10.692Z"
   },
   {
    "duration": 508,
    "start_time": "2023-06-14T18:17:54.985Z"
   },
   {
    "duration": 501,
    "start_time": "2023-06-14T18:18:40.177Z"
   },
   {
    "duration": 480,
    "start_time": "2023-06-14T18:21:04.875Z"
   },
   {
    "duration": 771,
    "start_time": "2023-06-14T18:21:24.921Z"
   },
   {
    "duration": 1515,
    "start_time": "2023-06-14T18:23:44.835Z"
   },
   {
    "duration": 436,
    "start_time": "2023-06-14T18:25:38.518Z"
   },
   {
    "duration": 440,
    "start_time": "2023-06-14T18:26:46.080Z"
   },
   {
    "duration": 945,
    "start_time": "2023-06-14T18:28:21.879Z"
   },
   {
    "duration": 492,
    "start_time": "2023-06-14T18:28:36.886Z"
   },
   {
    "duration": 251,
    "start_time": "2023-06-14T18:31:22.437Z"
   },
   {
    "duration": 1862,
    "start_time": "2023-06-14T18:31:39.313Z"
   },
   {
    "duration": 82,
    "start_time": "2023-06-14T18:47:18.300Z"
   },
   {
    "duration": 10,
    "start_time": "2023-06-14T18:47:58.020Z"
   },
   {
    "duration": 11,
    "start_time": "2023-06-14T18:49:01.271Z"
   },
   {
    "duration": 16,
    "start_time": "2023-06-14T18:50:24.696Z"
   },
   {
    "duration": 1412,
    "start_time": "2023-06-14T18:50:44.610Z"
   },
   {
    "duration": 10,
    "start_time": "2023-06-14T18:55:47.994Z"
   },
   {
    "duration": 10,
    "start_time": "2023-06-14T19:00:19.114Z"
   },
   {
    "duration": 123,
    "start_time": "2023-06-14T19:04:17.135Z"
   },
   {
    "duration": 11,
    "start_time": "2023-06-14T19:04:39.793Z"
   },
   {
    "duration": 11,
    "start_time": "2023-06-14T19:07:16.589Z"
   },
   {
    "duration": 10,
    "start_time": "2023-06-14T19:07:26.638Z"
   },
   {
    "duration": 620,
    "start_time": "2023-06-14T19:16:35.208Z"
   },
   {
    "duration": 1818,
    "start_time": "2023-06-14T19:17:10.384Z"
   },
   {
    "duration": 1682,
    "start_time": "2023-06-14T19:17:50.906Z"
   },
   {
    "duration": 10,
    "start_time": "2023-06-14T19:43:36.685Z"
   },
   {
    "duration": 10,
    "start_time": "2023-06-14T19:43:53.001Z"
   },
   {
    "duration": 12,
    "start_time": "2023-06-14T19:44:15.139Z"
   },
   {
    "duration": 11,
    "start_time": "2023-06-14T19:44:29.126Z"
   },
   {
    "duration": 2548,
    "start_time": "2023-06-14T19:44:36.491Z"
   },
   {
    "duration": 1605,
    "start_time": "2023-06-14T19:47:00.950Z"
   },
   {
    "duration": 23,
    "start_time": "2023-06-14T19:49:14.178Z"
   },
   {
    "duration": 25,
    "start_time": "2023-06-14T19:50:02.886Z"
   },
   {
    "duration": 24,
    "start_time": "2023-06-14T19:50:08.539Z"
   },
   {
    "duration": 33,
    "start_time": "2023-06-14T19:50:40.038Z"
   },
   {
    "duration": 20,
    "start_time": "2023-06-14T19:51:10.202Z"
   },
   {
    "duration": 29,
    "start_time": "2023-06-14T19:52:38.634Z"
   },
   {
    "duration": 21,
    "start_time": "2023-06-14T19:52:55.322Z"
   },
   {
    "duration": 19,
    "start_time": "2023-06-14T19:53:52.719Z"
   },
   {
    "duration": 5,
    "start_time": "2023-06-14T20:08:32.662Z"
   },
   {
    "duration": 3,
    "start_time": "2023-06-14T20:12:03.335Z"
   },
   {
    "duration": 3,
    "start_time": "2023-06-14T20:13:01.300Z"
   },
   {
    "duration": 3,
    "start_time": "2023-06-14T20:20:07.603Z"
   },
   {
    "duration": 3,
    "start_time": "2023-06-14T20:20:59.431Z"
   },
   {
    "duration": 13,
    "start_time": "2023-06-14T20:31:10.462Z"
   },
   {
    "duration": 13,
    "start_time": "2023-06-14T20:31:31.797Z"
   },
   {
    "duration": 13,
    "start_time": "2023-06-14T20:32:06.352Z"
   },
   {
    "duration": 11,
    "start_time": "2023-06-14T20:32:29.123Z"
   },
   {
    "duration": 11,
    "start_time": "2023-06-14T20:32:51.885Z"
   },
   {
    "duration": 5,
    "start_time": "2023-06-14T20:39:04.409Z"
   },
   {
    "duration": 6,
    "start_time": "2023-06-14T20:43:11.026Z"
   },
   {
    "duration": 26,
    "start_time": "2023-06-14T20:46:14.152Z"
   },
   {
    "duration": 21,
    "start_time": "2023-06-14T20:46:38.082Z"
   },
   {
    "duration": 18,
    "start_time": "2023-06-14T20:47:00.602Z"
   },
   {
    "duration": 15,
    "start_time": "2023-06-14T20:47:10.694Z"
   },
   {
    "duration": 10,
    "start_time": "2023-06-14T20:47:57.914Z"
   },
   {
    "duration": 4,
    "start_time": "2023-06-14T20:51:30.492Z"
   },
   {
    "duration": 5,
    "start_time": "2023-06-14T21:06:24.928Z"
   },
   {
    "duration": 8,
    "start_time": "2023-06-14T21:11:35.111Z"
   },
   {
    "duration": 12,
    "start_time": "2023-06-14T21:11:37.309Z"
   },
   {
    "duration": 10,
    "start_time": "2023-06-14T21:16:34.764Z"
   },
   {
    "duration": 4,
    "start_time": "2023-06-14T21:17:43.810Z"
   },
   {
    "duration": 3,
    "start_time": "2023-06-14T21:18:01.906Z"
   },
   {
    "duration": 3,
    "start_time": "2023-06-14T21:19:13.436Z"
   },
   {
    "duration": 15,
    "start_time": "2023-06-14T21:34:31.701Z"
   },
   {
    "duration": 15,
    "start_time": "2023-06-14T21:36:13.310Z"
   },
   {
    "duration": 11,
    "start_time": "2023-06-14T21:37:55.032Z"
   },
   {
    "duration": 19,
    "start_time": "2023-06-14T21:40:07.897Z"
   },
   {
    "duration": 761,
    "start_time": "2023-06-14T21:46:07.767Z"
   },
   {
    "duration": 24033,
    "start_time": "2023-06-14T21:46:56.665Z"
   },
   {
    "duration": 5,
    "start_time": "2023-06-14T21:47:53.958Z"
   },
   {
    "duration": 24471,
    "start_time": "2023-06-14T21:48:01.564Z"
   },
   {
    "duration": 52,
    "start_time": "2023-06-15T08:01:36.981Z"
   },
   {
    "duration": 1564,
    "start_time": "2023-06-15T08:01:44.390Z"
   },
   {
    "duration": 3,
    "start_time": "2023-06-15T08:01:45.956Z"
   },
   {
    "duration": 878,
    "start_time": "2023-06-15T08:01:45.961Z"
   },
   {
    "duration": 131,
    "start_time": "2023-06-15T08:01:46.841Z"
   },
   {
    "duration": 1061,
    "start_time": "2023-06-15T08:01:46.974Z"
   },
   {
    "duration": 296,
    "start_time": "2023-06-15T08:01:48.037Z"
   },
   {
    "duration": 183,
    "start_time": "2023-06-15T08:01:48.335Z"
   },
   {
    "duration": 300,
    "start_time": "2023-06-15T08:01:48.520Z"
   },
   {
    "duration": 126,
    "start_time": "2023-06-15T08:01:48.821Z"
   },
   {
    "duration": 20,
    "start_time": "2023-06-15T08:01:48.951Z"
   },
   {
    "duration": 110,
    "start_time": "2023-06-15T08:01:48.972Z"
   },
   {
    "duration": 21,
    "start_time": "2023-06-15T08:01:49.083Z"
   },
   {
    "duration": 14,
    "start_time": "2023-06-15T08:01:49.105Z"
   },
   {
    "duration": 45,
    "start_time": "2023-06-15T08:01:49.120Z"
   },
   {
    "duration": 4,
    "start_time": "2023-06-15T08:01:49.166Z"
   },
   {
    "duration": 16,
    "start_time": "2023-06-15T08:01:49.172Z"
   },
   {
    "duration": 6,
    "start_time": "2023-06-15T08:01:49.190Z"
   },
   {
    "duration": 13,
    "start_time": "2023-06-15T08:01:49.198Z"
   },
   {
    "duration": 63,
    "start_time": "2023-06-15T08:01:49.213Z"
   },
   {
    "duration": 2,
    "start_time": "2023-06-15T08:01:49.278Z"
   },
   {
    "duration": 11,
    "start_time": "2023-06-15T08:01:49.282Z"
   },
   {
    "duration": 18,
    "start_time": "2023-06-15T08:01:49.294Z"
   },
   {
    "duration": 13,
    "start_time": "2023-06-15T08:01:49.314Z"
   },
   {
    "duration": 7,
    "start_time": "2023-06-15T08:01:49.328Z"
   },
   {
    "duration": 25,
    "start_time": "2023-06-15T08:01:49.351Z"
   },
   {
    "duration": 101,
    "start_time": "2023-06-15T08:01:49.377Z"
   },
   {
    "duration": 0,
    "start_time": "2023-06-15T08:01:49.480Z"
   },
   {
    "duration": 0,
    "start_time": "2023-06-15T08:01:49.481Z"
   },
   {
    "duration": 0,
    "start_time": "2023-06-15T08:01:49.483Z"
   },
   {
    "duration": 0,
    "start_time": "2023-06-15T08:01:49.485Z"
   },
   {
    "duration": 0,
    "start_time": "2023-06-15T08:01:49.486Z"
   },
   {
    "duration": 0,
    "start_time": "2023-06-15T08:01:49.487Z"
   },
   {
    "duration": 0,
    "start_time": "2023-06-15T08:01:49.489Z"
   },
   {
    "duration": 0,
    "start_time": "2023-06-15T08:01:49.491Z"
   },
   {
    "duration": 0,
    "start_time": "2023-06-15T08:01:49.492Z"
   },
   {
    "duration": 0,
    "start_time": "2023-06-15T08:01:49.493Z"
   },
   {
    "duration": 0,
    "start_time": "2023-06-15T08:01:49.495Z"
   },
   {
    "duration": 0,
    "start_time": "2023-06-15T08:01:49.496Z"
   },
   {
    "duration": 0,
    "start_time": "2023-06-15T08:01:49.498Z"
   },
   {
    "duration": 0,
    "start_time": "2023-06-15T08:01:49.500Z"
   },
   {
    "duration": 0,
    "start_time": "2023-06-15T08:01:49.501Z"
   },
   {
    "duration": 0,
    "start_time": "2023-06-15T08:01:49.503Z"
   },
   {
    "duration": 0,
    "start_time": "2023-06-15T08:01:49.504Z"
   },
   {
    "duration": 5,
    "start_time": "2023-06-15T08:02:59.912Z"
   },
   {
    "duration": 20,
    "start_time": "2023-06-15T08:02:59.919Z"
   },
   {
    "duration": 313,
    "start_time": "2023-06-15T08:02:59.941Z"
   },
   {
    "duration": 70,
    "start_time": "2023-06-15T08:03:00.256Z"
   },
   {
    "duration": 386,
    "start_time": "2023-06-15T08:03:00.328Z"
   },
   {
    "duration": 282,
    "start_time": "2023-06-15T08:03:00.716Z"
   },
   {
    "duration": 180,
    "start_time": "2023-06-15T08:03:00.999Z"
   },
   {
    "duration": 384,
    "start_time": "2023-06-15T08:03:01.181Z"
   },
   {
    "duration": 126,
    "start_time": "2023-06-15T08:03:01.566Z"
   },
   {
    "duration": 20,
    "start_time": "2023-06-15T08:03:01.694Z"
   },
   {
    "duration": 112,
    "start_time": "2023-06-15T08:03:01.716Z"
   },
   {
    "duration": 26,
    "start_time": "2023-06-15T08:03:01.829Z"
   },
   {
    "duration": 36,
    "start_time": "2023-06-15T08:03:01.858Z"
   },
   {
    "duration": 60,
    "start_time": "2023-06-15T08:03:01.897Z"
   },
   {
    "duration": 31,
    "start_time": "2023-06-15T08:03:01.959Z"
   },
   {
    "duration": 52,
    "start_time": "2023-06-15T08:03:01.992Z"
   },
   {
    "duration": 24,
    "start_time": "2023-06-15T08:03:02.046Z"
   },
   {
    "duration": 34,
    "start_time": "2023-06-15T08:03:02.072Z"
   },
   {
    "duration": 64,
    "start_time": "2023-06-15T08:03:02.107Z"
   },
   {
    "duration": 3,
    "start_time": "2023-06-15T08:03:02.172Z"
   },
   {
    "duration": 30,
    "start_time": "2023-06-15T08:03:02.177Z"
   },
   {
    "duration": 39,
    "start_time": "2023-06-15T08:03:02.209Z"
   },
   {
    "duration": 26,
    "start_time": "2023-06-15T08:03:02.250Z"
   },
   {
    "duration": 58,
    "start_time": "2023-06-15T08:03:02.278Z"
   },
   {
    "duration": 40,
    "start_time": "2023-06-15T08:03:02.338Z"
   },
   {
    "duration": 26,
    "start_time": "2023-06-15T08:03:02.380Z"
   },
   {
    "duration": 839,
    "start_time": "2023-06-15T08:03:02.408Z"
   },
   {
    "duration": 1816,
    "start_time": "2023-06-15T08:03:03.248Z"
   },
   {
    "duration": 9,
    "start_time": "2023-06-15T08:03:05.066Z"
   },
   {
    "duration": 30,
    "start_time": "2023-06-15T08:03:05.076Z"
   },
   {
    "duration": 42,
    "start_time": "2023-06-15T08:03:05.108Z"
   },
   {
    "duration": 43,
    "start_time": "2023-06-15T08:03:05.151Z"
   },
   {
    "duration": 2151,
    "start_time": "2023-06-15T08:03:05.195Z"
   },
   {
    "duration": 21,
    "start_time": "2023-06-15T08:03:07.348Z"
   },
   {
    "duration": 14,
    "start_time": "2023-06-15T08:03:07.371Z"
   },
   {
    "duration": 4,
    "start_time": "2023-06-15T08:03:07.386Z"
   },
   {
    "duration": 17,
    "start_time": "2023-06-15T08:03:07.391Z"
   },
   {
    "duration": 17,
    "start_time": "2023-06-15T08:03:07.410Z"
   },
   {
    "duration": 28,
    "start_time": "2023-06-15T08:03:07.429Z"
   },
   {
    "duration": 11,
    "start_time": "2023-06-15T08:03:07.459Z"
   },
   {
    "duration": 3,
    "start_time": "2023-06-15T08:03:07.473Z"
   },
   {
    "duration": 8,
    "start_time": "2023-06-15T08:03:07.477Z"
   },
   {
    "duration": 22730,
    "start_time": "2023-06-15T08:03:07.487Z"
   },
   {
    "duration": 49309,
    "start_time": "2023-06-15T08:03:47.205Z"
   },
   {
    "duration": 51867,
    "start_time": "2023-06-15T08:18:34.055Z"
   },
   {
    "duration": 54824,
    "start_time": "2023-06-15T08:20:48.497Z"
   },
   {
    "duration": 50907,
    "start_time": "2023-06-15T08:22:30.665Z"
   },
   {
    "duration": 1724,
    "start_time": "2023-06-15T09:06:37.702Z"
   },
   {
    "duration": 3,
    "start_time": "2023-06-15T09:06:39.428Z"
   },
   {
    "duration": 325,
    "start_time": "2023-06-15T09:06:39.432Z"
   },
   {
    "duration": 76,
    "start_time": "2023-06-15T09:06:39.766Z"
   },
   {
    "duration": 424,
    "start_time": "2023-06-15T09:06:39.845Z"
   },
   {
    "duration": 301,
    "start_time": "2023-06-15T09:06:40.270Z"
   },
   {
    "duration": 172,
    "start_time": "2023-06-15T09:06:40.573Z"
   },
   {
    "duration": 317,
    "start_time": "2023-06-15T09:06:40.751Z"
   },
   {
    "duration": 134,
    "start_time": "2023-06-15T09:06:41.070Z"
   },
   {
    "duration": 22,
    "start_time": "2023-06-15T09:06:41.206Z"
   },
   {
    "duration": 110,
    "start_time": "2023-06-15T09:06:41.230Z"
   },
   {
    "duration": 41,
    "start_time": "2023-06-15T09:06:41.342Z"
   },
   {
    "duration": 23,
    "start_time": "2023-06-15T09:06:41.385Z"
   },
   {
    "duration": 33,
    "start_time": "2023-06-15T09:06:41.412Z"
   },
   {
    "duration": 3,
    "start_time": "2023-06-15T09:06:41.447Z"
   },
   {
    "duration": 58,
    "start_time": "2023-06-15T09:06:41.452Z"
   },
   {
    "duration": 8,
    "start_time": "2023-06-15T09:06:41.512Z"
   },
   {
    "duration": 17,
    "start_time": "2023-06-15T09:06:41.521Z"
   },
   {
    "duration": 59,
    "start_time": "2023-06-15T09:06:41.540Z"
   },
   {
    "duration": 2,
    "start_time": "2023-06-15T09:06:41.601Z"
   },
   {
    "duration": 33,
    "start_time": "2023-06-15T09:06:41.605Z"
   },
   {
    "duration": 28,
    "start_time": "2023-06-15T09:06:41.640Z"
   },
   {
    "duration": 21,
    "start_time": "2023-06-15T09:06:41.670Z"
   },
   {
    "duration": 46,
    "start_time": "2023-06-15T09:06:41.692Z"
   },
   {
    "duration": 50,
    "start_time": "2023-06-15T09:06:41.740Z"
   },
   {
    "duration": 15,
    "start_time": "2023-06-15T09:06:41.793Z"
   },
   {
    "duration": 969,
    "start_time": "2023-06-15T09:06:41.810Z"
   },
   {
    "duration": 2115,
    "start_time": "2023-06-15T09:06:42.781Z"
   },
   {
    "duration": 11,
    "start_time": "2023-06-15T09:06:44.898Z"
   },
   {
    "duration": 31,
    "start_time": "2023-06-15T09:06:44.911Z"
   },
   {
    "duration": 23,
    "start_time": "2023-06-15T09:06:44.944Z"
   },
   {
    "duration": 20,
    "start_time": "2023-06-15T09:06:44.969Z"
   },
   {
    "duration": 2395,
    "start_time": "2023-06-15T09:06:44.991Z"
   },
   {
    "duration": 21,
    "start_time": "2023-06-15T09:06:47.388Z"
   },
   {
    "duration": 15,
    "start_time": "2023-06-15T09:06:47.411Z"
   },
   {
    "duration": 25,
    "start_time": "2023-06-15T09:06:47.429Z"
   },
   {
    "duration": 4,
    "start_time": "2023-06-15T09:06:47.455Z"
   },
   {
    "duration": 25,
    "start_time": "2023-06-15T09:06:47.464Z"
   },
   {
    "duration": 20,
    "start_time": "2023-06-15T09:06:47.491Z"
   },
   {
    "duration": 14,
    "start_time": "2023-06-15T09:06:47.512Z"
   },
   {
    "duration": 3,
    "start_time": "2023-06-15T09:06:47.530Z"
   },
   {
    "duration": 1478,
    "start_time": "2023-06-15T09:07:26.203Z"
   },
   {
    "duration": 3,
    "start_time": "2023-06-15T09:07:27.683Z"
   },
   {
    "duration": 337,
    "start_time": "2023-06-15T09:07:27.688Z"
   },
   {
    "duration": 81,
    "start_time": "2023-06-15T09:07:28.027Z"
   },
   {
    "duration": 462,
    "start_time": "2023-06-15T09:07:28.111Z"
   },
   {
    "duration": 321,
    "start_time": "2023-06-15T09:07:28.576Z"
   },
   {
    "duration": 192,
    "start_time": "2023-06-15T09:07:28.899Z"
   },
   {
    "duration": 324,
    "start_time": "2023-06-15T09:07:29.093Z"
   },
   {
    "duration": 146,
    "start_time": "2023-06-15T09:07:29.419Z"
   },
   {
    "duration": 26,
    "start_time": "2023-06-15T09:07:29.572Z"
   },
   {
    "duration": 118,
    "start_time": "2023-06-15T09:07:29.600Z"
   },
   {
    "duration": 47,
    "start_time": "2023-06-15T09:07:29.720Z"
   },
   {
    "duration": 18,
    "start_time": "2023-06-15T09:07:29.769Z"
   },
   {
    "duration": 29,
    "start_time": "2023-06-15T09:07:29.790Z"
   },
   {
    "duration": 4,
    "start_time": "2023-06-15T09:07:29.821Z"
   },
   {
    "duration": 33,
    "start_time": "2023-06-15T09:07:29.827Z"
   },
   {
    "duration": 11,
    "start_time": "2023-06-15T09:07:29.861Z"
   },
   {
    "duration": 16,
    "start_time": "2023-06-15T09:07:29.874Z"
   },
   {
    "duration": 51,
    "start_time": "2023-06-15T09:07:29.892Z"
   },
   {
    "duration": 9,
    "start_time": "2023-06-15T09:07:29.945Z"
   },
   {
    "duration": 30,
    "start_time": "2023-06-15T09:07:29.960Z"
   },
   {
    "duration": 22,
    "start_time": "2023-06-15T09:07:29.992Z"
   },
   {
    "duration": 33,
    "start_time": "2023-06-15T09:07:30.016Z"
   },
   {
    "duration": 85,
    "start_time": "2023-06-15T09:07:30.052Z"
   },
   {
    "duration": 59,
    "start_time": "2023-06-15T09:07:30.139Z"
   },
   {
    "duration": 83,
    "start_time": "2023-06-15T09:07:30.201Z"
   },
   {
    "duration": 1233,
    "start_time": "2023-06-15T09:07:30.286Z"
   },
   {
    "duration": 2138,
    "start_time": "2023-06-15T09:07:31.521Z"
   },
   {
    "duration": 10,
    "start_time": "2023-06-15T09:07:33.670Z"
   },
   {
    "duration": 11,
    "start_time": "2023-06-15T09:07:33.681Z"
   },
   {
    "duration": 11,
    "start_time": "2023-06-15T09:07:33.694Z"
   },
   {
    "duration": 13,
    "start_time": "2023-06-15T09:07:33.707Z"
   },
   {
    "duration": 2449,
    "start_time": "2023-06-15T09:07:33.723Z"
   },
   {
    "duration": 23,
    "start_time": "2023-06-15T09:07:36.174Z"
   },
   {
    "duration": 16,
    "start_time": "2023-06-15T09:07:36.199Z"
   },
   {
    "duration": 52,
    "start_time": "2023-06-15T09:07:36.216Z"
   },
   {
    "duration": 14,
    "start_time": "2023-06-15T09:07:36.270Z"
   },
   {
    "duration": 43,
    "start_time": "2023-06-15T09:07:36.286Z"
   },
   {
    "duration": 28,
    "start_time": "2023-06-15T09:07:36.331Z"
   },
   {
    "duration": 13,
    "start_time": "2023-06-15T09:07:36.366Z"
   },
   {
    "duration": 2,
    "start_time": "2023-06-15T09:07:36.383Z"
   },
   {
    "duration": 54217,
    "start_time": "2023-06-15T09:07:36.387Z"
   },
   {
    "duration": 1914,
    "start_time": "2023-06-15T10:00:39.783Z"
   },
   {
    "duration": 4,
    "start_time": "2023-06-15T10:00:41.699Z"
   },
   {
    "duration": 534,
    "start_time": "2023-06-15T10:00:41.704Z"
   },
   {
    "duration": 114,
    "start_time": "2023-06-15T10:00:42.240Z"
   },
   {
    "duration": 451,
    "start_time": "2023-06-15T10:00:42.358Z"
   },
   {
    "duration": 334,
    "start_time": "2023-06-15T10:00:42.811Z"
   },
   {
    "duration": 196,
    "start_time": "2023-06-15T10:00:43.146Z"
   },
   {
    "duration": 370,
    "start_time": "2023-06-15T10:00:43.346Z"
   },
   {
    "duration": 154,
    "start_time": "2023-06-15T10:00:43.718Z"
   },
   {
    "duration": 32,
    "start_time": "2023-06-15T10:00:43.877Z"
   },
   {
    "duration": 134,
    "start_time": "2023-06-15T10:00:43.911Z"
   },
   {
    "duration": 31,
    "start_time": "2023-06-15T10:00:44.047Z"
   },
   {
    "duration": 52,
    "start_time": "2023-06-15T10:00:44.081Z"
   },
   {
    "duration": 44,
    "start_time": "2023-06-15T10:00:44.138Z"
   },
   {
    "duration": 27,
    "start_time": "2023-06-15T10:00:44.196Z"
   },
   {
    "duration": 13,
    "start_time": "2023-06-15T10:00:44.225Z"
   },
   {
    "duration": 9,
    "start_time": "2023-06-15T10:00:44.240Z"
   },
   {
    "duration": 52,
    "start_time": "2023-06-15T10:00:44.251Z"
   },
   {
    "duration": 46,
    "start_time": "2023-06-15T10:00:44.305Z"
   },
   {
    "duration": 12,
    "start_time": "2023-06-15T10:00:44.352Z"
   },
   {
    "duration": 46,
    "start_time": "2023-06-15T10:00:44.370Z"
   },
   {
    "duration": 17,
    "start_time": "2023-06-15T10:00:44.418Z"
   },
   {
    "duration": 11,
    "start_time": "2023-06-15T10:00:44.437Z"
   },
   {
    "duration": 54,
    "start_time": "2023-06-15T10:00:44.450Z"
   },
   {
    "duration": 29,
    "start_time": "2023-06-15T10:00:44.508Z"
   },
   {
    "duration": 17,
    "start_time": "2023-06-15T10:00:44.539Z"
   },
   {
    "duration": 1092,
    "start_time": "2023-06-15T10:00:44.558Z"
   },
   {
    "duration": 2374,
    "start_time": "2023-06-15T10:00:45.656Z"
   },
   {
    "duration": 27,
    "start_time": "2023-06-15T10:00:48.032Z"
   },
   {
    "duration": 13,
    "start_time": "2023-06-15T10:00:48.070Z"
   },
   {
    "duration": 45,
    "start_time": "2023-06-15T10:00:48.085Z"
   },
   {
    "duration": 17,
    "start_time": "2023-06-15T10:00:48.132Z"
   },
   {
    "duration": 2994,
    "start_time": "2023-06-15T10:00:48.151Z"
   },
   {
    "duration": 36,
    "start_time": "2023-06-15T10:00:51.147Z"
   },
   {
    "duration": 26,
    "start_time": "2023-06-15T10:00:51.196Z"
   },
   {
    "duration": 10,
    "start_time": "2023-06-15T10:00:51.224Z"
   },
   {
    "duration": 54,
    "start_time": "2023-06-15T10:00:51.236Z"
   },
   {
    "duration": 21,
    "start_time": "2023-06-15T10:00:51.297Z"
   },
   {
    "duration": 26,
    "start_time": "2023-06-15T10:00:51.321Z"
   },
   {
    "duration": 59,
    "start_time": "2023-06-15T10:00:51.349Z"
   },
   {
    "duration": 25,
    "start_time": "2023-06-15T10:00:51.413Z"
   },
   {
    "duration": 59,
    "start_time": "2023-06-15T10:00:51.440Z"
   },
   {
    "duration": 10,
    "start_time": "2023-06-15T10:00:51.502Z"
   },
   {
    "duration": 211,
    "start_time": "2023-06-15T10:00:51.514Z"
   },
   {
    "duration": 81,
    "start_time": "2023-06-15T10:01:16.352Z"
   },
   {
    "duration": 0,
    "start_time": "2023-06-15T10:16:16.372Z"
   },
   {
    "duration": 210906,
    "start_time": "2023-06-15T10:20:16.020Z"
   },
   {
    "duration": 1832,
    "start_time": "2023-06-15T10:24:13.902Z"
   },
   {
    "duration": 3,
    "start_time": "2023-06-15T10:24:15.736Z"
   },
   {
    "duration": 408,
    "start_time": "2023-06-15T10:24:15.741Z"
   },
   {
    "duration": 106,
    "start_time": "2023-06-15T10:24:16.151Z"
   },
   {
    "duration": 442,
    "start_time": "2023-06-15T10:24:16.265Z"
   },
   {
    "duration": 325,
    "start_time": "2023-06-15T10:24:16.709Z"
   },
   {
    "duration": 198,
    "start_time": "2023-06-15T10:24:17.036Z"
   },
   {
    "duration": 336,
    "start_time": "2023-06-15T10:24:17.236Z"
   },
   {
    "duration": 138,
    "start_time": "2023-06-15T10:24:17.573Z"
   },
   {
    "duration": 18,
    "start_time": "2023-06-15T10:24:17.713Z"
   },
   {
    "duration": 145,
    "start_time": "2023-06-15T10:24:17.733Z"
   },
   {
    "duration": 36,
    "start_time": "2023-06-15T10:24:17.883Z"
   },
   {
    "duration": 17,
    "start_time": "2023-06-15T10:24:17.921Z"
   },
   {
    "duration": 40,
    "start_time": "2023-06-15T10:24:17.941Z"
   },
   {
    "duration": 24,
    "start_time": "2023-06-15T10:24:17.983Z"
   },
   {
    "duration": 18,
    "start_time": "2023-06-15T10:24:18.009Z"
   },
   {
    "duration": 7,
    "start_time": "2023-06-15T10:24:18.029Z"
   },
   {
    "duration": 25,
    "start_time": "2023-06-15T10:24:18.038Z"
   },
   {
    "duration": 71,
    "start_time": "2023-06-15T10:24:18.069Z"
   },
   {
    "duration": 2,
    "start_time": "2023-06-15T10:24:18.142Z"
   },
   {
    "duration": 56,
    "start_time": "2023-06-15T10:24:18.146Z"
   },
   {
    "duration": 19,
    "start_time": "2023-06-15T10:24:18.204Z"
   },
   {
    "duration": 6,
    "start_time": "2023-06-15T10:24:18.224Z"
   },
   {
    "duration": 9,
    "start_time": "2023-06-15T10:24:18.232Z"
   },
   {
    "duration": 50,
    "start_time": "2023-06-15T10:24:18.242Z"
   },
   {
    "duration": 21,
    "start_time": "2023-06-15T10:24:18.298Z"
   },
   {
    "duration": 1101,
    "start_time": "2023-06-15T10:24:18.322Z"
   },
   {
    "duration": 2316,
    "start_time": "2023-06-15T10:24:19.425Z"
   },
   {
    "duration": 34,
    "start_time": "2023-06-15T10:24:21.742Z"
   },
   {
    "duration": 33,
    "start_time": "2023-06-15T10:24:21.783Z"
   },
   {
    "duration": 14,
    "start_time": "2023-06-15T10:24:21.818Z"
   },
   {
    "duration": 12,
    "start_time": "2023-06-15T10:24:21.834Z"
   },
   {
    "duration": 2730,
    "start_time": "2023-06-15T10:24:21.847Z"
   },
   {
    "duration": 36,
    "start_time": "2023-06-15T10:24:24.579Z"
   },
   {
    "duration": 17,
    "start_time": "2023-06-15T10:24:24.617Z"
   },
   {
    "duration": 7,
    "start_time": "2023-06-15T10:24:24.636Z"
   },
   {
    "duration": 5,
    "start_time": "2023-06-15T10:24:24.645Z"
   },
   {
    "duration": 71,
    "start_time": "2023-06-15T10:24:24.658Z"
   },
   {
    "duration": 47,
    "start_time": "2023-06-15T10:24:24.731Z"
   },
   {
    "duration": 25,
    "start_time": "2023-06-15T10:24:24.780Z"
   },
   {
    "duration": 8,
    "start_time": "2023-06-15T10:24:24.810Z"
   },
   {
    "duration": 13,
    "start_time": "2023-06-15T10:24:24.820Z"
   },
   {
    "duration": 752472,
    "start_time": "2023-06-15T11:00:51.895Z"
   },
   {
    "duration": 155,
    "start_time": "2023-06-15T11:13:46.794Z"
   },
   {
    "duration": 3851,
    "start_time": "2023-06-15T11:14:13.418Z"
   },
   {
    "duration": 4099,
    "start_time": "2023-06-15T11:14:33.764Z"
   },
   {
    "duration": 8936,
    "start_time": "2023-06-15T11:15:10.345Z"
   },
   {
    "duration": 8616,
    "start_time": "2023-06-15T11:15:40.802Z"
   },
   {
    "duration": 759011,
    "start_time": "2023-06-15T11:16:08.402Z"
   },
   {
    "duration": 5,
    "start_time": "2023-06-15T11:33:32.987Z"
   },
   {
    "duration": 4,
    "start_time": "2023-06-15T11:33:54.803Z"
   },
   {
    "duration": 4,
    "start_time": "2023-06-15T11:34:07.309Z"
   },
   {
    "duration": 50,
    "start_time": "2023-06-15T13:36:42.805Z"
   },
   {
    "duration": 1624,
    "start_time": "2023-06-15T13:36:54.419Z"
   },
   {
    "duration": 4,
    "start_time": "2023-06-15T13:36:56.045Z"
   },
   {
    "duration": 876,
    "start_time": "2023-06-15T13:36:56.050Z"
   },
   {
    "duration": 129,
    "start_time": "2023-06-15T13:36:56.928Z"
   },
   {
    "duration": 1121,
    "start_time": "2023-06-15T13:36:57.059Z"
   },
   {
    "duration": 260,
    "start_time": "2023-06-15T13:36:58.182Z"
   },
   {
    "duration": 169,
    "start_time": "2023-06-15T13:36:58.444Z"
   },
   {
    "duration": 298,
    "start_time": "2023-06-15T13:36:58.615Z"
   },
   {
    "duration": 118,
    "start_time": "2023-06-15T13:36:58.915Z"
   },
   {
    "duration": 19,
    "start_time": "2023-06-15T13:36:59.034Z"
   },
   {
    "duration": 135,
    "start_time": "2023-06-15T13:36:59.056Z"
   },
   {
    "duration": 18,
    "start_time": "2023-06-15T13:36:59.192Z"
   },
   {
    "duration": 28,
    "start_time": "2023-06-15T13:36:59.212Z"
   },
   {
    "duration": 24,
    "start_time": "2023-06-15T13:36:59.243Z"
   },
   {
    "duration": 3,
    "start_time": "2023-06-15T13:36:59.269Z"
   },
   {
    "duration": 20,
    "start_time": "2023-06-15T13:36:59.273Z"
   },
   {
    "duration": 21,
    "start_time": "2023-06-15T13:36:59.295Z"
   },
   {
    "duration": 19,
    "start_time": "2023-06-15T13:36:59.318Z"
   },
   {
    "duration": 49,
    "start_time": "2023-06-15T13:36:59.339Z"
   },
   {
    "duration": 3,
    "start_time": "2023-06-15T13:36:59.390Z"
   },
   {
    "duration": 20,
    "start_time": "2023-06-15T13:36:59.395Z"
   },
   {
    "duration": 24,
    "start_time": "2023-06-15T13:36:59.417Z"
   },
   {
    "duration": 12,
    "start_time": "2023-06-15T13:36:59.443Z"
   },
   {
    "duration": 12,
    "start_time": "2023-06-15T13:36:59.458Z"
   },
   {
    "duration": 33,
    "start_time": "2023-06-15T13:36:59.472Z"
   },
   {
    "duration": 13,
    "start_time": "2023-06-15T13:36:59.508Z"
   },
   {
    "duration": 897,
    "start_time": "2023-06-15T13:36:59.531Z"
   },
   {
    "duration": 1812,
    "start_time": "2023-06-15T13:37:00.430Z"
   },
   {
    "duration": 13,
    "start_time": "2023-06-15T13:37:02.244Z"
   },
   {
    "duration": 30,
    "start_time": "2023-06-15T13:37:02.260Z"
   },
   {
    "duration": 70,
    "start_time": "2023-06-15T13:37:02.292Z"
   },
   {
    "duration": 34,
    "start_time": "2023-06-15T13:37:02.364Z"
   },
   {
    "duration": 2111,
    "start_time": "2023-06-15T13:37:02.400Z"
   },
   {
    "duration": 27,
    "start_time": "2023-06-15T13:37:04.512Z"
   },
   {
    "duration": 14,
    "start_time": "2023-06-15T13:37:04.541Z"
   },
   {
    "duration": 24,
    "start_time": "2023-06-15T13:37:04.557Z"
   },
   {
    "duration": 35,
    "start_time": "2023-06-15T13:37:04.583Z"
   },
   {
    "duration": 24,
    "start_time": "2023-06-15T13:37:04.621Z"
   },
   {
    "duration": 39,
    "start_time": "2023-06-15T13:37:04.648Z"
   },
   {
    "duration": 44,
    "start_time": "2023-06-15T13:37:04.690Z"
   },
   {
    "duration": 19,
    "start_time": "2023-06-15T13:37:04.739Z"
   },
   {
    "duration": 51722,
    "start_time": "2023-06-15T13:37:04.760Z"
   },
   {
    "duration": 613699,
    "start_time": "2023-06-15T13:37:56.485Z"
   },
   {
    "duration": 623413,
    "start_time": "2023-06-15T13:48:10.185Z"
   },
   {
    "duration": 4,
    "start_time": "2023-06-15T13:58:33.600Z"
   },
   {
    "duration": 4030,
    "start_time": "2023-06-15T13:58:33.605Z"
   },
   {
    "duration": 14,
    "start_time": "2023-06-15T13:58:37.637Z"
   },
   {
    "duration": 790,
    "start_time": "2023-06-15T14:12:01.432Z"
   },
   {
    "duration": 805,
    "start_time": "2023-06-15T14:12:13.551Z"
   },
   {
    "duration": 1042,
    "start_time": "2023-06-15T15:57:48.973Z"
   },
   {
    "duration": 1064,
    "start_time": "2023-06-15T15:58:15.388Z"
   },
   {
    "duration": 801,
    "start_time": "2023-06-15T16:00:34.419Z"
   },
   {
    "duration": 1271,
    "start_time": "2023-06-15T16:01:14.049Z"
   },
   {
    "duration": 1222,
    "start_time": "2023-06-15T16:02:18.851Z"
   },
   {
    "duration": 4,
    "start_time": "2023-06-15T16:04:47.700Z"
   },
   {
    "duration": 9,
    "start_time": "2023-06-15T16:14:03.109Z"
   },
   {
    "duration": 8,
    "start_time": "2023-06-15T16:14:38.898Z"
   },
   {
    "duration": 10,
    "start_time": "2023-06-15T16:15:31.291Z"
   },
   {
    "duration": 9,
    "start_time": "2023-06-15T16:15:45.103Z"
   },
   {
    "duration": 9,
    "start_time": "2023-06-15T16:15:48.716Z"
   },
   {
    "duration": 9,
    "start_time": "2023-06-15T16:15:49.511Z"
   },
   {
    "duration": 9,
    "start_time": "2023-06-15T16:15:50.123Z"
   },
   {
    "duration": 9,
    "start_time": "2023-06-15T16:18:25.457Z"
   },
   {
    "duration": 8,
    "start_time": "2023-06-15T16:18:37.245Z"
   },
   {
    "duration": 11,
    "start_time": "2023-06-15T16:25:20.969Z"
   },
   {
    "duration": 792,
    "start_time": "2023-06-15T16:28:07.754Z"
   },
   {
    "duration": 863,
    "start_time": "2023-06-15T16:38:46.571Z"
   },
   {
    "duration": 460,
    "start_time": "2023-06-15T16:40:27.673Z"
   },
   {
    "duration": 514,
    "start_time": "2023-06-15T16:43:19.425Z"
   },
   {
    "duration": 118,
    "start_time": "2023-06-15T16:43:58.116Z"
   },
   {
    "duration": 1025,
    "start_time": "2023-06-15T16:44:15.812Z"
   },
   {
    "duration": 513,
    "start_time": "2023-06-15T16:45:21.322Z"
   },
   {
    "duration": 524,
    "start_time": "2023-06-15T16:46:19.417Z"
   },
   {
    "duration": 91,
    "start_time": "2023-06-15T16:46:25.707Z"
   },
   {
    "duration": 687,
    "start_time": "2023-06-15T16:46:30.348Z"
   },
   {
    "duration": 610,
    "start_time": "2023-06-15T16:47:37.242Z"
   },
   {
    "duration": 106,
    "start_time": "2023-06-15T16:49:16.136Z"
   },
   {
    "duration": 1927,
    "start_time": "2023-06-16T11:14:22.416Z"
   },
   {
    "duration": 3,
    "start_time": "2023-06-16T11:14:24.346Z"
   },
   {
    "duration": 1032,
    "start_time": "2023-06-16T11:14:24.351Z"
   },
   {
    "duration": 154,
    "start_time": "2023-06-16T11:14:25.385Z"
   },
   {
    "duration": 1106,
    "start_time": "2023-06-16T11:14:25.541Z"
   },
   {
    "duration": 286,
    "start_time": "2023-06-16T11:14:26.648Z"
   },
   {
    "duration": 183,
    "start_time": "2023-06-16T11:14:26.936Z"
   },
   {
    "duration": 342,
    "start_time": "2023-06-16T11:14:27.122Z"
   },
   {
    "duration": 161,
    "start_time": "2023-06-16T11:14:27.466Z"
   },
   {
    "duration": 21,
    "start_time": "2023-06-16T11:14:27.629Z"
   },
   {
    "duration": 122,
    "start_time": "2023-06-16T11:14:27.651Z"
   },
   {
    "duration": 28,
    "start_time": "2023-06-16T11:14:27.775Z"
   },
   {
    "duration": 23,
    "start_time": "2023-06-16T11:14:27.805Z"
   },
   {
    "duration": 32,
    "start_time": "2023-06-16T11:14:27.831Z"
   },
   {
    "duration": 11,
    "start_time": "2023-06-16T11:14:27.865Z"
   },
   {
    "duration": 45,
    "start_time": "2023-06-16T11:14:27.878Z"
   },
   {
    "duration": 38,
    "start_time": "2023-06-16T11:14:27.924Z"
   },
   {
    "duration": 19,
    "start_time": "2023-06-16T11:14:27.963Z"
   },
   {
    "duration": 63,
    "start_time": "2023-06-16T11:14:27.983Z"
   },
   {
    "duration": 3,
    "start_time": "2023-06-16T11:14:28.048Z"
   },
   {
    "duration": 25,
    "start_time": "2023-06-16T11:14:28.053Z"
   },
   {
    "duration": 44,
    "start_time": "2023-06-16T11:14:28.081Z"
   },
   {
    "duration": 18,
    "start_time": "2023-06-16T11:14:28.127Z"
   },
   {
    "duration": 23,
    "start_time": "2023-06-16T11:14:28.147Z"
   },
   {
    "duration": 28,
    "start_time": "2023-06-16T11:14:28.172Z"
   },
   {
    "duration": 24,
    "start_time": "2023-06-16T11:14:28.203Z"
   },
   {
    "duration": 1137,
    "start_time": "2023-06-16T11:14:28.230Z"
   },
   {
    "duration": 1131,
    "start_time": "2023-06-16T11:14:29.368Z"
   },
   {
    "duration": 17,
    "start_time": "2023-06-16T11:14:30.501Z"
   },
   {
    "duration": 43,
    "start_time": "2023-06-16T11:14:30.520Z"
   },
   {
    "duration": 30,
    "start_time": "2023-06-16T11:14:30.565Z"
   },
   {
    "duration": 52,
    "start_time": "2023-06-16T11:14:30.597Z"
   },
   {
    "duration": 2380,
    "start_time": "2023-06-16T11:14:30.651Z"
   },
   {
    "duration": 21,
    "start_time": "2023-06-16T11:14:33.033Z"
   },
   {
    "duration": 24,
    "start_time": "2023-06-16T11:14:33.056Z"
   },
   {
    "duration": 44,
    "start_time": "2023-06-16T11:14:33.082Z"
   },
   {
    "duration": 34,
    "start_time": "2023-06-16T11:14:33.128Z"
   },
   {
    "duration": 41,
    "start_time": "2023-06-16T11:14:33.164Z"
   },
   {
    "duration": 32,
    "start_time": "2023-06-16T11:14:33.206Z"
   },
   {
    "duration": 3,
    "start_time": "2023-06-16T11:14:33.240Z"
   },
   {
    "duration": 56546,
    "start_time": "2023-06-16T11:14:33.247Z"
   },
   {
    "duration": 696482,
    "start_time": "2023-06-16T11:15:29.795Z"
   },
   {
    "duration": 731661,
    "start_time": "2023-06-16T11:27:06.279Z"
   },
   {
    "duration": 3,
    "start_time": "2023-06-16T11:39:17.942Z"
   },
   {
    "duration": 8657,
    "start_time": "2023-06-16T11:39:17.947Z"
   },
   {
    "duration": 104,
    "start_time": "2023-06-16T11:39:26.608Z"
   },
   {
    "duration": 894,
    "start_time": "2023-06-16T11:39:26.713Z"
   },
   {
    "duration": 17,
    "start_time": "2023-06-16T11:39:27.609Z"
   }
  ],
  "kernelspec": {
   "display_name": "Python 3 (ipykernel)",
   "language": "python",
   "name": "python3"
  },
  "language_info": {
   "codemirror_mode": {
    "name": "ipython",
    "version": 3
   },
   "file_extension": ".py",
   "mimetype": "text/x-python",
   "name": "python",
   "nbconvert_exporter": "python",
   "pygments_lexer": "ipython3",
   "version": "3.9.5"
  },
  "toc": {
   "base_numbering": 1,
   "nav_menu": {},
   "number_sections": true,
   "sideBar": true,
   "skip_h1_title": true,
   "title_cell": "Содержание",
   "title_sidebar": "Contents",
   "toc_cell": true,
   "toc_position": {
    "height": "calc(100% - 180px)",
    "left": "10px",
    "top": "150px",
    "width": "165px"
   },
   "toc_section_display": true,
   "toc_window_display": true
  }
 },
 "nbformat": 4,
 "nbformat_minor": 2
}
